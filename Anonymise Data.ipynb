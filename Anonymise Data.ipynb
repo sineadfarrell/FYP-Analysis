{
 "cells": [
  {
   "cell_type": "markdown",
   "metadata": {},
   "source": [
    "# Anonymise data"
   ]
  },
  {
   "cell_type": "markdown",
   "metadata": {},
   "source": [
    "### Removing names/email addresses from the survey data \n",
    "#### Save the dataframes to pickle files"
   ]
  },
  {
   "cell_type": "code",
   "execution_count": 2,
   "metadata": {},
   "outputs": [],
   "source": [
    "import json\n",
    "import pickle\n",
    "from pandas.io.json import json_normalize\n",
    "import os\n",
    "import logging\n",
    "import logging.handlers\n",
    "import pandas as pd\n",
    "import numpy as np\n",
    "import glob\n",
    "from datetime import datetime,timedelta\n",
    "from collections import Counter\n",
    "import nltk \n",
    "from functools import reduce\n",
    "import re\n",
    "from scipy.stats import pointbiserialr\n",
    "import matplotlib\n",
    "import matplotlib.pyplot as plt\n",
    "from matplotlib_venn import venn3\n",
    "import matplotlib.pyplot as plt\n",
    "import plotly.express as px\n",
    "%matplotlib inline\n",
    "matplotlib.style.use('ggplot')\n",
    "import seaborn as seabornInstance \n",
    "from sklearn.model_selection import train_test_split \n",
    "from sklearn.linear_model import LinearRegression\n",
    "from sklearn import metrics\n",
    "import seaborn as sns\n",
    "color = sns.color_palette()\n",
    "sns.set_style('darkgrid')"
   ]
  },
  {
   "cell_type": "code",
   "execution_count": 3,
   "metadata": {},
   "outputs": [],
   "source": [
    "def dt_parse(t):\n",
    "    ''' \n",
    "    Function that parses datetime so it can be used to find duration of conversation\n",
    "    INPUT: a string t representing a message timestamp\n",
    "    OUTPUT: a string ret representing the message timestamp in the format %Y-%m-%dT%H:%M\n",
    "    '''\n",
    "    ret = datetime.strptime(t[0:16],'%Y-%m-%dT%H:%M')\n",
    "    return ret "
   ]
  },
  {
   "cell_type": "code",
   "execution_count": 4,
   "metadata": {},
   "outputs": [],
   "source": [
    "def create_utterance_df(rootDir):\n",
    "    '''\n",
    "    Function that traverses subfolders of a root directory \n",
    "    where each subfolder corresponds to a conversation with one of the chatbots.\n",
    "    Each subfolder contains JSON files, each corresponding to a single user message. \n",
    "    '''\n",
    "    \n",
    "    jsdata = []\n",
    "    df = pd.DataFrame(pd.np.empty((0, 7)))\n",
    "    df.columns = ['Username','Duration', 'Chatbot', 'NumberOfTurns', 'Utterance','Word_Count', \"Avg_Utt_Len\"]\n",
    "\n",
    "    for subdir, dirs, files in os.walk(rootDir): # each conversation has its own folder of json files\n",
    "        for dir_ in dirs: # for each conversation\n",
    "            message_timestamps = []\n",
    "            user_utterances = []\n",
    "            char_counts = []\n",
    "            numberOfTurns = 0\n",
    "            word_count = 0\n",
    "            for file in glob.glob(rootDir+dir_+'/'+'*.json'):\n",
    "                with open(file) as f:\n",
    "                    data = json.load(f)\n",
    "                    numberOfTurns += 1\n",
    "                    message_timestamps.append(dt_parse(data['timestamp']))\n",
    "                    user_utterances.append(data['text'])\n",
    "                    for word in (data['text']).split():\n",
    "                        word_count += 1\n",
    "                    char_counts.append(len(data['text']) - data['text'].count(' '))\n",
    "            avg_char_count = np.mean(char_counts)       \n",
    "\n",
    "\n",
    "            #add post interaction survey (Nasoto)\n",
    "\n",
    "            #Duration\n",
    "            maxTime = max(dt for dt in message_timestamps)\n",
    "            minTime = min(dt for dt in message_timestamps)\n",
    "            duration =  maxTime - minTime\n",
    "\n",
    "            #get the information from nasoto inserted\n",
    "            jsdata.append({'Username': data['from']['name'],\n",
    "                           'Duration': duration,'Chatbot': data['recipient']['name'], \n",
    "                           'NumberOfTurns' : numberOfTurns, 'Utterance': user_utterances, \n",
    "                            'Word_Count': word_count, 'Avg_Utt_Len': avg_char_count})\n",
    "\n",
    "\n",
    "\n",
    "    df =  pd.DataFrame.from_records(jsdata)\n",
    "    df[:]['Duration'] / np.timedelta64(1, 'm')\n",
    "    return df  "
   ]
  },
  {
   "cell_type": "markdown",
   "metadata": {},
   "source": [
    "## Interaction DataFrames"
   ]
  },
  {
   "cell_type": "code",
   "execution_count": 5,
   "metadata": {},
   "outputs": [
    {
     "name": "stderr",
     "output_type": "stream",
     "text": [
      "/Users/sineadfarrell/opt/anaconda3/lib/python3.7/site-packages/ipykernel_launcher.py:9: FutureWarning:\n",
      "\n",
      "The pandas.np module is deprecated and will be removed from pandas in a future version. Import numpy directly instead\n",
      "\n"
     ]
    }
   ],
   "source": [
    "df_nasoto = create_utterance_df('webchat-nasoto-userstudy/')\n",
    "df_makoto = create_utterance_df('webchat-makoto-userstudy/')"
   ]
  },
  {
   "cell_type": "markdown",
   "metadata": {},
   "source": [
    "# Survey DataFrames "
   ]
  },
  {
   "cell_type": "code",
   "execution_count": 6,
   "metadata": {},
   "outputs": [],
   "source": [
    "PostMakotoDir = 'surveys-userstudy/Post-Interaction Survey (MAKOTO).csv'\n",
    "df_PostMakoto = pd.read_csv(PostMakotoDir, error_bad_lines=False)\n",
    "df_PostMakoto['Username'] =  df_PostMakoto['Username'].str.replace(r'@ucdconnect.ie', '')"
   ]
  },
  {
   "cell_type": "code",
   "execution_count": 7,
   "metadata": {},
   "outputs": [],
   "source": [
    "PostNasotoDir = 'surveys-userstudy/Post-Interaction Survey (NASOTO).csv'\n",
    "df_PostNasoto = pd.read_csv(PostNasotoDir, error_bad_lines=False)\n",
    "df_PostNasoto['Username'] =  df_PostNasoto['Username'].str.replace(r'@ucdconnect.ie', '')"
   ]
  },
  {
   "cell_type": "markdown",
   "metadata": {},
   "source": [
    "## Demographic Survey"
   ]
  },
  {
   "cell_type": "code",
   "execution_count": 8,
   "metadata": {},
   "outputs": [],
   "source": [
    "PreInteractionPath = 'surveys-userstudy/Pre-Interaction Survey.csv'\n",
    "df_dem = pd.read_csv(PreInteractionPath,  error_bad_lines=False)\n",
    "df_dem['Username'] =  df_dem['Username'].str.replace(r'@ucdconnect.ie', '')"
   ]
  },
  {
   "cell_type": "code",
   "execution_count": 12,
   "metadata": {},
   "outputs": [
    {
     "data": {
      "text/html": [
       "<div>\n",
       "<style scoped>\n",
       "    .dataframe tbody tr th:only-of-type {\n",
       "        vertical-align: middle;\n",
       "    }\n",
       "\n",
       "    .dataframe tbody tr th {\n",
       "        vertical-align: top;\n",
       "    }\n",
       "\n",
       "    .dataframe thead th {\n",
       "        text-align: right;\n",
       "    }\n",
       "</style>\n",
       "<table border=\"1\" class=\"dataframe\">\n",
       "  <thead>\n",
       "    <tr style=\"text-align: right;\">\n",
       "      <th></th>\n",
       "      <th>Timestamp</th>\n",
       "      <th>Username</th>\n",
       "      <th>Did you notice any differences in your interactions with one chatbot over the other? If so what were they.</th>\n",
       "      <th>Which chatbot did you prefer interacting with?</th>\n",
       "      <th>Explain why you preferred interacting with this chatbot?</th>\n",
       "    </tr>\n",
       "  </thead>\n",
       "  <tbody>\n",
       "    <tr>\n",
       "      <th>0</th>\n",
       "      <td>2020/04/11 12:58:39 pm CET</td>\n",
       "      <td>george.ridgway</td>\n",
       "      <td>Yes, I felt like the Nasoto allowed for a much...</td>\n",
       "      <td>Nasoto</td>\n",
       "      <td>The conversation I had with Nasoto felt two-si...</td>\n",
       "    </tr>\n",
       "    <tr>\n",
       "      <th>1</th>\n",
       "      <td>2020/04/11 1:30:37 pm CET</td>\n",
       "      <td>oisin.quinn</td>\n",
       "      <td>Nasoto felt more formal. It felt like I was do...</td>\n",
       "      <td>Makoto</td>\n",
       "      <td>They were just more fun and relaxed and it was...</td>\n",
       "    </tr>\n",
       "    <tr>\n",
       "      <th>2</th>\n",
       "      <td>2020/04/11 11:39:16 pm CET</td>\n",
       "      <td>mohamed.jama</td>\n",
       "      <td>yes. I found the first bot to be more pleasent...</td>\n",
       "      <td>Makoto</td>\n",
       "      <td>it is not rude and the questions it asked allo...</td>\n",
       "    </tr>\n",
       "    <tr>\n",
       "      <th>3</th>\n",
       "      <td>2020/04/12 2:12:37 pm CET</td>\n",
       "      <td>nikolaj.jasenko</td>\n",
       "      <td>Yeah, first one was more friendly</td>\n",
       "      <td>Makoto</td>\n",
       "      <td>More interesting to interact with due to a bri...</td>\n",
       "    </tr>\n",
       "    <tr>\n",
       "      <th>4</th>\n",
       "      <td>2020/04/15 5:01:59 pm CET</td>\n",
       "      <td>kiowa.daly</td>\n",
       "      <td>Yes, the first bot seems to disregard your res...</td>\n",
       "      <td>Makoto</td>\n",
       "      <td>Makoto is more cheery, nasoto seems to not res...</td>\n",
       "    </tr>\n",
       "    <tr>\n",
       "      <th>5</th>\n",
       "      <td>2020/04/15 5:14:04 pm CET</td>\n",
       "      <td>conor.beenham</td>\n",
       "      <td>Yes. Makoto was friendlier, and seemed more 'i...</td>\n",
       "      <td>Makoto</td>\n",
       "      <td>resulted in a better, more interesting convers...</td>\n",
       "    </tr>\n",
       "    <tr>\n",
       "      <th>6</th>\n",
       "      <td>2020/04/15 6:01:50 pm CET</td>\n",
       "      <td>zachary.oconnor</td>\n",
       "      <td>They asked the same kinds of questions, but Ma...</td>\n",
       "      <td>Makoto</td>\n",
       "      <td>Makoto seemed nicer and more excited to talk t...</td>\n",
       "    </tr>\n",
       "    <tr>\n",
       "      <th>7</th>\n",
       "      <td>2020/04/15 6:46:40 pm CET</td>\n",
       "      <td>orla.keating</td>\n",
       "      <td>Yes I talked to one longer than the other, alt...</td>\n",
       "      <td>Nasoto</td>\n",
       "      <td>It was engaging more in the conversation</td>\n",
       "    </tr>\n",
       "    <tr>\n",
       "      <th>8</th>\n",
       "      <td>2020/04/15 10:02:56 pm CET</td>\n",
       "      <td>daire.murphy.2</td>\n",
       "      <td>The second bots personality was much nicer to ...</td>\n",
       "      <td>Makoto</td>\n",
       "      <td>It was sounder to chat to. Better personality</td>\n",
       "    </tr>\n",
       "    <tr>\n",
       "      <th>9</th>\n",
       "      <td>2020/04/16 2:50:45 pm CET</td>\n",
       "      <td>jeremiah.wangaruro</td>\n",
       "      <td>Makoto understood more of what i said</td>\n",
       "      <td>Makoto</td>\n",
       "      <td>Better understanding</td>\n",
       "    </tr>\n",
       "    <tr>\n",
       "      <th>10</th>\n",
       "      <td>2020/04/16 3:20:58 pm CET</td>\n",
       "      <td>sophie.oneill1</td>\n",
       "      <td>The first chatbot was much friendly than the s...</td>\n",
       "      <td>Makoto</td>\n",
       "      <td>Their attitude</td>\n",
       "    </tr>\n",
       "    <tr>\n",
       "      <th>11</th>\n",
       "      <td>2020/04/16 4:15:11 pm CET</td>\n",
       "      <td>amina.khalid</td>\n",
       "      <td>yes, the second one was more engaging and had ...</td>\n",
       "      <td>Makoto</td>\n",
       "      <td>i preferred it because of its conversational e...</td>\n",
       "    </tr>\n",
       "    <tr>\n",
       "      <th>12</th>\n",
       "      <td>2020/04/16 9:10:20 pm CET</td>\n",
       "      <td>rahul</td>\n",
       "      <td>Pretty Similar in terms of questions asked.</td>\n",
       "      <td>Nasoto</td>\n",
       "      <td>Nasoto seemed to know more about the modules. ...</td>\n",
       "    </tr>\n",
       "    <tr>\n",
       "      <th>13</th>\n",
       "      <td>2020/04/19 11:48:38 am CET</td>\n",
       "      <td>mark.hartnett</td>\n",
       "      <td>Nasoto seemed to get confused unless I gave ex...</td>\n",
       "      <td>Makoto</td>\n",
       "      <td>Just seemed to work better</td>\n",
       "    </tr>\n",
       "    <tr>\n",
       "      <th>14</th>\n",
       "      <td>2020/04/19 1:55:21 pm CET</td>\n",
       "      <td>gavin.morris</td>\n",
       "      <td>Makoto seemed to be more enthusiastic and frie...</td>\n",
       "      <td>Nasoto</td>\n",
       "      <td>There was one error with Makoto where the conv...</td>\n",
       "    </tr>\n",
       "    <tr>\n",
       "      <th>15</th>\n",
       "      <td>2020/04/20 1:13:23 pm CET</td>\n",
       "      <td>alicia.browne</td>\n",
       "      <td>The first one was more friendly</td>\n",
       "      <td>Makoto</td>\n",
       "      <td>He was more friendly and the conversation was ...</td>\n",
       "    </tr>\n",
       "    <tr>\n",
       "      <th>16</th>\n",
       "      <td>2020/04/20 1:47:17 pm CET</td>\n",
       "      <td>lauren.duffy</td>\n",
       "      <td>The first chat bot was very friendly, however ...</td>\n",
       "      <td>Nasoto</td>\n",
       "      <td>I felt as though it was a more natural convers...</td>\n",
       "    </tr>\n",
       "  </tbody>\n",
       "</table>\n",
       "</div>"
      ],
      "text/plain": [
       "                     Timestamp            Username  \\\n",
       "0   2020/04/11 12:58:39 pm CET      george.ridgway   \n",
       "1    2020/04/11 1:30:37 pm CET         oisin.quinn   \n",
       "2   2020/04/11 11:39:16 pm CET        mohamed.jama   \n",
       "3    2020/04/12 2:12:37 pm CET     nikolaj.jasenko   \n",
       "4    2020/04/15 5:01:59 pm CET          kiowa.daly   \n",
       "5    2020/04/15 5:14:04 pm CET       conor.beenham   \n",
       "6    2020/04/15 6:01:50 pm CET     zachary.oconnor   \n",
       "7    2020/04/15 6:46:40 pm CET        orla.keating   \n",
       "8   2020/04/15 10:02:56 pm CET      daire.murphy.2   \n",
       "9    2020/04/16 2:50:45 pm CET  jeremiah.wangaruro   \n",
       "10   2020/04/16 3:20:58 pm CET      sophie.oneill1   \n",
       "11   2020/04/16 4:15:11 pm CET        amina.khalid   \n",
       "12   2020/04/16 9:10:20 pm CET               rahul   \n",
       "13  2020/04/19 11:48:38 am CET       mark.hartnett   \n",
       "14   2020/04/19 1:55:21 pm CET        gavin.morris   \n",
       "15   2020/04/20 1:13:23 pm CET       alicia.browne   \n",
       "16   2020/04/20 1:47:17 pm CET        lauren.duffy   \n",
       "\n",
       "   Did you notice any differences in your interactions with one chatbot over the other? If so what were they.  \\\n",
       "0   Yes, I felt like the Nasoto allowed for a much...                                                           \n",
       "1   Nasoto felt more formal. It felt like I was do...                                                           \n",
       "2   yes. I found the first bot to be more pleasent...                                                           \n",
       "3                   Yeah, first one was more friendly                                                           \n",
       "4   Yes, the first bot seems to disregard your res...                                                           \n",
       "5   Yes. Makoto was friendlier, and seemed more 'i...                                                           \n",
       "6   They asked the same kinds of questions, but Ma...                                                           \n",
       "7   Yes I talked to one longer than the other, alt...                                                           \n",
       "8   The second bots personality was much nicer to ...                                                           \n",
       "9               Makoto understood more of what i said                                                           \n",
       "10  The first chatbot was much friendly than the s...                                                           \n",
       "11  yes, the second one was more engaging and had ...                                                           \n",
       "12       Pretty Similar in terms of questions asked.                                                            \n",
       "13  Nasoto seemed to get confused unless I gave ex...                                                           \n",
       "14  Makoto seemed to be more enthusiastic and frie...                                                           \n",
       "15                    The first one was more friendly                                                           \n",
       "16  The first chat bot was very friendly, however ...                                                           \n",
       "\n",
       "   Which chatbot did you prefer interacting with?  \\\n",
       "0                                          Nasoto   \n",
       "1                                          Makoto   \n",
       "2                                          Makoto   \n",
       "3                                          Makoto   \n",
       "4                                          Makoto   \n",
       "5                                          Makoto   \n",
       "6                                          Makoto   \n",
       "7                                          Nasoto   \n",
       "8                                          Makoto   \n",
       "9                                          Makoto   \n",
       "10                                         Makoto   \n",
       "11                                         Makoto   \n",
       "12                                         Nasoto   \n",
       "13                                         Makoto   \n",
       "14                                         Nasoto   \n",
       "15                                         Makoto   \n",
       "16                                         Nasoto   \n",
       "\n",
       "   Explain why you preferred interacting with this chatbot?  \n",
       "0   The conversation I had with Nasoto felt two-si...        \n",
       "1   They were just more fun and relaxed and it was...        \n",
       "2   it is not rude and the questions it asked allo...        \n",
       "3   More interesting to interact with due to a bri...        \n",
       "4   Makoto is more cheery, nasoto seems to not res...        \n",
       "5   resulted in a better, more interesting convers...        \n",
       "6   Makoto seemed nicer and more excited to talk t...        \n",
       "7            It was engaging more in the conversation        \n",
       "8      It was sounder to chat to. Better personality         \n",
       "9                                Better understanding        \n",
       "10                                     Their attitude        \n",
       "11  i preferred it because of its conversational e...        \n",
       "12  Nasoto seemed to know more about the modules. ...        \n",
       "13                         Just seemed to work better        \n",
       "14  There was one error with Makoto where the conv...        \n",
       "15  He was more friendly and the conversation was ...        \n",
       "16  I felt as though it was a more natural convers...        "
      ]
     },
     "execution_count": 12,
     "metadata": {},
     "output_type": "execute_result"
    }
   ],
   "source": [
    "Survey4Dir = 'surveys-userstudy/Final Survey .csv'\n",
    "df_survey4 = pd.read_csv(Survey4Dir)\n",
    "df_survey4['Username'] =  df_survey4['Username'].str.replace(r'@ucdconnect.ie', '')\n",
    "df_survey4"
   ]
  },
  {
   "cell_type": "markdown",
   "metadata": {},
   "source": [
    "# Create Dataframes"
   ]
  },
  {
   "cell_type": "code",
   "execution_count": null,
   "metadata": {},
   "outputs": [],
   "source": []
  },
  {
   "cell_type": "code",
   "execution_count": 13,
   "metadata": {
    "scrolled": true
   },
   "outputs": [],
   "source": [
    "df_allSurveys =  [df_dem, df_PostMakoto, df_PostNasoto, df_survey4, df_nasoto, df_makoto]\n",
    "\n",
    "\n",
    "df_merged = reduce(lambda  left,right: pd.merge(left,right,on=['Username'],\n",
    "                                            how='outer'), df_allSurveys)\n",
    "df_merged = df_merged[:-1]\n"
   ]
  },
  {
   "cell_type": "code",
   "execution_count": 14,
   "metadata": {},
   "outputs": [
    {
     "name": "stderr",
     "output_type": "stream",
     "text": [
      "/Users/sineadfarrell/opt/anaconda3/lib/python3.7/site-packages/ipykernel_launcher.py:1: FutureWarning:\n",
      "\n",
      "The pandas.np module is deprecated and will be removed from pandas in a future version. Import numpy directly instead\n",
      "\n"
     ]
    }
   ],
   "source": [
    "df_merged['Chatbot_binary'] = pd.np.where(df_merged['Which chatbot did you prefer interacting with?'].str.contains(\"Makoto\"), 0, 1)\n"
   ]
  },
  {
   "cell_type": "markdown",
   "metadata": {},
   "source": [
    "# Anonymise username"
   ]
  },
  {
   "cell_type": "code",
   "execution_count": 15,
   "metadata": {},
   "outputs": [],
   "source": [
    "df_merged.drop(columns=[\"Username\"], inplace=True)\n",
    "df_merged.to_pickle(\"./df_merged.pkl\")"
   ]
  },
  {
   "cell_type": "code",
   "execution_count": 16,
   "metadata": {},
   "outputs": [],
   "source": [
    "df_dem.drop(columns=[\"Username\"], inplace= True)\n",
    "df_dem.to_pickle(\"./df_dem.pkl\")"
   ]
  },
  {
   "cell_type": "code",
   "execution_count": 17,
   "metadata": {},
   "outputs": [],
   "source": [
    "frames = [df_nasoto, df_makoto]\n",
    "df_chatbotdata =  pd.concat(frames)\n",
    "df_chatbotdata.drop(columns=[\"Username\"], inplace= True)\n",
    "df_chatbotdata.to_pickle(\"./df_chatbotdata.pkl\")"
   ]
  },
  {
   "cell_type": "code",
   "execution_count": null,
   "metadata": {},
   "outputs": [],
   "source": []
  },
  {
   "cell_type": "code",
   "execution_count": null,
   "metadata": {},
   "outputs": [],
   "source": []
  }
 ],
 "metadata": {
  "kernelspec": {
   "display_name": "Python 3",
   "language": "python",
   "name": "python3"
  },
  "language_info": {
   "codemirror_mode": {
    "name": "ipython",
    "version": 3
   },
   "file_extension": ".py",
   "mimetype": "text/x-python",
   "name": "python",
   "nbconvert_exporter": "python",
   "pygments_lexer": "ipython3",
   "version": "3.7.4"
  }
 },
 "nbformat": 4,
 "nbformat_minor": 4
}

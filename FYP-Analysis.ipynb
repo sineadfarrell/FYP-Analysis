{
 "cells": [
  {
   "cell_type": "markdown",
   "metadata": {},
   "source": [
    "Read in JSON files containing the dialogs"
   ]
  },
  {
   "cell_type": "code",
   "execution_count": 1,
   "metadata": {},
   "outputs": [
    {
     "name": "stdout",
     "output_type": "stream",
     "text": [
      "Requirement already satisfied: pandas in /Users/sineadfarrell/opt/anaconda3/lib/python3.7/site-packages (1.0.3)\n",
      "Requirement already satisfied: numpy>=1.13.3 in /Users/sineadfarrell/opt/anaconda3/lib/python3.7/site-packages (from pandas) (1.18.1)\n",
      "Requirement already satisfied: pytz>=2017.2 in /Users/sineadfarrell/opt/anaconda3/lib/python3.7/site-packages (from pandas) (2019.3)\n",
      "Requirement already satisfied: python-dateutil>=2.6.1 in /Users/sineadfarrell/opt/anaconda3/lib/python3.7/site-packages (from pandas) (2.8.1)\n",
      "Requirement already satisfied: six>=1.5 in /Users/sineadfarrell/opt/anaconda3/lib/python3.7/site-packages (from python-dateutil>=2.6.1->pandas) (1.14.0)\n",
      "Note: you may need to restart the kernel to use updated packages.\n"
     ]
    }
   ],
   "source": [
    "pip install pandas\n"
   ]
  },
  {
   "cell_type": "code",
   "execution_count": 2,
   "metadata": {},
   "outputs": [
    {
     "name": "stdout",
     "output_type": "stream",
     "text": [
      "Requirement already satisfied: jsonlines in /Users/sineadfarrell/opt/anaconda3/lib/python3.7/site-packages (1.2.0)\n",
      "Requirement already satisfied: six in /Users/sineadfarrell/opt/anaconda3/lib/python3.7/site-packages (from jsonlines) (1.14.0)\n",
      "Note: you may need to restart the kernel to use updated packages.\n"
     ]
    }
   ],
   "source": [
    "pip install jsonlines\n"
   ]
  },
  {
   "cell_type": "code",
   "execution_count": 3,
   "metadata": {},
   "outputs": [],
   "source": [
    "import json\n",
    "from pandas.io.json import json_normalize\n",
    "import os\n",
    "import logging\n",
    "import logging.handlers\n",
    "import pandas as pd\n",
    "import numpy as np\n",
    "import glob\n",
    "from datetime import datetime,timedelta\n",
    "from collections import Counter"
   ]
  },
  {
   "cell_type": "code",
   "execution_count": 4,
   "metadata": {},
   "outputs": [],
   "source": [
    "def dt_parse(t):\n",
    "    ret = datetime.strptime(t[0:16],'%Y-%m-%dT%H:%M')\n",
    "    if t[18]=='+':\n",
    "        ret-=timedelta(hours=int(t[19:22]),minutes=int(t[23:]))\n",
    "    elif t[18]=='-':\n",
    "        ret+=timedelta(hours=int(t[19:22]),minutes=int(t[23:]))\n",
    "    return ret "
   ]
  },
  {
   "cell_type": "markdown",
   "metadata": {},
   "source": [
    "# Nasoto DataFrame"
   ]
  },
  {
   "cell_type": "code",
   "execution_count": 5,
   "metadata": {},
   "outputs": [
    {
     "name": "stderr",
     "output_type": "stream",
     "text": [
      "/Users/sineadfarrell/opt/anaconda3/lib/python3.7/site-packages/ipykernel_launcher.py:5: FutureWarning: The pandas.np module is deprecated and will be removed from pandas in a future version. Import numpy directly instead\n",
      "  \"\"\"\n"
     ]
    },
    {
     "data": {
      "text/html": [
       "<div>\n",
       "<style scoped>\n",
       "    .dataframe tbody tr th:only-of-type {\n",
       "        vertical-align: middle;\n",
       "    }\n",
       "\n",
       "    .dataframe tbody tr th {\n",
       "        vertical-align: top;\n",
       "    }\n",
       "\n",
       "    .dataframe thead th {\n",
       "        text-align: right;\n",
       "    }\n",
       "</style>\n",
       "<table border=\"1\" class=\"dataframe\">\n",
       "  <thead>\n",
       "    <tr style=\"text-align: right;\">\n",
       "      <th></th>\n",
       "      <th>Username</th>\n",
       "      <th>Duration</th>\n",
       "      <th>Chatbot</th>\n",
       "      <th>NumberOfTurns</th>\n",
       "      <th>Utterance</th>\n",
       "      <th>Length of Utterances</th>\n",
       "    </tr>\n",
       "  </thead>\n",
       "  <tbody>\n",
       "    <tr>\n",
       "      <th>0</th>\n",
       "      <td>sorcha.nicconmara</td>\n",
       "      <td>00:08:00</td>\n",
       "      <td>Nasoto-Bot</td>\n",
       "      <td>19</td>\n",
       "      <td>[I now study from home, I think it was the rig...</td>\n",
       "      <td>68</td>\n",
       "    </tr>\n",
       "    <tr>\n",
       "      <th>1</th>\n",
       "      <td>charles.kelly1</td>\n",
       "      <td>00:07:00</td>\n",
       "      <td>Nasoto-Bot</td>\n",
       "      <td>42</td>\n",
       "      <td>[Playing basketball, No thank you, No thank yo...</td>\n",
       "      <td>101</td>\n",
       "    </tr>\n",
       "    <tr>\n",
       "      <th>2</th>\n",
       "      <td>chloe.foxe</td>\n",
       "      <td>00:04:00</td>\n",
       "      <td>Nasoto-Bot</td>\n",
       "      <td>23</td>\n",
       "      <td>[I am taking 5 modules this semester, Nah, ext...</td>\n",
       "      <td>84</td>\n",
       "    </tr>\n",
       "    <tr>\n",
       "      <th>3</th>\n",
       "      <td>elizabeth.burke</td>\n",
       "      <td>00:03:00</td>\n",
       "      <td>Nasoto-Bot</td>\n",
       "      <td>17</td>\n",
       "      <td>[12 modules, no, no, 12, It's fun, my favourit...</td>\n",
       "      <td>48</td>\n",
       "    </tr>\n",
       "  </tbody>\n",
       "</table>\n",
       "</div>"
      ],
      "text/plain": [
       "            Username Duration     Chatbot  NumberOfTurns  \\\n",
       "0  sorcha.nicconmara 00:08:00  Nasoto-Bot             19   \n",
       "1     charles.kelly1 00:07:00  Nasoto-Bot             42   \n",
       "2         chloe.foxe 00:04:00  Nasoto-Bot             23   \n",
       "3    elizabeth.burke 00:03:00  Nasoto-Bot             17   \n",
       "\n",
       "                                           Utterance  Length of Utterances  \n",
       "0  [I now study from home, I think it was the rig...                    68  \n",
       "1  [Playing basketball, No thank you, No thank yo...                   101  \n",
       "2  [I am taking 5 modules this semester, Nah, ext...                    84  \n",
       "3  [12 modules, no, no, 12, It's fun, my favourit...                    48  "
      ]
     },
     "execution_count": 5,
     "metadata": {},
     "output_type": "execute_result"
    }
   ],
   "source": [
    "rootDirNasoto = 'webchat-nasoto-pilot/' \n",
    "\n",
    "jsdata_nasoto = []\n",
    "\n",
    "df_nasoto = pd.DataFrame(pd.np.empty((0, 6)))\n",
    "df_nasoto.columns = ['Username','Duration', 'Chatbot', 'NumberOfTurns', 'Utterance','Length of Utterances']\n",
    "\n",
    "for subdir, dirs, files in os.walk(rootDirNasoto): \n",
    "    for dire in dirs:\n",
    "        arrTime = []\n",
    "        arrUtterance = []\n",
    "        numberOfTurns = 0\n",
    "        count = 0\n",
    "        for file in glob.glob(rootDirNasoto+dire+'/'+'*.json'):\n",
    "            with open(file) as f:\n",
    "                data = json.load(f)\n",
    "                numberOfTurns += 1\n",
    "                arrTime.append( dt_parse(data['timestamp']))\n",
    "                arrUtterance.append(data['text'])\n",
    "                for word in (data['text']).split():\n",
    "                    count += 1\n",
    "                \n",
    "        \n",
    "        \n",
    "        #add post interaction survey (Nasoto)\n",
    "        \n",
    "        #Duration\n",
    "        maxTime = max(dt for dt in arrTime )\n",
    "        minTime = min(dt for dt in arrTime)\n",
    "        duration =  maxTime - minTime\n",
    "        \n",
    "        #get the information from makoto inserted\n",
    "        jsdata_nasoto.append({'Username': data['from']['name'],\n",
    "                       'Duration': duration,'Chatbot': data['recipient']['name'], \n",
    "                       'NumberOfTurns' : numberOfTurns, 'Utterance': arrUtterance, 'Length of Utterances': count})\n",
    "\n",
    "\n",
    "\n",
    "df_nasoto =  pd.DataFrame.from_records(jsdata_nasoto)\n",
    "df_nasoto[:]['Duration'] / np.timedelta64(1, 'm')\n",
    "df_nasoto  "
   ]
  },
  {
   "cell_type": "markdown",
   "metadata": {},
   "source": [
    "# Makoto DataFrame"
   ]
  },
  {
   "cell_type": "code",
   "execution_count": 6,
   "metadata": {},
   "outputs": [
    {
     "name": "stderr",
     "output_type": "stream",
     "text": [
      "/Users/sineadfarrell/opt/anaconda3/lib/python3.7/site-packages/ipykernel_launcher.py:4: FutureWarning: The pandas.np module is deprecated and will be removed from pandas in a future version. Import numpy directly instead\n",
      "  after removing the cwd from sys.path.\n"
     ]
    },
    {
     "data": {
      "text/html": [
       "<div>\n",
       "<style scoped>\n",
       "    .dataframe tbody tr th:only-of-type {\n",
       "        vertical-align: middle;\n",
       "    }\n",
       "\n",
       "    .dataframe tbody tr th {\n",
       "        vertical-align: top;\n",
       "    }\n",
       "\n",
       "    .dataframe thead th {\n",
       "        text-align: right;\n",
       "    }\n",
       "</style>\n",
       "<table border=\"1\" class=\"dataframe\">\n",
       "  <thead>\n",
       "    <tr style=\"text-align: right;\">\n",
       "      <th></th>\n",
       "      <th>Username</th>\n",
       "      <th>Duration</th>\n",
       "      <th>Chatbot</th>\n",
       "      <th>NumberOfTurns</th>\n",
       "      <th>Utterance</th>\n",
       "      <th>Length of Utterances</th>\n",
       "    </tr>\n",
       "  </thead>\n",
       "  <tbody>\n",
       "    <tr>\n",
       "      <th>0</th>\n",
       "      <td>chloe.foxe</td>\n",
       "      <td>00:05:00</td>\n",
       "      <td>Makoto-Bot</td>\n",
       "      <td>10</td>\n",
       "      <td>[Uhm. I like solving problems, yeah we have a ...</td>\n",
       "      <td>46</td>\n",
       "    </tr>\n",
       "    <tr>\n",
       "      <th>1</th>\n",
       "      <td>elizabeth.burke</td>\n",
       "      <td>00:09:00</td>\n",
       "      <td>Makoto-Bot</td>\n",
       "      <td>29</td>\n",
       "      <td>[It's an inconvenience but necessary, health i...</td>\n",
       "      <td>88</td>\n",
       "    </tr>\n",
       "    <tr>\n",
       "      <th>2</th>\n",
       "      <td>charles.kelly1</td>\n",
       "      <td>00:02:00</td>\n",
       "      <td>Makoto-Bot</td>\n",
       "      <td>11</td>\n",
       "      <td>[Yes ther is, Yes, I like animals, 4 or 5, Gam...</td>\n",
       "      <td>26</td>\n",
       "    </tr>\n",
       "    <tr>\n",
       "      <th>3</th>\n",
       "      <td>sorcha.nicconmara</td>\n",
       "      <td>00:05:00</td>\n",
       "      <td>Makoto-Bot</td>\n",
       "      <td>15</td>\n",
       "      <td>[extracurricular, The topic is very interestin...</td>\n",
       "      <td>39</td>\n",
       "    </tr>\n",
       "  </tbody>\n",
       "</table>\n",
       "</div>"
      ],
      "text/plain": [
       "            Username Duration     Chatbot  NumberOfTurns  \\\n",
       "0         chloe.foxe 00:05:00  Makoto-Bot             10   \n",
       "1    elizabeth.burke 00:09:00  Makoto-Bot             29   \n",
       "2     charles.kelly1 00:02:00  Makoto-Bot             11   \n",
       "3  sorcha.nicconmara 00:05:00  Makoto-Bot             15   \n",
       "\n",
       "                                           Utterance  Length of Utterances  \n",
       "0  [Uhm. I like solving problems, yeah we have a ...                    46  \n",
       "1  [It's an inconvenience but necessary, health i...                    88  \n",
       "2  [Yes ther is, Yes, I like animals, 4 or 5, Gam...                    26  \n",
       "3  [extracurricular, The topic is very interestin...                    39  "
      ]
     },
     "execution_count": 6,
     "metadata": {},
     "output_type": "execute_result"
    }
   ],
   "source": [
    "rootDirMakoto = 'webchat-makoto-pilot/'\n",
    "jsdata_makoto = []\n",
    "\n",
    "df_makoto = pd.DataFrame(pd.np.empty((0, 5)))\n",
    "df_makoto.columns = ['Username','Duration', 'Chatbot', 'NumberOfTurns', 'Utterance']\n",
    "\n",
    "for subdir, dirs, files in os.walk(rootDirMakoto): \n",
    "    for dire in dirs:\n",
    "        arrTime = []\n",
    "        arrUtterance = []\n",
    "        numberOfTurns = 0\n",
    "        count = 0\n",
    "        for file in glob.glob(rootDirMakoto+dire+'/'+'*.json'):\n",
    "            with open(file) as f:\n",
    "                data = json.load(f)\n",
    "                numberOfTurns += 1\n",
    "                arrTime.append( dt_parse(data['timestamp']))\n",
    "                arrUtterance.append(data['text'])\n",
    "                for word in (data['text']).split():\n",
    "                    count += 1\n",
    "        \n",
    "        #information for the google form\n",
    "        #add post interaction survey (Makoto)\n",
    "        #Duration\n",
    "        maxTime = max(dt for dt in arrTime )\n",
    "        minTime = min(dt for dt in arrTime)\n",
    "        duration =  maxTime - minTime\n",
    "        \n",
    "        #get the information from makoto inserted\n",
    "        jsdata_makoto.append({'Username': data['from']['name'],\n",
    "                       'Duration': duration,'Chatbot': data['recipient']['name'], \n",
    "                       'NumberOfTurns' : numberOfTurns, 'Utterance': arrUtterance, 'Length of Utterances': count})\n",
    "df_makoto =  pd.DataFrame.from_records(jsdata_makoto) \n",
    "df_makoto[:]['Duration'] / np.timedelta64(1, 'm')\n",
    "df_makoto"
   ]
  },
  {
   "cell_type": "markdown",
   "metadata": {},
   "source": [
    "DataFrame for Pre-Interacrion Survey"
   ]
  },
  {
   "cell_type": "code",
   "execution_count": 7,
   "metadata": {
    "scrolled": true
   },
   "outputs": [],
   "source": [
    "PreInteractionDir = 'surveys-pilot/Pre-InteractionSurvey-Pilot.csv'\n",
    "df_Survey1 = pd.read_csv(PreInteractionDir,  error_bad_lines=False)\n"
   ]
  },
  {
   "cell_type": "markdown",
   "metadata": {},
   "source": [
    "Clean Data"
   ]
  },
  {
   "cell_type": "code",
   "execution_count": 9,
   "metadata": {
    "scrolled": true
   },
   "outputs": [],
   "source": [
    "df_Survey1 = df_Survey1.drop([ \"Total score\", \"Age [Score]\", \"Age [Feedback]\", \n",
    "                              \"Gender [Score]\" , \"Gender [Feedback]\", \"Do you know what a chatbot is? [Score]\", \n",
    "                              \"Do you know what a chatbot is? [Feedback]\", \n",
    "                              \"If Yes, describe your understanding of what a chatbot is  [Score]\",\n",
    "                            \"If Yes, describe your understanding of what a chatbot is  [Feedback]\", \"How often do you use Siri, Alexa, Google Assistant or any other virtual assistant? [Score]\",\n",
    "                            \"How often do you use Siri, Alexa, Google Assistant or any other virtual assistant? [Feedback]\",\n",
    "                             \"I am reserved [Score]\", \"I am reserved [Feedback]\", \"I tend to find fault with others [Score]\",\n",
    "                            \"I tend to find fault with others [Feedback]\", \"I am helpful and unselfish with others [Score]\",\n",
    "                            \"I am helpful and unselfish with others [Feedback]\", \"I am full of energy [Score]\",\n",
    "                            \"I am full of energy [Feedback]\", \"I start quarrels with others [Score]\",\n",
    "                            \"I start quarrels with others [Feedback]\", \"I generate a lot of enthusiasm  [Score]\",\n",
    "                            \"I generate a lot of enthusiasm  [Feedback]\",\"I have a forgiving nature [Score]\",\n",
    "                            \"I have a forgiving nature [Feedback]\", \"I tend to be quiet  [Score]\",\n",
    "                            \"I tend to be quiet  [Feedback]\", \"I am generally trusting [Score]\",\n",
    "                            \"I am generally trusting [Feedback]\", \"I have an assertive personality [Score]\",\n",
    "                            \"I have an assertive personality [Feedback]\", \"I can be cold and aloof  [Score]\",\n",
    "                            \"I can be cold and aloof  [Feedback]\", \"I am sometimes shy, inhibited [Score]\",\n",
    "                            \"I am sometimes shy, inhibited [Feedback]\", \"I am considerate and kind to almost everyone [Score]\",\n",
    "                            \"I am considerate and kind to almost everyone [Feedback]\", \"I am outgoing, sociable  [Score]\",\n",
    "                            \"I am outgoing, sociable  [Feedback]\", \"I am sometimes rude to others [Score]\",\n",
    "                            \"I am sometimes rude to others [Feedback]\", \"I like to cooperate with others [Score]\",\n",
    "                            \"I like to cooperate with others [Feedback]\"], axis=1)"
   ]
  },
  {
   "cell_type": "code",
   "execution_count": null,
   "metadata": {},
   "outputs": [],
   "source": []
  },
  {
   "cell_type": "code",
   "execution_count": 10,
   "metadata": {},
   "outputs": [
    {
     "data": {
      "text/html": [
       "<div>\n",
       "<style scoped>\n",
       "    .dataframe tbody tr th:only-of-type {\n",
       "        vertical-align: middle;\n",
       "    }\n",
       "\n",
       "    .dataframe tbody tr th {\n",
       "        vertical-align: top;\n",
       "    }\n",
       "\n",
       "    .dataframe thead th {\n",
       "        text-align: right;\n",
       "    }\n",
       "</style>\n",
       "<table border=\"1\" class=\"dataframe\">\n",
       "  <thead>\n",
       "    <tr style=\"text-align: right;\">\n",
       "      <th></th>\n",
       "      <th>Timestamp</th>\n",
       "      <th>Username</th>\n",
       "      <th>Age</th>\n",
       "      <th>Gender</th>\n",
       "      <th>Do you know what a chatbot is?</th>\n",
       "      <th>If Yes, describe your understanding of what a chatbot is</th>\n",
       "      <th>How often do you use Siri, Alexa, Google Assistant or any other virtual assistant?</th>\n",
       "      <th>I am reserved</th>\n",
       "      <th>I tend to find fault with others</th>\n",
       "      <th>I am helpful and unselfish with others</th>\n",
       "      <th>...</th>\n",
       "      <th>I have a forgiving nature</th>\n",
       "      <th>I tend to be quiet</th>\n",
       "      <th>I am generally trusting</th>\n",
       "      <th>I have an assertive personality</th>\n",
       "      <th>I can be cold and aloof</th>\n",
       "      <th>I am sometimes shy, inhibited</th>\n",
       "      <th>I am considerate and kind to almost everyone</th>\n",
       "      <th>I am outgoing, sociable</th>\n",
       "      <th>I am sometimes rude to others</th>\n",
       "      <th>I like to cooperate with others</th>\n",
       "    </tr>\n",
       "  </thead>\n",
       "  <tbody>\n",
       "    <tr>\n",
       "      <th>0</th>\n",
       "      <td>2020/04/01 10:45:16 am CET</td>\n",
       "      <td>sorcha.nicconmara@ucdconnect.ie</td>\n",
       "      <td>18-24</td>\n",
       "      <td>Female</td>\n",
       "      <td>Yes</td>\n",
       "      <td>A program/piece of software that imitates huma...</td>\n",
       "      <td>Never</td>\n",
       "      <td>2</td>\n",
       "      <td>3</td>\n",
       "      <td>4</td>\n",
       "      <td>...</td>\n",
       "      <td>4</td>\n",
       "      <td>2</td>\n",
       "      <td>4</td>\n",
       "      <td>4</td>\n",
       "      <td>1</td>\n",
       "      <td>4</td>\n",
       "      <td>4</td>\n",
       "      <td>4</td>\n",
       "      <td>3</td>\n",
       "      <td>4</td>\n",
       "    </tr>\n",
       "    <tr>\n",
       "      <th>1</th>\n",
       "      <td>2020/04/01 1:45:07 pm CET</td>\n",
       "      <td>charles.kelly1@ucdconnect.ie</td>\n",
       "      <td>18-24</td>\n",
       "      <td>Male</td>\n",
       "      <td>Yes</td>\n",
       "      <td>An ai that attempts to replicate human convers...</td>\n",
       "      <td>Somewhat</td>\n",
       "      <td>4</td>\n",
       "      <td>5</td>\n",
       "      <td>4</td>\n",
       "      <td>...</td>\n",
       "      <td>3</td>\n",
       "      <td>4</td>\n",
       "      <td>3</td>\n",
       "      <td>2</td>\n",
       "      <td>4</td>\n",
       "      <td>4</td>\n",
       "      <td>4</td>\n",
       "      <td>4</td>\n",
       "      <td>4</td>\n",
       "      <td>4</td>\n",
       "    </tr>\n",
       "    <tr>\n",
       "      <th>2</th>\n",
       "      <td>2020/04/01 3:11:18 pm CET</td>\n",
       "      <td>chloe.foxe@ucdconnect.ie</td>\n",
       "      <td>18-24</td>\n",
       "      <td>Female</td>\n",
       "      <td>Yes</td>\n",
       "      <td>A chatbot is a computer program with human cap...</td>\n",
       "      <td>Somewhat</td>\n",
       "      <td>4</td>\n",
       "      <td>2</td>\n",
       "      <td>4</td>\n",
       "      <td>...</td>\n",
       "      <td>2</td>\n",
       "      <td>4</td>\n",
       "      <td>5</td>\n",
       "      <td>4</td>\n",
       "      <td>5</td>\n",
       "      <td>3</td>\n",
       "      <td>4</td>\n",
       "      <td>3</td>\n",
       "      <td>3</td>\n",
       "      <td>5</td>\n",
       "    </tr>\n",
       "    <tr>\n",
       "      <th>3</th>\n",
       "      <td>2020/04/01 6:44:12 pm CET</td>\n",
       "      <td>elizabeth.burke@ucdconnect.ie</td>\n",
       "      <td>18-24</td>\n",
       "      <td>Female</td>\n",
       "      <td>Yes</td>\n",
       "      <td>Artificial Intelligence capable of holding a c...</td>\n",
       "      <td>Somewhat</td>\n",
       "      <td>2</td>\n",
       "      <td>3</td>\n",
       "      <td>5</td>\n",
       "      <td>...</td>\n",
       "      <td>2</td>\n",
       "      <td>2</td>\n",
       "      <td>4</td>\n",
       "      <td>4</td>\n",
       "      <td>1</td>\n",
       "      <td>1</td>\n",
       "      <td>5</td>\n",
       "      <td>5</td>\n",
       "      <td>1</td>\n",
       "      <td>5</td>\n",
       "    </tr>\n",
       "  </tbody>\n",
       "</table>\n",
       "<p>4 rows × 23 columns</p>\n",
       "</div>"
      ],
      "text/plain": [
       "                    Timestamp                         Username    Age  Gender  \\\n",
       "0  2020/04/01 10:45:16 am CET  sorcha.nicconmara@ucdconnect.ie  18-24  Female   \n",
       "1   2020/04/01 1:45:07 pm CET     charles.kelly1@ucdconnect.ie  18-24    Male   \n",
       "2   2020/04/01 3:11:18 pm CET         chloe.foxe@ucdconnect.ie  18-24  Female   \n",
       "3   2020/04/01 6:44:12 pm CET    elizabeth.burke@ucdconnect.ie  18-24  Female   \n",
       "\n",
       "  Do you know what a chatbot is?  \\\n",
       "0                            Yes   \n",
       "1                            Yes   \n",
       "2                            Yes   \n",
       "3                            Yes   \n",
       "\n",
       "  If Yes, describe your understanding of what a chatbot is   \\\n",
       "0  A program/piece of software that imitates huma...          \n",
       "1  An ai that attempts to replicate human convers...          \n",
       "2  A chatbot is a computer program with human cap...          \n",
       "3  Artificial Intelligence capable of holding a c...          \n",
       "\n",
       "  How often do you use Siri, Alexa, Google Assistant or any other virtual assistant?  \\\n",
       "0                                              Never                                   \n",
       "1                                           Somewhat                                   \n",
       "2                                           Somewhat                                   \n",
       "3                                           Somewhat                                   \n",
       "\n",
       "   I am reserved  I tend to find fault with others  \\\n",
       "0              2                                 3   \n",
       "1              4                                 5   \n",
       "2              4                                 2   \n",
       "3              2                                 3   \n",
       "\n",
       "   I am helpful and unselfish with others  ...  I have a forgiving nature  \\\n",
       "0                                       4  ...                          4   \n",
       "1                                       4  ...                          3   \n",
       "2                                       4  ...                          2   \n",
       "3                                       5  ...                          2   \n",
       "\n",
       "   I tend to be quiet   I am generally trusting  \\\n",
       "0                    2                        4   \n",
       "1                    4                        3   \n",
       "2                    4                        5   \n",
       "3                    2                        4   \n",
       "\n",
       "   I have an assertive personality  I can be cold and aloof   \\\n",
       "0                                4                         1   \n",
       "1                                2                         4   \n",
       "2                                4                         5   \n",
       "3                                4                         1   \n",
       "\n",
       "   I am sometimes shy, inhibited  \\\n",
       "0                              4   \n",
       "1                              4   \n",
       "2                              3   \n",
       "3                              1   \n",
       "\n",
       "   I am considerate and kind to almost everyone  I am outgoing, sociable   \\\n",
       "0                                             4                         4   \n",
       "1                                             4                         4   \n",
       "2                                             4                         3   \n",
       "3                                             5                         5   \n",
       "\n",
       "   I am sometimes rude to others  I like to cooperate with others  \n",
       "0                              3                                4  \n",
       "1                              4                                4  \n",
       "2                              3                                5  \n",
       "3                              1                                5  \n",
       "\n",
       "[4 rows x 23 columns]"
      ]
     },
     "execution_count": 10,
     "metadata": {},
     "output_type": "execute_result"
    }
   ],
   "source": [
    "df_Survey1"
   ]
  },
  {
   "cell_type": "markdown",
   "metadata": {},
   "source": [
    "DataFrame for Post-Interaction Survey (Makoto)"
   ]
  },
  {
   "cell_type": "code",
   "execution_count": 11,
   "metadata": {},
   "outputs": [
    {
     "data": {
      "text/html": [
       "<div>\n",
       "<style scoped>\n",
       "    .dataframe tbody tr th:only-of-type {\n",
       "        vertical-align: middle;\n",
       "    }\n",
       "\n",
       "    .dataframe tbody tr th {\n",
       "        vertical-align: top;\n",
       "    }\n",
       "\n",
       "    .dataframe thead th {\n",
       "        text-align: right;\n",
       "    }\n",
       "</style>\n",
       "<table border=\"1\" class=\"dataframe\">\n",
       "  <thead>\n",
       "    <tr style=\"text-align: right;\">\n",
       "      <th></th>\n",
       "      <th>Timestamp</th>\n",
       "      <th>Username</th>\n",
       "      <th>Describe Makoto</th>\n",
       "      <th>How would you rate your experience with Makoto based on its knowledge?</th>\n",
       "      <th>Expand on your answer (optional)</th>\n",
       "      <th>How would you rate your experience with Makoto based on the quality of the conversation?</th>\n",
       "      <th>Expand on your answer (optional).1</th>\n",
       "      <th>How would you rate your experience with Makoto based on the its attitude/personality?</th>\n",
       "      <th>Expand on your answer (optional).2</th>\n",
       "      <th>Did you enjoy your interaction with Makoto?</th>\n",
       "    </tr>\n",
       "  </thead>\n",
       "  <tbody>\n",
       "    <tr>\n",
       "      <th>0</th>\n",
       "      <td>2020/04/01 11:07:27 am CET</td>\n",
       "      <td>sorcha.nicconmara@ucdconnect.ie</td>\n",
       "      <td>enthusiastic and lively</td>\n",
       "      <td>4</td>\n",
       "      <td>NaN</td>\n",
       "      <td>4</td>\n",
       "      <td>Interpreted 'okay' as a negative ('no') at one...</td>\n",
       "      <td>4</td>\n",
       "      <td>NaN</td>\n",
       "      <td>yes</td>\n",
       "    </tr>\n",
       "    <tr>\n",
       "      <th>1</th>\n",
       "      <td>2020/04/01 2:00:34 pm CET</td>\n",
       "      <td>charles.kelly1@ucdconnect.ie</td>\n",
       "      <td>Cheery</td>\n",
       "      <td>3</td>\n",
       "      <td>Didnt seem to present any knowledge. Didnt kno...</td>\n",
       "      <td>4</td>\n",
       "      <td>The brief conversation was quite pleasant but ...</td>\n",
       "      <td>4</td>\n",
       "      <td>Pleasant personality</td>\n",
       "      <td>For the brief time yes</td>\n",
       "    </tr>\n",
       "    <tr>\n",
       "      <th>2</th>\n",
       "      <td>2020/04/01 3:21:27 pm CET</td>\n",
       "      <td>chloe.foxe@ucdconnect.ie</td>\n",
       "      <td>Makoto was inquisitive. It reflected on my ans...</td>\n",
       "      <td>3</td>\n",
       "      <td>it knew about the modules I took. Didn't under...</td>\n",
       "      <td>3</td>\n",
       "      <td>Would've have been exceptional only for the fa...</td>\n",
       "      <td>5</td>\n",
       "      <td>Nice bot. Postive and engaged with my responses.</td>\n",
       "      <td>Would've preferred if it opened up and told me...</td>\n",
       "    </tr>\n",
       "    <tr>\n",
       "      <th>3</th>\n",
       "      <td>2020/04/01 7:02:07 pm CET</td>\n",
       "      <td>elizabeth.burke@ucdconnect.ie</td>\n",
       "      <td>It's an interesting chatbot, the UI was overal...</td>\n",
       "      <td>3</td>\n",
       "      <td>Interesting topic and conversation arc, but go...</td>\n",
       "      <td>3</td>\n",
       "      <td>Topics were good, transitions between topics w...</td>\n",
       "      <td>3</td>\n",
       "      <td>It didn't really have a clear personality to b...</td>\n",
       "      <td>Yeah</td>\n",
       "    </tr>\n",
       "  </tbody>\n",
       "</table>\n",
       "</div>"
      ],
      "text/plain": [
       "                    Timestamp                         Username  \\\n",
       "0  2020/04/01 11:07:27 am CET  sorcha.nicconmara@ucdconnect.ie   \n",
       "1   2020/04/01 2:00:34 pm CET     charles.kelly1@ucdconnect.ie   \n",
       "2   2020/04/01 3:21:27 pm CET         chloe.foxe@ucdconnect.ie   \n",
       "3   2020/04/01 7:02:07 pm CET    elizabeth.burke@ucdconnect.ie   \n",
       "\n",
       "                                     Describe Makoto  \\\n",
       "0                            enthusiastic and lively   \n",
       "1                                             Cheery   \n",
       "2  Makoto was inquisitive. It reflected on my ans...   \n",
       "3  It's an interesting chatbot, the UI was overal...   \n",
       "\n",
       "   How would you rate your experience with Makoto based on its knowledge?  \\\n",
       "0                                                  4                        \n",
       "1                                                  3                        \n",
       "2                                                  3                        \n",
       "3                                                  3                        \n",
       "\n",
       "                    Expand on your answer (optional)  \\\n",
       "0                                                NaN   \n",
       "1  Didnt seem to present any knowledge. Didnt kno...   \n",
       "2  it knew about the modules I took. Didn't under...   \n",
       "3  Interesting topic and conversation arc, but go...   \n",
       "\n",
       "   How would you rate your experience with Makoto based on the quality of the conversation?  \\\n",
       "0                                                  4                                          \n",
       "1                                                  4                                          \n",
       "2                                                  3                                          \n",
       "3                                                  3                                          \n",
       "\n",
       "                  Expand on your answer (optional).1  \\\n",
       "0  Interpreted 'okay' as a negative ('no') at one...   \n",
       "1  The brief conversation was quite pleasant but ...   \n",
       "2  Would've have been exceptional only for the fa...   \n",
       "3  Topics were good, transitions between topics w...   \n",
       "\n",
       "   How would you rate your experience with Makoto based on the its attitude/personality?  \\\n",
       "0                                                  4                                       \n",
       "1                                                  4                                       \n",
       "2                                                  5                                       \n",
       "3                                                  3                                       \n",
       "\n",
       "                  Expand on your answer (optional).2  \\\n",
       "0                                                NaN   \n",
       "1                               Pleasant personality   \n",
       "2   Nice bot. Postive and engaged with my responses.   \n",
       "3  It didn't really have a clear personality to b...   \n",
       "\n",
       "         Did you enjoy your interaction with Makoto?  \n",
       "0                                                yes  \n",
       "1                             For the brief time yes  \n",
       "2  Would've preferred if it opened up and told me...  \n",
       "3                                               Yeah  "
      ]
     },
     "execution_count": 11,
     "metadata": {},
     "output_type": "execute_result"
    }
   ],
   "source": [
    "PostMakotoDir = 'surveys-pilot/Post-InteractionSurveyMakoto-Pilot.csv'\n",
    "df_PostMakoto = pd.read_csv(PostMakotoDir, error_bad_lines=False)\n",
    "df_PostMakoto"
   ]
  },
  {
   "cell_type": "markdown",
   "metadata": {},
   "source": [
    "DataFrame for Post-Interaction Survey (Nasoto)"
   ]
  },
  {
   "cell_type": "code",
   "execution_count": 12,
   "metadata": {},
   "outputs": [
    {
     "data": {
      "text/html": [
       "<div>\n",
       "<style scoped>\n",
       "    .dataframe tbody tr th:only-of-type {\n",
       "        vertical-align: middle;\n",
       "    }\n",
       "\n",
       "    .dataframe tbody tr th {\n",
       "        vertical-align: top;\n",
       "    }\n",
       "\n",
       "    .dataframe thead th {\n",
       "        text-align: right;\n",
       "    }\n",
       "</style>\n",
       "<table border=\"1\" class=\"dataframe\">\n",
       "  <thead>\n",
       "    <tr style=\"text-align: right;\">\n",
       "      <th></th>\n",
       "      <th>Timestamp</th>\n",
       "      <th>Username</th>\n",
       "      <th>Describe Nasoto</th>\n",
       "      <th>How would you rate your interaction/experience with Nasoto based on its knowledge?</th>\n",
       "      <th>Expand on your answer (optional)</th>\n",
       "      <th>How would you rate your experience/interaction with the Nasoto based on the quality of the conversation?</th>\n",
       "      <th>Expand on your answer (optional).1</th>\n",
       "      <th>How would you rate your experience/interaction with Nasoto based on the it's attitude/personality?</th>\n",
       "      <th>Expand on your answer (optional).2</th>\n",
       "      <th>Did you enjoy your interaction with Nasoto?</th>\n",
       "    </tr>\n",
       "  </thead>\n",
       "  <tbody>\n",
       "    <tr>\n",
       "      <th>0</th>\n",
       "      <td>2020/04/01 10:58:46 am CET</td>\n",
       "      <td>sorcha.nicconmara@ucdconnect.ie</td>\n",
       "      <td>Positive - would try to see the other side of ...</td>\n",
       "      <td>5</td>\n",
       "      <td>NaN</td>\n",
       "      <td>4</td>\n",
       "      <td>One case where Nasoto didn't equate 'sure' wit...</td>\n",
       "      <td>4</td>\n",
       "      <td>NaN</td>\n",
       "      <td>yes</td>\n",
       "    </tr>\n",
       "    <tr>\n",
       "      <th>1</th>\n",
       "      <td>2020/04/01 1:56:24 pm CET</td>\n",
       "      <td>charles.kelly1@ucdconnect.ie</td>\n",
       "      <td>Robotic</td>\n",
       "      <td>4</td>\n",
       "      <td>It seemed to be well informed on UCD</td>\n",
       "      <td>1</td>\n",
       "      <td>Wouldnt recognize my answers. Got stuck in a l...</td>\n",
       "      <td>3</td>\n",
       "      <td>Very neutral. No real personality. Neither bad...</td>\n",
       "      <td>Moderately. It was interesting</td>\n",
       "    </tr>\n",
       "    <tr>\n",
       "      <th>2</th>\n",
       "      <td>2020/04/01 3:30:06 pm CET</td>\n",
       "      <td>chloe.foxe@ucdconnect.ie</td>\n",
       "      <td>I liked how the bot spoke about it's own perso...</td>\n",
       "      <td>4</td>\n",
       "      <td>NaN</td>\n",
       "      <td>4</td>\n",
       "      <td>He was more knowledgeable than Makoto</td>\n",
       "      <td>4</td>\n",
       "      <td>Sometimes he didnt understand me. But overall,...</td>\n",
       "      <td>yes, it was nice reflecting on college life a...</td>\n",
       "    </tr>\n",
       "    <tr>\n",
       "      <th>3</th>\n",
       "      <td>2020/04/01 7:11:02 pm CET</td>\n",
       "      <td>elizabeth.burke@ucdconnect.ie</td>\n",
       "      <td>Standoffish? If you can even accuse a chatbot ...</td>\n",
       "      <td>2</td>\n",
       "      <td>NaN</td>\n",
       "      <td>2</td>\n",
       "      <td>NaN</td>\n",
       "      <td>1</td>\n",
       "      <td>It was very formal, and was noticeably less 'h...</td>\n",
       "      <td>Not really</td>\n",
       "    </tr>\n",
       "  </tbody>\n",
       "</table>\n",
       "</div>"
      ],
      "text/plain": [
       "                    Timestamp                         Username  \\\n",
       "0  2020/04/01 10:58:46 am CET  sorcha.nicconmara@ucdconnect.ie   \n",
       "1   2020/04/01 1:56:24 pm CET     charles.kelly1@ucdconnect.ie   \n",
       "2   2020/04/01 3:30:06 pm CET         chloe.foxe@ucdconnect.ie   \n",
       "3   2020/04/01 7:11:02 pm CET    elizabeth.burke@ucdconnect.ie   \n",
       "\n",
       "                                     Describe Nasoto  \\\n",
       "0  Positive - would try to see the other side of ...   \n",
       "1                                            Robotic   \n",
       "2  I liked how the bot spoke about it's own perso...   \n",
       "3  Standoffish? If you can even accuse a chatbot ...   \n",
       "\n",
       "   How would you rate your interaction/experience with Nasoto based on its knowledge?  \\\n",
       "0                                                  5                                    \n",
       "1                                                  4                                    \n",
       "2                                                  4                                    \n",
       "3                                                  2                                    \n",
       "\n",
       "       Expand on your answer (optional)  \\\n",
       "0                                   NaN   \n",
       "1  It seemed to be well informed on UCD   \n",
       "2                                   NaN   \n",
       "3                                   NaN   \n",
       "\n",
       "   How would you rate your experience/interaction with the Nasoto based on the quality of the conversation?  \\\n",
       "0                                                  4                                                          \n",
       "1                                                  1                                                          \n",
       "2                                                  4                                                          \n",
       "3                                                  2                                                          \n",
       "\n",
       "                  Expand on your answer (optional).1  \\\n",
       "0  One case where Nasoto didn't equate 'sure' wit...   \n",
       "1  Wouldnt recognize my answers. Got stuck in a l...   \n",
       "2             He was more knowledgeable than Makoto    \n",
       "3                                                NaN   \n",
       "\n",
       "   How would you rate your experience/interaction with Nasoto based on the it's attitude/personality?  \\\n",
       "0                                                  4                                                    \n",
       "1                                                  3                                                    \n",
       "2                                                  4                                                    \n",
       "3                                                  1                                                    \n",
       "\n",
       "                  Expand on your answer (optional).2  \\\n",
       "0                                                NaN   \n",
       "1  Very neutral. No real personality. Neither bad...   \n",
       "2  Sometimes he didnt understand me. But overall,...   \n",
       "3  It was very formal, and was noticeably less 'h...   \n",
       "\n",
       "         Did you enjoy your interaction with Nasoto?  \n",
       "0                                                yes  \n",
       "1                     Moderately. It was interesting  \n",
       "2   yes, it was nice reflecting on college life a...  \n",
       "3                                         Not really  "
      ]
     },
     "execution_count": 12,
     "metadata": {},
     "output_type": "execute_result"
    }
   ],
   "source": [
    "SurveyNasotoDir = 'surveys-pilot/Post-InteractionSurveyNasoto-Pilot.csv'\n",
    "df_surveyNasoto = pd.read_csv(SurveyNasotoDir)\n",
    "df_surveyNasoto"
   ]
  },
  {
   "cell_type": "markdown",
   "metadata": {},
   "source": [
    " DataFrame for Post-Interaction Survey/Final Survey (Both) "
   ]
  },
  {
   "cell_type": "code",
   "execution_count": 13,
   "metadata": {
    "scrolled": true
   },
   "outputs": [
    {
     "data": {
      "text/html": [
       "<div>\n",
       "<style scoped>\n",
       "    .dataframe tbody tr th:only-of-type {\n",
       "        vertical-align: middle;\n",
       "    }\n",
       "\n",
       "    .dataframe tbody tr th {\n",
       "        vertical-align: top;\n",
       "    }\n",
       "\n",
       "    .dataframe thead th {\n",
       "        text-align: right;\n",
       "    }\n",
       "</style>\n",
       "<table border=\"1\" class=\"dataframe\">\n",
       "  <thead>\n",
       "    <tr style=\"text-align: right;\">\n",
       "      <th></th>\n",
       "      <th>Timestamp</th>\n",
       "      <th>Username</th>\n",
       "      <th>Did you notice any differences in your interactions with one chatbot over the other? If so what were they.</th>\n",
       "      <th>Which chatbot did you prefer interacting with?</th>\n",
       "      <th>Explain why you preferred interacting with this chatbot?</th>\n",
       "    </tr>\n",
       "  </thead>\n",
       "  <tbody>\n",
       "    <tr>\n",
       "      <th>0</th>\n",
       "      <td>2020/04/01 11:08:44 am CET</td>\n",
       "      <td>sorcha.nicconmara@ucdconnect.ie</td>\n",
       "      <td>Makoto was more upbeat  and enthusiastic than ...</td>\n",
       "      <td>Makoto</td>\n",
       "      <td>felt that Makoto was very encouraging and 'hap...</td>\n",
       "    </tr>\n",
       "    <tr>\n",
       "      <th>1</th>\n",
       "      <td>2020/04/01 2:01:23 pm CET</td>\n",
       "      <td>charles.kelly1@ucdconnect.ie</td>\n",
       "      <td>Nasato had no personality. Makoto stopped work...</td>\n",
       "      <td>Makoto</td>\n",
       "      <td>Seemed more human</td>\n",
       "    </tr>\n",
       "    <tr>\n",
       "      <th>2</th>\n",
       "      <td>2020/04/01 3:33:01 pm CET</td>\n",
       "      <td>chloe.foxe@ucdconnect.ie</td>\n",
       "      <td>Nasoto opened up about his likes/dislikes more...</td>\n",
       "      <td>Nasoto</td>\n",
       "      <td>I preferred interacting with nasoto because I ...</td>\n",
       "    </tr>\n",
       "    <tr>\n",
       "      <th>3</th>\n",
       "      <td>2020/04/01 7:08:03 pm CET</td>\n",
       "      <td>elizabeth.burke@ucdconnect.ie</td>\n",
       "      <td>The tone, the second one felt far more automat...</td>\n",
       "      <td>Makoto</td>\n",
       "      <td>It was a nicer Ux because of the conversationa...</td>\n",
       "    </tr>\n",
       "  </tbody>\n",
       "</table>\n",
       "</div>"
      ],
      "text/plain": [
       "                    Timestamp                         Username  \\\n",
       "0  2020/04/01 11:08:44 am CET  sorcha.nicconmara@ucdconnect.ie   \n",
       "1   2020/04/01 2:01:23 pm CET     charles.kelly1@ucdconnect.ie   \n",
       "2   2020/04/01 3:33:01 pm CET         chloe.foxe@ucdconnect.ie   \n",
       "3   2020/04/01 7:08:03 pm CET    elizabeth.burke@ucdconnect.ie   \n",
       "\n",
       "  Did you notice any differences in your interactions with one chatbot over the other? If so what were they.  \\\n",
       "0  Makoto was more upbeat  and enthusiastic than ...                                                           \n",
       "1  Nasato had no personality. Makoto stopped work...                                                           \n",
       "2  Nasoto opened up about his likes/dislikes more...                                                           \n",
       "3  The tone, the second one felt far more automat...                                                           \n",
       "\n",
       "  Which chatbot did you prefer interacting with?  \\\n",
       "0                                         Makoto   \n",
       "1                                         Makoto   \n",
       "2                                         Nasoto   \n",
       "3                                         Makoto   \n",
       "\n",
       "  Explain why you preferred interacting with this chatbot?  \n",
       "0  felt that Makoto was very encouraging and 'hap...        \n",
       "1                                 Seemed more human         \n",
       "2  I preferred interacting with nasoto because I ...        \n",
       "3  It was a nicer Ux because of the conversationa...        "
      ]
     },
     "execution_count": 13,
     "metadata": {},
     "output_type": "execute_result"
    }
   ],
   "source": [
    "Survey4Dir = 'surveys-pilot/FinalSurvey-Pilot.csv'\n",
    "df_survey4 = pd.read_csv(Survey4Dir)\n",
    "df_survey4"
   ]
  },
  {
   "cell_type": "markdown",
   "metadata": {},
   "source": [
    "Automation of personality assignment"
   ]
  },
  {
   "cell_type": "code",
   "execution_count": 14,
   "metadata": {
    "scrolled": true
   },
   "outputs": [],
   "source": [
    "extraversion = ((6 - df_Survey1['I am reserved']) \n",
    "        + df_Survey1['I am full of energy'] \n",
    "        + df_Survey1['I generate a lot of enthusiasm '] \n",
    "        + (6 - df_Survey1['I tend to be quiet ']) \n",
    "        + df_Survey1['I have an assertive personality'] \n",
    "        + (6 - df_Survey1['I am sometimes shy, inhibited']) \n",
    "        + df_Survey1['I am outgoing, sociable '])\n",
    "\n",
    "\n",
    "df_Survey1[\"extraversion score\"] = extraversion\n",
    "               \n",
    "               \n",
    "agreeableness = ((6 - df_Survey1['I tend to find fault with others']) \n",
    "        + df_Survey1['I am helpful and unselfish with others']\n",
    "        + (6 - df_Survey1['I start quarrels with others'] )\n",
    "        + df_Survey1['I have a forgiving nature'] \n",
    "        + df_Survey1['I am generally trusting'] \n",
    "        + (6 - df_Survey1['I can be cold and aloof '])\n",
    "        + df_Survey1['I am considerate and kind to almost everyone']\n",
    "        + ( 6 - df_Survey1['I am sometimes rude to others']) \n",
    "        + df_Survey1['I like to cooperate with others'])\n",
    "df_Survey1[\"agreeableness score\"] = agreeableness\n",
    "\n",
    "\n"
   ]
  },
  {
   "cell_type": "code",
   "execution_count": 15,
   "metadata": {},
   "outputs": [
    {
     "data": {
      "text/html": [
       "<div>\n",
       "<style scoped>\n",
       "    .dataframe tbody tr th:only-of-type {\n",
       "        vertical-align: middle;\n",
       "    }\n",
       "\n",
       "    .dataframe tbody tr th {\n",
       "        vertical-align: top;\n",
       "    }\n",
       "\n",
       "    .dataframe thead th {\n",
       "        text-align: right;\n",
       "    }\n",
       "</style>\n",
       "<table border=\"1\" class=\"dataframe\">\n",
       "  <thead>\n",
       "    <tr style=\"text-align: right;\">\n",
       "      <th></th>\n",
       "      <th>Timestamp</th>\n",
       "      <th>Username</th>\n",
       "      <th>Age</th>\n",
       "      <th>Gender</th>\n",
       "      <th>Do you know what a chatbot is?</th>\n",
       "      <th>If Yes, describe your understanding of what a chatbot is</th>\n",
       "      <th>How often do you use Siri, Alexa, Google Assistant or any other virtual assistant?</th>\n",
       "      <th>I am reserved</th>\n",
       "      <th>I tend to find fault with others</th>\n",
       "      <th>I am helpful and unselfish with others</th>\n",
       "      <th>...</th>\n",
       "      <th>I am generally trusting</th>\n",
       "      <th>I have an assertive personality</th>\n",
       "      <th>I can be cold and aloof</th>\n",
       "      <th>I am sometimes shy, inhibited</th>\n",
       "      <th>I am considerate and kind to almost everyone</th>\n",
       "      <th>I am outgoing, sociable</th>\n",
       "      <th>I am sometimes rude to others</th>\n",
       "      <th>I like to cooperate with others</th>\n",
       "      <th>extraversion score</th>\n",
       "      <th>agreeableness score</th>\n",
       "    </tr>\n",
       "  </thead>\n",
       "  <tbody>\n",
       "    <tr>\n",
       "      <th>0</th>\n",
       "      <td>2020/04/01 10:45:16 am CET</td>\n",
       "      <td>sorcha.nicconmara@ucdconnect.ie</td>\n",
       "      <td>18-24</td>\n",
       "      <td>Female</td>\n",
       "      <td>Yes</td>\n",
       "      <td>A program/piece of software that imitates huma...</td>\n",
       "      <td>Never</td>\n",
       "      <td>2</td>\n",
       "      <td>3</td>\n",
       "      <td>4</td>\n",
       "      <td>...</td>\n",
       "      <td>4</td>\n",
       "      <td>4</td>\n",
       "      <td>1</td>\n",
       "      <td>4</td>\n",
       "      <td>4</td>\n",
       "      <td>4</td>\n",
       "      <td>3</td>\n",
       "      <td>4</td>\n",
       "      <td>25</td>\n",
       "      <td>36</td>\n",
       "    </tr>\n",
       "    <tr>\n",
       "      <th>1</th>\n",
       "      <td>2020/04/01 1:45:07 pm CET</td>\n",
       "      <td>charles.kelly1@ucdconnect.ie</td>\n",
       "      <td>18-24</td>\n",
       "      <td>Male</td>\n",
       "      <td>Yes</td>\n",
       "      <td>An ai that attempts to replicate human convers...</td>\n",
       "      <td>Somewhat</td>\n",
       "      <td>4</td>\n",
       "      <td>5</td>\n",
       "      <td>4</td>\n",
       "      <td>...</td>\n",
       "      <td>3</td>\n",
       "      <td>2</td>\n",
       "      <td>4</td>\n",
       "      <td>4</td>\n",
       "      <td>4</td>\n",
       "      <td>4</td>\n",
       "      <td>4</td>\n",
       "      <td>4</td>\n",
       "      <td>16</td>\n",
       "      <td>27</td>\n",
       "    </tr>\n",
       "    <tr>\n",
       "      <th>2</th>\n",
       "      <td>2020/04/01 3:11:18 pm CET</td>\n",
       "      <td>chloe.foxe@ucdconnect.ie</td>\n",
       "      <td>18-24</td>\n",
       "      <td>Female</td>\n",
       "      <td>Yes</td>\n",
       "      <td>A chatbot is a computer program with human cap...</td>\n",
       "      <td>Somewhat</td>\n",
       "      <td>4</td>\n",
       "      <td>2</td>\n",
       "      <td>4</td>\n",
       "      <td>...</td>\n",
       "      <td>5</td>\n",
       "      <td>4</td>\n",
       "      <td>5</td>\n",
       "      <td>3</td>\n",
       "      <td>4</td>\n",
       "      <td>3</td>\n",
       "      <td>3</td>\n",
       "      <td>5</td>\n",
       "      <td>23</td>\n",
       "      <td>31</td>\n",
       "    </tr>\n",
       "    <tr>\n",
       "      <th>3</th>\n",
       "      <td>2020/04/01 6:44:12 pm CET</td>\n",
       "      <td>elizabeth.burke@ucdconnect.ie</td>\n",
       "      <td>18-24</td>\n",
       "      <td>Female</td>\n",
       "      <td>Yes</td>\n",
       "      <td>Artificial Intelligence capable of holding a c...</td>\n",
       "      <td>Somewhat</td>\n",
       "      <td>2</td>\n",
       "      <td>3</td>\n",
       "      <td>5</td>\n",
       "      <td>...</td>\n",
       "      <td>4</td>\n",
       "      <td>4</td>\n",
       "      <td>1</td>\n",
       "      <td>1</td>\n",
       "      <td>5</td>\n",
       "      <td>5</td>\n",
       "      <td>1</td>\n",
       "      <td>5</td>\n",
       "      <td>30</td>\n",
       "      <td>38</td>\n",
       "    </tr>\n",
       "  </tbody>\n",
       "</table>\n",
       "<p>4 rows × 25 columns</p>\n",
       "</div>"
      ],
      "text/plain": [
       "                    Timestamp                         Username    Age  Gender  \\\n",
       "0  2020/04/01 10:45:16 am CET  sorcha.nicconmara@ucdconnect.ie  18-24  Female   \n",
       "1   2020/04/01 1:45:07 pm CET     charles.kelly1@ucdconnect.ie  18-24    Male   \n",
       "2   2020/04/01 3:11:18 pm CET         chloe.foxe@ucdconnect.ie  18-24  Female   \n",
       "3   2020/04/01 6:44:12 pm CET    elizabeth.burke@ucdconnect.ie  18-24  Female   \n",
       "\n",
       "  Do you know what a chatbot is?  \\\n",
       "0                            Yes   \n",
       "1                            Yes   \n",
       "2                            Yes   \n",
       "3                            Yes   \n",
       "\n",
       "  If Yes, describe your understanding of what a chatbot is   \\\n",
       "0  A program/piece of software that imitates huma...          \n",
       "1  An ai that attempts to replicate human convers...          \n",
       "2  A chatbot is a computer program with human cap...          \n",
       "3  Artificial Intelligence capable of holding a c...          \n",
       "\n",
       "  How often do you use Siri, Alexa, Google Assistant or any other virtual assistant?  \\\n",
       "0                                              Never                                   \n",
       "1                                           Somewhat                                   \n",
       "2                                           Somewhat                                   \n",
       "3                                           Somewhat                                   \n",
       "\n",
       "   I am reserved  I tend to find fault with others  \\\n",
       "0              2                                 3   \n",
       "1              4                                 5   \n",
       "2              4                                 2   \n",
       "3              2                                 3   \n",
       "\n",
       "   I am helpful and unselfish with others  ...  I am generally trusting  \\\n",
       "0                                       4  ...                        4   \n",
       "1                                       4  ...                        3   \n",
       "2                                       4  ...                        5   \n",
       "3                                       5  ...                        4   \n",
       "\n",
       "   I have an assertive personality  I can be cold and aloof   \\\n",
       "0                                4                         1   \n",
       "1                                2                         4   \n",
       "2                                4                         5   \n",
       "3                                4                         1   \n",
       "\n",
       "   I am sometimes shy, inhibited  \\\n",
       "0                              4   \n",
       "1                              4   \n",
       "2                              3   \n",
       "3                              1   \n",
       "\n",
       "   I am considerate and kind to almost everyone  I am outgoing, sociable   \\\n",
       "0                                             4                         4   \n",
       "1                                             4                         4   \n",
       "2                                             4                         3   \n",
       "3                                             5                         5   \n",
       "\n",
       "   I am sometimes rude to others  I like to cooperate with others  \\\n",
       "0                              3                                4   \n",
       "1                              4                                4   \n",
       "2                              3                                5   \n",
       "3                              1                                5   \n",
       "\n",
       "   extraversion score  agreeableness score  \n",
       "0                  25                   36  \n",
       "1                  16                   27  \n",
       "2                  23                   31  \n",
       "3                  30                   38  \n",
       "\n",
       "[4 rows x 25 columns]"
      ]
     },
     "execution_count": 15,
     "metadata": {},
     "output_type": "execute_result"
    }
   ],
   "source": [
    "df_Survey1"
   ]
  },
  {
   "cell_type": "code",
   "execution_count": 37,
   "metadata": {},
   "outputs": [],
   "source": [
    "### Merge all the surveys based on username (email)\n",
    "from functools import reduce"
   ]
  },
  {
   "cell_type": "code",
   "execution_count": 39,
   "metadata": {},
   "outputs": [
    {
     "data": {
      "text/html": [
       "<div>\n",
       "<style scoped>\n",
       "    .dataframe tbody tr th:only-of-type {\n",
       "        vertical-align: middle;\n",
       "    }\n",
       "\n",
       "    .dataframe tbody tr th {\n",
       "        vertical-align: top;\n",
       "    }\n",
       "\n",
       "    .dataframe thead th {\n",
       "        text-align: right;\n",
       "    }\n",
       "</style>\n",
       "<table border=\"1\" class=\"dataframe\">\n",
       "  <thead>\n",
       "    <tr style=\"text-align: right;\">\n",
       "      <th></th>\n",
       "      <th>Timestamp_x</th>\n",
       "      <th>Username</th>\n",
       "      <th>Age</th>\n",
       "      <th>Gender</th>\n",
       "      <th>Do you know what a chatbot is?</th>\n",
       "      <th>If Yes, describe your understanding of what a chatbot is</th>\n",
       "      <th>How often do you use Siri, Alexa, Google Assistant or any other virtual assistant?</th>\n",
       "      <th>I am reserved</th>\n",
       "      <th>I tend to find fault with others</th>\n",
       "      <th>I am helpful and unselfish with others</th>\n",
       "      <th>...</th>\n",
       "      <th>Expand on your answer (optional)_y</th>\n",
       "      <th>How would you rate your experience/interaction with the Nasoto based on the quality of the conversation?</th>\n",
       "      <th>Expand on your answer (optional).1_y</th>\n",
       "      <th>How would you rate your experience/interaction with Nasoto based on the it's attitude/personality?</th>\n",
       "      <th>Expand on your answer (optional).2_y</th>\n",
       "      <th>Did you enjoy your interaction with Nasoto?</th>\n",
       "      <th>Timestamp_y</th>\n",
       "      <th>Did you notice any differences in your interactions with one chatbot over the other? If so what were they.</th>\n",
       "      <th>Which chatbot did you prefer interacting with?</th>\n",
       "      <th>Explain why you preferred interacting with this chatbot?</th>\n",
       "    </tr>\n",
       "  </thead>\n",
       "  <tbody>\n",
       "    <tr>\n",
       "      <th>0</th>\n",
       "      <td>2020/04/01 10:45:16 am CET</td>\n",
       "      <td>sorcha.nicconmara@ucdconnect.ie</td>\n",
       "      <td>18-24</td>\n",
       "      <td>Female</td>\n",
       "      <td>Yes</td>\n",
       "      <td>A program/piece of software that imitates huma...</td>\n",
       "      <td>Never</td>\n",
       "      <td>2</td>\n",
       "      <td>3</td>\n",
       "      <td>4</td>\n",
       "      <td>...</td>\n",
       "      <td>NaN</td>\n",
       "      <td>4</td>\n",
       "      <td>One case where Nasoto didn't equate 'sure' wit...</td>\n",
       "      <td>4</td>\n",
       "      <td>NaN</td>\n",
       "      <td>yes</td>\n",
       "      <td>2020/04/01 11:08:44 am CET</td>\n",
       "      <td>Makoto was more upbeat  and enthusiastic than ...</td>\n",
       "      <td>Makoto</td>\n",
       "      <td>felt that Makoto was very encouraging and 'hap...</td>\n",
       "    </tr>\n",
       "    <tr>\n",
       "      <th>1</th>\n",
       "      <td>2020/04/01 1:45:07 pm CET</td>\n",
       "      <td>charles.kelly1@ucdconnect.ie</td>\n",
       "      <td>18-24</td>\n",
       "      <td>Male</td>\n",
       "      <td>Yes</td>\n",
       "      <td>An ai that attempts to replicate human convers...</td>\n",
       "      <td>Somewhat</td>\n",
       "      <td>4</td>\n",
       "      <td>5</td>\n",
       "      <td>4</td>\n",
       "      <td>...</td>\n",
       "      <td>It seemed to be well informed on UCD</td>\n",
       "      <td>1</td>\n",
       "      <td>Wouldnt recognize my answers. Got stuck in a l...</td>\n",
       "      <td>3</td>\n",
       "      <td>Very neutral. No real personality. Neither bad...</td>\n",
       "      <td>Moderately. It was interesting</td>\n",
       "      <td>2020/04/01 2:01:23 pm CET</td>\n",
       "      <td>Nasato had no personality. Makoto stopped work...</td>\n",
       "      <td>Makoto</td>\n",
       "      <td>Seemed more human</td>\n",
       "    </tr>\n",
       "    <tr>\n",
       "      <th>2</th>\n",
       "      <td>2020/04/01 3:11:18 pm CET</td>\n",
       "      <td>chloe.foxe@ucdconnect.ie</td>\n",
       "      <td>18-24</td>\n",
       "      <td>Female</td>\n",
       "      <td>Yes</td>\n",
       "      <td>A chatbot is a computer program with human cap...</td>\n",
       "      <td>Somewhat</td>\n",
       "      <td>4</td>\n",
       "      <td>2</td>\n",
       "      <td>4</td>\n",
       "      <td>...</td>\n",
       "      <td>NaN</td>\n",
       "      <td>4</td>\n",
       "      <td>He was more knowledgeable than Makoto</td>\n",
       "      <td>4</td>\n",
       "      <td>Sometimes he didnt understand me. But overall,...</td>\n",
       "      <td>yes, it was nice reflecting on college life a...</td>\n",
       "      <td>2020/04/01 3:33:01 pm CET</td>\n",
       "      <td>Nasoto opened up about his likes/dislikes more...</td>\n",
       "      <td>Nasoto</td>\n",
       "      <td>I preferred interacting with nasoto because I ...</td>\n",
       "    </tr>\n",
       "    <tr>\n",
       "      <th>3</th>\n",
       "      <td>2020/04/01 6:44:12 pm CET</td>\n",
       "      <td>elizabeth.burke@ucdconnect.ie</td>\n",
       "      <td>18-24</td>\n",
       "      <td>Female</td>\n",
       "      <td>Yes</td>\n",
       "      <td>Artificial Intelligence capable of holding a c...</td>\n",
       "      <td>Somewhat</td>\n",
       "      <td>2</td>\n",
       "      <td>3</td>\n",
       "      <td>5</td>\n",
       "      <td>...</td>\n",
       "      <td>NaN</td>\n",
       "      <td>2</td>\n",
       "      <td>NaN</td>\n",
       "      <td>1</td>\n",
       "      <td>It was very formal, and was noticeably less 'h...</td>\n",
       "      <td>Not really</td>\n",
       "      <td>2020/04/01 7:08:03 pm CET</td>\n",
       "      <td>The tone, the second one felt far more automat...</td>\n",
       "      <td>Makoto</td>\n",
       "      <td>It was a nicer Ux because of the conversationa...</td>\n",
       "    </tr>\n",
       "  </tbody>\n",
       "</table>\n",
       "<p>4 rows × 47 columns</p>\n",
       "</div>"
      ],
      "text/plain": [
       "                  Timestamp_x                         Username    Age  Gender  \\\n",
       "0  2020/04/01 10:45:16 am CET  sorcha.nicconmara@ucdconnect.ie  18-24  Female   \n",
       "1   2020/04/01 1:45:07 pm CET     charles.kelly1@ucdconnect.ie  18-24    Male   \n",
       "2   2020/04/01 3:11:18 pm CET         chloe.foxe@ucdconnect.ie  18-24  Female   \n",
       "3   2020/04/01 6:44:12 pm CET    elizabeth.burke@ucdconnect.ie  18-24  Female   \n",
       "\n",
       "  Do you know what a chatbot is?  \\\n",
       "0                            Yes   \n",
       "1                            Yes   \n",
       "2                            Yes   \n",
       "3                            Yes   \n",
       "\n",
       "  If Yes, describe your understanding of what a chatbot is   \\\n",
       "0  A program/piece of software that imitates huma...          \n",
       "1  An ai that attempts to replicate human convers...          \n",
       "2  A chatbot is a computer program with human cap...          \n",
       "3  Artificial Intelligence capable of holding a c...          \n",
       "\n",
       "  How often do you use Siri, Alexa, Google Assistant or any other virtual assistant?  \\\n",
       "0                                              Never                                   \n",
       "1                                           Somewhat                                   \n",
       "2                                           Somewhat                                   \n",
       "3                                           Somewhat                                   \n",
       "\n",
       "   I am reserved  I tend to find fault with others  \\\n",
       "0              2                                 3   \n",
       "1              4                                 5   \n",
       "2              4                                 2   \n",
       "3              2                                 3   \n",
       "\n",
       "   I am helpful and unselfish with others  ...  \\\n",
       "0                                       4  ...   \n",
       "1                                       4  ...   \n",
       "2                                       4  ...   \n",
       "3                                       5  ...   \n",
       "\n",
       "     Expand on your answer (optional)_y  \\\n",
       "0                                   NaN   \n",
       "1  It seemed to be well informed on UCD   \n",
       "2                                   NaN   \n",
       "3                                   NaN   \n",
       "\n",
       "   How would you rate your experience/interaction with the Nasoto based on the quality of the conversation?  \\\n",
       "0                                                  4                                                          \n",
       "1                                                  1                                                          \n",
       "2                                                  4                                                          \n",
       "3                                                  2                                                          \n",
       "\n",
       "                Expand on your answer (optional).1_y  \\\n",
       "0  One case where Nasoto didn't equate 'sure' wit...   \n",
       "1  Wouldnt recognize my answers. Got stuck in a l...   \n",
       "2             He was more knowledgeable than Makoto    \n",
       "3                                                NaN   \n",
       "\n",
       "   How would you rate your experience/interaction with Nasoto based on the it's attitude/personality?  \\\n",
       "0                                                  4                                                    \n",
       "1                                                  3                                                    \n",
       "2                                                  4                                                    \n",
       "3                                                  1                                                    \n",
       "\n",
       "                Expand on your answer (optional).2_y  \\\n",
       "0                                                NaN   \n",
       "1  Very neutral. No real personality. Neither bad...   \n",
       "2  Sometimes he didnt understand me. But overall,...   \n",
       "3  It was very formal, and was noticeably less 'h...   \n",
       "\n",
       "         Did you enjoy your interaction with Nasoto?  \\\n",
       "0                                                yes   \n",
       "1                     Moderately. It was interesting   \n",
       "2   yes, it was nice reflecting on college life a...   \n",
       "3                                         Not really   \n",
       "\n",
       "                  Timestamp_y  \\\n",
       "0  2020/04/01 11:08:44 am CET   \n",
       "1   2020/04/01 2:01:23 pm CET   \n",
       "2   2020/04/01 3:33:01 pm CET   \n",
       "3   2020/04/01 7:08:03 pm CET   \n",
       "\n",
       "   Did you notice any differences in your interactions with one chatbot over the other? If so what were they.  \\\n",
       "0  Makoto was more upbeat  and enthusiastic than ...                                                            \n",
       "1  Nasato had no personality. Makoto stopped work...                                                            \n",
       "2  Nasoto opened up about his likes/dislikes more...                                                            \n",
       "3  The tone, the second one felt far more automat...                                                            \n",
       "\n",
       "   Which chatbot did you prefer interacting with?  \\\n",
       "0                                          Makoto   \n",
       "1                                          Makoto   \n",
       "2                                          Nasoto   \n",
       "3                                          Makoto   \n",
       "\n",
       "   Explain why you preferred interacting with this chatbot?  \n",
       "0  felt that Makoto was very encouraging and 'hap...         \n",
       "1                                 Seemed more human          \n",
       "2  I preferred interacting with nasoto because I ...         \n",
       "3  It was a nicer Ux because of the conversationa...         \n",
       "\n",
       "[4 rows x 47 columns]"
      ]
     },
     "execution_count": 39,
     "metadata": {},
     "output_type": "execute_result"
    }
   ],
   "source": [
    "df_allSurveys =  [df_Survey1, df_PostMakoto, df_surveyNasoto, df_survey4]\n",
    "\n",
    "\n",
    "df_merged = reduce(lambda  left,right: pd.merge(left,right,on=['Username'],\n",
    "                                            how='outer'), df_allSurveys)\n"
   ]
  },
  {
   "cell_type": "markdown",
   "metadata": {},
   "source": [
    "# Summary Stats"
   ]
  },
  {
   "cell_type": "code",
   "execution_count": 109,
   "metadata": {
    "scrolled": false
   },
   "outputs": [
    {
     "name": "stdout",
     "output_type": "stream",
     "text": [
      "Requirement already satisfied: plotly==4.6.0 in /Users/sineadfarrell/opt/anaconda3/lib/python3.7/site-packages (4.6.0)\n",
      "Requirement already satisfied: retrying>=1.3.3 in /Users/sineadfarrell/opt/anaconda3/lib/python3.7/site-packages (from plotly==4.6.0) (1.3.3)\n",
      "Requirement already satisfied: six in /Users/sineadfarrell/opt/anaconda3/lib/python3.7/site-packages (from plotly==4.6.0) (1.14.0)\n",
      "Note: you may need to restart the kernel to use updated packages.\n"
     ]
    }
   ],
   "source": [
    "pip install plotly==4.6.0"
   ]
  },
  {
   "cell_type": "code",
   "execution_count": 110,
   "metadata": {},
   "outputs": [],
   "source": [
    "import plotly.express as px"
   ]
  },
  {
   "cell_type": "code",
   "execution_count": 115,
   "metadata": {},
   "outputs": [],
   "source": [
    "#merge df_nasoto with df_makoto\n",
    "df_cd = df_nasoto.append(df_makoto)\n",
    "# convert duratin to minutes from ns\n",
    "df_cd = df_cd.astype({'Duration': 'timedelta64[m]'})"
   ]
  },
  {
   "cell_type": "markdown",
   "metadata": {},
   "source": [
    "## Box Plot  Interaction Duration"
   ]
  },
  {
   "cell_type": "code",
   "execution_count": 116,
   "metadata": {
    "scrolled": true
   },
   "outputs": [
    {
     "data": {
      "application/vnd.plotly.v1+json": {
       "config": {
        "plotlyServerURL": "https://plot.ly"
       },
       "data": [
        {
         "alignmentgroup": "True",
         "hovertemplate": "Chatbot=%{x}<br>Duration=%{y}<extra></extra>",
         "legendgroup": "Nasoto-Bot",
         "marker": {
          "color": "#636efa"
         },
         "name": "Nasoto-Bot",
         "notched": false,
         "offsetgroup": "Nasoto-Bot",
         "orientation": "v",
         "quartilemethod": "exclusive",
         "showlegend": true,
         "type": "box",
         "x": [
          "Nasoto-Bot",
          "Nasoto-Bot",
          "Nasoto-Bot",
          "Nasoto-Bot"
         ],
         "x0": " ",
         "xaxis": "x",
         "y": [
          8,
          7,
          4,
          3
         ],
         "y0": " ",
         "yaxis": "y"
        },
        {
         "alignmentgroup": "True",
         "hovertemplate": "Chatbot=%{x}<br>Duration=%{y}<extra></extra>",
         "legendgroup": "Makoto-Bot",
         "marker": {
          "color": "#EF553B"
         },
         "name": "Makoto-Bot",
         "notched": false,
         "offsetgroup": "Makoto-Bot",
         "orientation": "v",
         "quartilemethod": "exclusive",
         "showlegend": true,
         "type": "box",
         "x": [
          "Makoto-Bot",
          "Makoto-Bot",
          "Makoto-Bot",
          "Makoto-Bot"
         ],
         "x0": " ",
         "xaxis": "x",
         "y": [
          5,
          9,
          2,
          5
         ],
         "y0": " ",
         "yaxis": "y"
        }
       ],
       "layout": {
        "boxmode": "group",
        "legend": {
         "title": {
          "text": "Chatbot"
         },
         "tracegroupgap": 0
        },
        "margin": {
         "t": 60
        },
        "template": {
         "data": {
          "bar": [
           {
            "error_x": {
             "color": "#2a3f5f"
            },
            "error_y": {
             "color": "#2a3f5f"
            },
            "marker": {
             "line": {
              "color": "#E5ECF6",
              "width": 0.5
             }
            },
            "type": "bar"
           }
          ],
          "barpolar": [
           {
            "marker": {
             "line": {
              "color": "#E5ECF6",
              "width": 0.5
             }
            },
            "type": "barpolar"
           }
          ],
          "carpet": [
           {
            "aaxis": {
             "endlinecolor": "#2a3f5f",
             "gridcolor": "white",
             "linecolor": "white",
             "minorgridcolor": "white",
             "startlinecolor": "#2a3f5f"
            },
            "baxis": {
             "endlinecolor": "#2a3f5f",
             "gridcolor": "white",
             "linecolor": "white",
             "minorgridcolor": "white",
             "startlinecolor": "#2a3f5f"
            },
            "type": "carpet"
           }
          ],
          "choropleth": [
           {
            "colorbar": {
             "outlinewidth": 0,
             "ticks": ""
            },
            "type": "choropleth"
           }
          ],
          "contour": [
           {
            "colorbar": {
             "outlinewidth": 0,
             "ticks": ""
            },
            "colorscale": [
             [
              0,
              "#0d0887"
             ],
             [
              0.1111111111111111,
              "#46039f"
             ],
             [
              0.2222222222222222,
              "#7201a8"
             ],
             [
              0.3333333333333333,
              "#9c179e"
             ],
             [
              0.4444444444444444,
              "#bd3786"
             ],
             [
              0.5555555555555556,
              "#d8576b"
             ],
             [
              0.6666666666666666,
              "#ed7953"
             ],
             [
              0.7777777777777778,
              "#fb9f3a"
             ],
             [
              0.8888888888888888,
              "#fdca26"
             ],
             [
              1,
              "#f0f921"
             ]
            ],
            "type": "contour"
           }
          ],
          "contourcarpet": [
           {
            "colorbar": {
             "outlinewidth": 0,
             "ticks": ""
            },
            "type": "contourcarpet"
           }
          ],
          "heatmap": [
           {
            "colorbar": {
             "outlinewidth": 0,
             "ticks": ""
            },
            "colorscale": [
             [
              0,
              "#0d0887"
             ],
             [
              0.1111111111111111,
              "#46039f"
             ],
             [
              0.2222222222222222,
              "#7201a8"
             ],
             [
              0.3333333333333333,
              "#9c179e"
             ],
             [
              0.4444444444444444,
              "#bd3786"
             ],
             [
              0.5555555555555556,
              "#d8576b"
             ],
             [
              0.6666666666666666,
              "#ed7953"
             ],
             [
              0.7777777777777778,
              "#fb9f3a"
             ],
             [
              0.8888888888888888,
              "#fdca26"
             ],
             [
              1,
              "#f0f921"
             ]
            ],
            "type": "heatmap"
           }
          ],
          "heatmapgl": [
           {
            "colorbar": {
             "outlinewidth": 0,
             "ticks": ""
            },
            "colorscale": [
             [
              0,
              "#0d0887"
             ],
             [
              0.1111111111111111,
              "#46039f"
             ],
             [
              0.2222222222222222,
              "#7201a8"
             ],
             [
              0.3333333333333333,
              "#9c179e"
             ],
             [
              0.4444444444444444,
              "#bd3786"
             ],
             [
              0.5555555555555556,
              "#d8576b"
             ],
             [
              0.6666666666666666,
              "#ed7953"
             ],
             [
              0.7777777777777778,
              "#fb9f3a"
             ],
             [
              0.8888888888888888,
              "#fdca26"
             ],
             [
              1,
              "#f0f921"
             ]
            ],
            "type": "heatmapgl"
           }
          ],
          "histogram": [
           {
            "marker": {
             "colorbar": {
              "outlinewidth": 0,
              "ticks": ""
             }
            },
            "type": "histogram"
           }
          ],
          "histogram2d": [
           {
            "colorbar": {
             "outlinewidth": 0,
             "ticks": ""
            },
            "colorscale": [
             [
              0,
              "#0d0887"
             ],
             [
              0.1111111111111111,
              "#46039f"
             ],
             [
              0.2222222222222222,
              "#7201a8"
             ],
             [
              0.3333333333333333,
              "#9c179e"
             ],
             [
              0.4444444444444444,
              "#bd3786"
             ],
             [
              0.5555555555555556,
              "#d8576b"
             ],
             [
              0.6666666666666666,
              "#ed7953"
             ],
             [
              0.7777777777777778,
              "#fb9f3a"
             ],
             [
              0.8888888888888888,
              "#fdca26"
             ],
             [
              1,
              "#f0f921"
             ]
            ],
            "type": "histogram2d"
           }
          ],
          "histogram2dcontour": [
           {
            "colorbar": {
             "outlinewidth": 0,
             "ticks": ""
            },
            "colorscale": [
             [
              0,
              "#0d0887"
             ],
             [
              0.1111111111111111,
              "#46039f"
             ],
             [
              0.2222222222222222,
              "#7201a8"
             ],
             [
              0.3333333333333333,
              "#9c179e"
             ],
             [
              0.4444444444444444,
              "#bd3786"
             ],
             [
              0.5555555555555556,
              "#d8576b"
             ],
             [
              0.6666666666666666,
              "#ed7953"
             ],
             [
              0.7777777777777778,
              "#fb9f3a"
             ],
             [
              0.8888888888888888,
              "#fdca26"
             ],
             [
              1,
              "#f0f921"
             ]
            ],
            "type": "histogram2dcontour"
           }
          ],
          "mesh3d": [
           {
            "colorbar": {
             "outlinewidth": 0,
             "ticks": ""
            },
            "type": "mesh3d"
           }
          ],
          "parcoords": [
           {
            "line": {
             "colorbar": {
              "outlinewidth": 0,
              "ticks": ""
             }
            },
            "type": "parcoords"
           }
          ],
          "pie": [
           {
            "automargin": true,
            "type": "pie"
           }
          ],
          "scatter": [
           {
            "marker": {
             "colorbar": {
              "outlinewidth": 0,
              "ticks": ""
             }
            },
            "type": "scatter"
           }
          ],
          "scatter3d": [
           {
            "line": {
             "colorbar": {
              "outlinewidth": 0,
              "ticks": ""
             }
            },
            "marker": {
             "colorbar": {
              "outlinewidth": 0,
              "ticks": ""
             }
            },
            "type": "scatter3d"
           }
          ],
          "scattercarpet": [
           {
            "marker": {
             "colorbar": {
              "outlinewidth": 0,
              "ticks": ""
             }
            },
            "type": "scattercarpet"
           }
          ],
          "scattergeo": [
           {
            "marker": {
             "colorbar": {
              "outlinewidth": 0,
              "ticks": ""
             }
            },
            "type": "scattergeo"
           }
          ],
          "scattergl": [
           {
            "marker": {
             "colorbar": {
              "outlinewidth": 0,
              "ticks": ""
             }
            },
            "type": "scattergl"
           }
          ],
          "scattermapbox": [
           {
            "marker": {
             "colorbar": {
              "outlinewidth": 0,
              "ticks": ""
             }
            },
            "type": "scattermapbox"
           }
          ],
          "scatterpolar": [
           {
            "marker": {
             "colorbar": {
              "outlinewidth": 0,
              "ticks": ""
             }
            },
            "type": "scatterpolar"
           }
          ],
          "scatterpolargl": [
           {
            "marker": {
             "colorbar": {
              "outlinewidth": 0,
              "ticks": ""
             }
            },
            "type": "scatterpolargl"
           }
          ],
          "scatterternary": [
           {
            "marker": {
             "colorbar": {
              "outlinewidth": 0,
              "ticks": ""
             }
            },
            "type": "scatterternary"
           }
          ],
          "surface": [
           {
            "colorbar": {
             "outlinewidth": 0,
             "ticks": ""
            },
            "colorscale": [
             [
              0,
              "#0d0887"
             ],
             [
              0.1111111111111111,
              "#46039f"
             ],
             [
              0.2222222222222222,
              "#7201a8"
             ],
             [
              0.3333333333333333,
              "#9c179e"
             ],
             [
              0.4444444444444444,
              "#bd3786"
             ],
             [
              0.5555555555555556,
              "#d8576b"
             ],
             [
              0.6666666666666666,
              "#ed7953"
             ],
             [
              0.7777777777777778,
              "#fb9f3a"
             ],
             [
              0.8888888888888888,
              "#fdca26"
             ],
             [
              1,
              "#f0f921"
             ]
            ],
            "type": "surface"
           }
          ],
          "table": [
           {
            "cells": {
             "fill": {
              "color": "#EBF0F8"
             },
             "line": {
              "color": "white"
             }
            },
            "header": {
             "fill": {
              "color": "#C8D4E3"
             },
             "line": {
              "color": "white"
             }
            },
            "type": "table"
           }
          ]
         },
         "layout": {
          "annotationdefaults": {
           "arrowcolor": "#2a3f5f",
           "arrowhead": 0,
           "arrowwidth": 1
          },
          "coloraxis": {
           "colorbar": {
            "outlinewidth": 0,
            "ticks": ""
           }
          },
          "colorscale": {
           "diverging": [
            [
             0,
             "#8e0152"
            ],
            [
             0.1,
             "#c51b7d"
            ],
            [
             0.2,
             "#de77ae"
            ],
            [
             0.3,
             "#f1b6da"
            ],
            [
             0.4,
             "#fde0ef"
            ],
            [
             0.5,
             "#f7f7f7"
            ],
            [
             0.6,
             "#e6f5d0"
            ],
            [
             0.7,
             "#b8e186"
            ],
            [
             0.8,
             "#7fbc41"
            ],
            [
             0.9,
             "#4d9221"
            ],
            [
             1,
             "#276419"
            ]
           ],
           "sequential": [
            [
             0,
             "#0d0887"
            ],
            [
             0.1111111111111111,
             "#46039f"
            ],
            [
             0.2222222222222222,
             "#7201a8"
            ],
            [
             0.3333333333333333,
             "#9c179e"
            ],
            [
             0.4444444444444444,
             "#bd3786"
            ],
            [
             0.5555555555555556,
             "#d8576b"
            ],
            [
             0.6666666666666666,
             "#ed7953"
            ],
            [
             0.7777777777777778,
             "#fb9f3a"
            ],
            [
             0.8888888888888888,
             "#fdca26"
            ],
            [
             1,
             "#f0f921"
            ]
           ],
           "sequentialminus": [
            [
             0,
             "#0d0887"
            ],
            [
             0.1111111111111111,
             "#46039f"
            ],
            [
             0.2222222222222222,
             "#7201a8"
            ],
            [
             0.3333333333333333,
             "#9c179e"
            ],
            [
             0.4444444444444444,
             "#bd3786"
            ],
            [
             0.5555555555555556,
             "#d8576b"
            ],
            [
             0.6666666666666666,
             "#ed7953"
            ],
            [
             0.7777777777777778,
             "#fb9f3a"
            ],
            [
             0.8888888888888888,
             "#fdca26"
            ],
            [
             1,
             "#f0f921"
            ]
           ]
          },
          "colorway": [
           "#636efa",
           "#EF553B",
           "#00cc96",
           "#ab63fa",
           "#FFA15A",
           "#19d3f3",
           "#FF6692",
           "#B6E880",
           "#FF97FF",
           "#FECB52"
          ],
          "font": {
           "color": "#2a3f5f"
          },
          "geo": {
           "bgcolor": "white",
           "lakecolor": "white",
           "landcolor": "#E5ECF6",
           "showlakes": true,
           "showland": true,
           "subunitcolor": "white"
          },
          "hoverlabel": {
           "align": "left"
          },
          "hovermode": "closest",
          "mapbox": {
           "style": "light"
          },
          "paper_bgcolor": "white",
          "plot_bgcolor": "#E5ECF6",
          "polar": {
           "angularaxis": {
            "gridcolor": "white",
            "linecolor": "white",
            "ticks": ""
           },
           "bgcolor": "#E5ECF6",
           "radialaxis": {
            "gridcolor": "white",
            "linecolor": "white",
            "ticks": ""
           }
          },
          "scene": {
           "xaxis": {
            "backgroundcolor": "#E5ECF6",
            "gridcolor": "white",
            "gridwidth": 2,
            "linecolor": "white",
            "showbackground": true,
            "ticks": "",
            "zerolinecolor": "white"
           },
           "yaxis": {
            "backgroundcolor": "#E5ECF6",
            "gridcolor": "white",
            "gridwidth": 2,
            "linecolor": "white",
            "showbackground": true,
            "ticks": "",
            "zerolinecolor": "white"
           },
           "zaxis": {
            "backgroundcolor": "#E5ECF6",
            "gridcolor": "white",
            "gridwidth": 2,
            "linecolor": "white",
            "showbackground": true,
            "ticks": "",
            "zerolinecolor": "white"
           }
          },
          "shapedefaults": {
           "line": {
            "color": "#2a3f5f"
           }
          },
          "ternary": {
           "aaxis": {
            "gridcolor": "white",
            "linecolor": "white",
            "ticks": ""
           },
           "baxis": {
            "gridcolor": "white",
            "linecolor": "white",
            "ticks": ""
           },
           "bgcolor": "#E5ECF6",
           "caxis": {
            "gridcolor": "white",
            "linecolor": "white",
            "ticks": ""
           }
          },
          "title": {
           "x": 0.05
          },
          "xaxis": {
           "automargin": true,
           "gridcolor": "white",
           "linecolor": "white",
           "ticks": "",
           "title": {
            "standoff": 15
           },
           "zerolinecolor": "white",
           "zerolinewidth": 2
          },
          "yaxis": {
           "automargin": true,
           "gridcolor": "white",
           "linecolor": "white",
           "ticks": "",
           "title": {
            "standoff": 15
           },
           "zerolinecolor": "white",
           "zerolinewidth": 2
          }
         }
        },
        "xaxis": {
         "anchor": "y",
         "categoryarray": [
          "Nasoto-Bot",
          "Makoto-Bot"
         ],
         "categoryorder": "array",
         "domain": [
          0,
          1
         ],
         "title": {
          "text": "Chatbot"
         }
        },
        "yaxis": {
         "anchor": "x",
         "domain": [
          0,
          1
         ],
         "title": {
          "text": "Duration"
         }
        }
       }
      },
      "text/html": [
       "<div>\n",
       "        \n",
       "        \n",
       "            <div id=\"90fb3d2d-1d58-4631-a1ed-ccf8e8861545\" class=\"plotly-graph-div\" style=\"height:525px; width:100%;\"></div>\n",
       "            <script type=\"text/javascript\">\n",
       "                require([\"plotly\"], function(Plotly) {\n",
       "                    window.PLOTLYENV=window.PLOTLYENV || {};\n",
       "                    \n",
       "                if (document.getElementById(\"90fb3d2d-1d58-4631-a1ed-ccf8e8861545\")) {\n",
       "                    Plotly.newPlot(\n",
       "                        '90fb3d2d-1d58-4631-a1ed-ccf8e8861545',\n",
       "                        [{\"alignmentgroup\": \"True\", \"hovertemplate\": \"Chatbot=%{x}<br>Duration=%{y}<extra></extra>\", \"legendgroup\": \"Nasoto-Bot\", \"marker\": {\"color\": \"#636efa\"}, \"name\": \"Nasoto-Bot\", \"notched\": false, \"offsetgroup\": \"Nasoto-Bot\", \"orientation\": \"v\", \"quartilemethod\": \"exclusive\", \"showlegend\": true, \"type\": \"box\", \"x\": [\"Nasoto-Bot\", \"Nasoto-Bot\", \"Nasoto-Bot\", \"Nasoto-Bot\"], \"x0\": \" \", \"xaxis\": \"x\", \"y\": [8.0, 7.0, 4.0, 3.0], \"y0\": \" \", \"yaxis\": \"y\"}, {\"alignmentgroup\": \"True\", \"hovertemplate\": \"Chatbot=%{x}<br>Duration=%{y}<extra></extra>\", \"legendgroup\": \"Makoto-Bot\", \"marker\": {\"color\": \"#EF553B\"}, \"name\": \"Makoto-Bot\", \"notched\": false, \"offsetgroup\": \"Makoto-Bot\", \"orientation\": \"v\", \"quartilemethod\": \"exclusive\", \"showlegend\": true, \"type\": \"box\", \"x\": [\"Makoto-Bot\", \"Makoto-Bot\", \"Makoto-Bot\", \"Makoto-Bot\"], \"x0\": \" \", \"xaxis\": \"x\", \"y\": [5.0, 9.0, 2.0, 5.0], \"y0\": \" \", \"yaxis\": \"y\"}],\n",
       "                        {\"boxmode\": \"group\", \"legend\": {\"title\": {\"text\": \"Chatbot\"}, \"tracegroupgap\": 0}, \"margin\": {\"t\": 60}, \"template\": {\"data\": {\"bar\": [{\"error_x\": {\"color\": \"#2a3f5f\"}, \"error_y\": {\"color\": \"#2a3f5f\"}, \"marker\": {\"line\": {\"color\": \"#E5ECF6\", \"width\": 0.5}}, \"type\": \"bar\"}], \"barpolar\": [{\"marker\": {\"line\": {\"color\": \"#E5ECF6\", \"width\": 0.5}}, \"type\": \"barpolar\"}], \"carpet\": [{\"aaxis\": {\"endlinecolor\": \"#2a3f5f\", \"gridcolor\": \"white\", \"linecolor\": \"white\", \"minorgridcolor\": \"white\", \"startlinecolor\": \"#2a3f5f\"}, \"baxis\": {\"endlinecolor\": \"#2a3f5f\", \"gridcolor\": \"white\", \"linecolor\": \"white\", \"minorgridcolor\": \"white\", \"startlinecolor\": \"#2a3f5f\"}, \"type\": \"carpet\"}], \"choropleth\": [{\"colorbar\": {\"outlinewidth\": 0, \"ticks\": \"\"}, \"type\": \"choropleth\"}], \"contour\": [{\"colorbar\": {\"outlinewidth\": 0, \"ticks\": \"\"}, \"colorscale\": [[0.0, \"#0d0887\"], [0.1111111111111111, \"#46039f\"], [0.2222222222222222, \"#7201a8\"], [0.3333333333333333, \"#9c179e\"], [0.4444444444444444, \"#bd3786\"], [0.5555555555555556, \"#d8576b\"], [0.6666666666666666, \"#ed7953\"], [0.7777777777777778, \"#fb9f3a\"], [0.8888888888888888, \"#fdca26\"], [1.0, \"#f0f921\"]], \"type\": \"contour\"}], \"contourcarpet\": [{\"colorbar\": {\"outlinewidth\": 0, \"ticks\": \"\"}, \"type\": \"contourcarpet\"}], \"heatmap\": [{\"colorbar\": {\"outlinewidth\": 0, \"ticks\": \"\"}, \"colorscale\": [[0.0, \"#0d0887\"], [0.1111111111111111, \"#46039f\"], [0.2222222222222222, \"#7201a8\"], [0.3333333333333333, \"#9c179e\"], [0.4444444444444444, \"#bd3786\"], [0.5555555555555556, \"#d8576b\"], [0.6666666666666666, \"#ed7953\"], [0.7777777777777778, \"#fb9f3a\"], [0.8888888888888888, \"#fdca26\"], [1.0, \"#f0f921\"]], \"type\": \"heatmap\"}], \"heatmapgl\": [{\"colorbar\": {\"outlinewidth\": 0, \"ticks\": \"\"}, \"colorscale\": [[0.0, \"#0d0887\"], [0.1111111111111111, \"#46039f\"], [0.2222222222222222, \"#7201a8\"], [0.3333333333333333, \"#9c179e\"], [0.4444444444444444, \"#bd3786\"], [0.5555555555555556, \"#d8576b\"], [0.6666666666666666, \"#ed7953\"], [0.7777777777777778, \"#fb9f3a\"], [0.8888888888888888, \"#fdca26\"], [1.0, \"#f0f921\"]], \"type\": \"heatmapgl\"}], \"histogram\": [{\"marker\": {\"colorbar\": {\"outlinewidth\": 0, \"ticks\": \"\"}}, \"type\": \"histogram\"}], \"histogram2d\": [{\"colorbar\": {\"outlinewidth\": 0, \"ticks\": \"\"}, \"colorscale\": [[0.0, \"#0d0887\"], [0.1111111111111111, \"#46039f\"], [0.2222222222222222, \"#7201a8\"], [0.3333333333333333, \"#9c179e\"], [0.4444444444444444, \"#bd3786\"], [0.5555555555555556, \"#d8576b\"], [0.6666666666666666, \"#ed7953\"], [0.7777777777777778, \"#fb9f3a\"], [0.8888888888888888, \"#fdca26\"], [1.0, \"#f0f921\"]], \"type\": \"histogram2d\"}], \"histogram2dcontour\": [{\"colorbar\": {\"outlinewidth\": 0, \"ticks\": \"\"}, \"colorscale\": [[0.0, \"#0d0887\"], [0.1111111111111111, \"#46039f\"], [0.2222222222222222, \"#7201a8\"], [0.3333333333333333, \"#9c179e\"], [0.4444444444444444, \"#bd3786\"], [0.5555555555555556, \"#d8576b\"], [0.6666666666666666, \"#ed7953\"], [0.7777777777777778, \"#fb9f3a\"], [0.8888888888888888, \"#fdca26\"], [1.0, \"#f0f921\"]], \"type\": \"histogram2dcontour\"}], \"mesh3d\": [{\"colorbar\": {\"outlinewidth\": 0, \"ticks\": \"\"}, \"type\": \"mesh3d\"}], \"parcoords\": [{\"line\": {\"colorbar\": {\"outlinewidth\": 0, \"ticks\": \"\"}}, \"type\": \"parcoords\"}], \"pie\": [{\"automargin\": true, \"type\": \"pie\"}], \"scatter\": [{\"marker\": {\"colorbar\": {\"outlinewidth\": 0, \"ticks\": \"\"}}, \"type\": \"scatter\"}], \"scatter3d\": [{\"line\": {\"colorbar\": {\"outlinewidth\": 0, \"ticks\": \"\"}}, \"marker\": {\"colorbar\": {\"outlinewidth\": 0, \"ticks\": \"\"}}, \"type\": \"scatter3d\"}], \"scattercarpet\": [{\"marker\": {\"colorbar\": {\"outlinewidth\": 0, \"ticks\": \"\"}}, \"type\": \"scattercarpet\"}], \"scattergeo\": [{\"marker\": {\"colorbar\": {\"outlinewidth\": 0, \"ticks\": \"\"}}, \"type\": \"scattergeo\"}], \"scattergl\": [{\"marker\": {\"colorbar\": {\"outlinewidth\": 0, \"ticks\": \"\"}}, \"type\": \"scattergl\"}], \"scattermapbox\": [{\"marker\": {\"colorbar\": {\"outlinewidth\": 0, \"ticks\": \"\"}}, \"type\": \"scattermapbox\"}], \"scatterpolar\": [{\"marker\": {\"colorbar\": {\"outlinewidth\": 0, \"ticks\": \"\"}}, \"type\": \"scatterpolar\"}], \"scatterpolargl\": [{\"marker\": {\"colorbar\": {\"outlinewidth\": 0, \"ticks\": \"\"}}, \"type\": \"scatterpolargl\"}], \"scatterternary\": [{\"marker\": {\"colorbar\": {\"outlinewidth\": 0, \"ticks\": \"\"}}, \"type\": \"scatterternary\"}], \"surface\": [{\"colorbar\": {\"outlinewidth\": 0, \"ticks\": \"\"}, \"colorscale\": [[0.0, \"#0d0887\"], [0.1111111111111111, \"#46039f\"], [0.2222222222222222, \"#7201a8\"], [0.3333333333333333, \"#9c179e\"], [0.4444444444444444, \"#bd3786\"], [0.5555555555555556, \"#d8576b\"], [0.6666666666666666, \"#ed7953\"], [0.7777777777777778, \"#fb9f3a\"], [0.8888888888888888, \"#fdca26\"], [1.0, \"#f0f921\"]], \"type\": \"surface\"}], \"table\": [{\"cells\": {\"fill\": {\"color\": \"#EBF0F8\"}, \"line\": {\"color\": \"white\"}}, \"header\": {\"fill\": {\"color\": \"#C8D4E3\"}, \"line\": {\"color\": \"white\"}}, \"type\": \"table\"}]}, \"layout\": {\"annotationdefaults\": {\"arrowcolor\": \"#2a3f5f\", \"arrowhead\": 0, \"arrowwidth\": 1}, \"coloraxis\": {\"colorbar\": {\"outlinewidth\": 0, \"ticks\": \"\"}}, \"colorscale\": {\"diverging\": [[0, \"#8e0152\"], [0.1, \"#c51b7d\"], [0.2, \"#de77ae\"], [0.3, \"#f1b6da\"], [0.4, \"#fde0ef\"], [0.5, \"#f7f7f7\"], [0.6, \"#e6f5d0\"], [0.7, \"#b8e186\"], [0.8, \"#7fbc41\"], [0.9, \"#4d9221\"], [1, \"#276419\"]], \"sequential\": [[0.0, \"#0d0887\"], [0.1111111111111111, \"#46039f\"], [0.2222222222222222, \"#7201a8\"], [0.3333333333333333, \"#9c179e\"], [0.4444444444444444, \"#bd3786\"], [0.5555555555555556, \"#d8576b\"], [0.6666666666666666, \"#ed7953\"], [0.7777777777777778, \"#fb9f3a\"], [0.8888888888888888, \"#fdca26\"], [1.0, \"#f0f921\"]], \"sequentialminus\": [[0.0, \"#0d0887\"], [0.1111111111111111, \"#46039f\"], [0.2222222222222222, \"#7201a8\"], [0.3333333333333333, \"#9c179e\"], [0.4444444444444444, \"#bd3786\"], [0.5555555555555556, \"#d8576b\"], [0.6666666666666666, \"#ed7953\"], [0.7777777777777778, \"#fb9f3a\"], [0.8888888888888888, \"#fdca26\"], [1.0, \"#f0f921\"]]}, \"colorway\": [\"#636efa\", \"#EF553B\", \"#00cc96\", \"#ab63fa\", \"#FFA15A\", \"#19d3f3\", \"#FF6692\", \"#B6E880\", \"#FF97FF\", \"#FECB52\"], \"font\": {\"color\": \"#2a3f5f\"}, \"geo\": {\"bgcolor\": \"white\", \"lakecolor\": \"white\", \"landcolor\": \"#E5ECF6\", \"showlakes\": true, \"showland\": true, \"subunitcolor\": \"white\"}, \"hoverlabel\": {\"align\": \"left\"}, \"hovermode\": \"closest\", \"mapbox\": {\"style\": \"light\"}, \"paper_bgcolor\": \"white\", \"plot_bgcolor\": \"#E5ECF6\", \"polar\": {\"angularaxis\": {\"gridcolor\": \"white\", \"linecolor\": \"white\", \"ticks\": \"\"}, \"bgcolor\": \"#E5ECF6\", \"radialaxis\": {\"gridcolor\": \"white\", \"linecolor\": \"white\", \"ticks\": \"\"}}, \"scene\": {\"xaxis\": {\"backgroundcolor\": \"#E5ECF6\", \"gridcolor\": \"white\", \"gridwidth\": 2, \"linecolor\": \"white\", \"showbackground\": true, \"ticks\": \"\", \"zerolinecolor\": \"white\"}, \"yaxis\": {\"backgroundcolor\": \"#E5ECF6\", \"gridcolor\": \"white\", \"gridwidth\": 2, \"linecolor\": \"white\", \"showbackground\": true, \"ticks\": \"\", \"zerolinecolor\": \"white\"}, \"zaxis\": {\"backgroundcolor\": \"#E5ECF6\", \"gridcolor\": \"white\", \"gridwidth\": 2, \"linecolor\": \"white\", \"showbackground\": true, \"ticks\": \"\", \"zerolinecolor\": \"white\"}}, \"shapedefaults\": {\"line\": {\"color\": \"#2a3f5f\"}}, \"ternary\": {\"aaxis\": {\"gridcolor\": \"white\", \"linecolor\": \"white\", \"ticks\": \"\"}, \"baxis\": {\"gridcolor\": \"white\", \"linecolor\": \"white\", \"ticks\": \"\"}, \"bgcolor\": \"#E5ECF6\", \"caxis\": {\"gridcolor\": \"white\", \"linecolor\": \"white\", \"ticks\": \"\"}}, \"title\": {\"x\": 0.05}, \"xaxis\": {\"automargin\": true, \"gridcolor\": \"white\", \"linecolor\": \"white\", \"ticks\": \"\", \"title\": {\"standoff\": 15}, \"zerolinecolor\": \"white\", \"zerolinewidth\": 2}, \"yaxis\": {\"automargin\": true, \"gridcolor\": \"white\", \"linecolor\": \"white\", \"ticks\": \"\", \"title\": {\"standoff\": 15}, \"zerolinecolor\": \"white\", \"zerolinewidth\": 2}}}, \"xaxis\": {\"anchor\": \"y\", \"categoryarray\": [\"Nasoto-Bot\", \"Makoto-Bot\"], \"categoryorder\": \"array\", \"domain\": [0.0, 1.0], \"title\": {\"text\": \"Chatbot\"}}, \"yaxis\": {\"anchor\": \"x\", \"domain\": [0.0, 1.0], \"title\": {\"text\": \"Duration\"}}},\n",
       "                        {\"responsive\": true}\n",
       "                    ).then(function(){\n",
       "                            \n",
       "var gd = document.getElementById('90fb3d2d-1d58-4631-a1ed-ccf8e8861545');\n",
       "var x = new MutationObserver(function (mutations, observer) {{\n",
       "        var display = window.getComputedStyle(gd).display;\n",
       "        if (!display || display === 'none') {{\n",
       "            console.log([gd, 'removed!']);\n",
       "            Plotly.purge(gd);\n",
       "            observer.disconnect();\n",
       "        }}\n",
       "}});\n",
       "\n",
       "// Listen for the removal of the full notebook cells\n",
       "var notebookContainer = gd.closest('#notebook-container');\n",
       "if (notebookContainer) {{\n",
       "    x.observe(notebookContainer, {childList: true});\n",
       "}}\n",
       "\n",
       "// Listen for the clearing of the current output cell\n",
       "var outputEl = gd.closest('.output');\n",
       "if (outputEl) {{\n",
       "    x.observe(outputEl, {childList: true});\n",
       "}}\n",
       "\n",
       "                        })\n",
       "                };\n",
       "                });\n",
       "            </script>\n",
       "        </div>"
      ]
     },
     "metadata": {},
     "output_type": "display_data"
    }
   ],
   "source": [
    "fig = px.box(df_cd , \"Chatbot\", \"Duration\", \"Chatbot\")\n",
    "fig.update_traces(quartilemethod=\"exclusive\") # or \"inclusive\", or \"linear\" by default\n",
    "fig.show()"
   ]
  },
  {
   "cell_type": "markdown",
   "metadata": {},
   "source": [
    "## BoxPlot Number of Turns"
   ]
  },
  {
   "cell_type": "code",
   "execution_count": 117,
   "metadata": {},
   "outputs": [
    {
     "data": {
      "application/vnd.plotly.v1+json": {
       "config": {
        "plotlyServerURL": "https://plot.ly"
       },
       "data": [
        {
         "alignmentgroup": "True",
         "hovertemplate": "Chatbot=%{x}<br>NumberOfTurns=%{y}<extra></extra>",
         "legendgroup": "Nasoto-Bot",
         "marker": {
          "color": "#636efa"
         },
         "name": "Nasoto-Bot",
         "notched": false,
         "offsetgroup": "Nasoto-Bot",
         "orientation": "v",
         "quartilemethod": "exclusive",
         "showlegend": true,
         "type": "box",
         "x": [
          "Nasoto-Bot",
          "Nasoto-Bot",
          "Nasoto-Bot",
          "Nasoto-Bot"
         ],
         "x0": " ",
         "xaxis": "x",
         "y": [
          19,
          42,
          23,
          17
         ],
         "y0": " ",
         "yaxis": "y"
        },
        {
         "alignmentgroup": "True",
         "hovertemplate": "Chatbot=%{x}<br>NumberOfTurns=%{y}<extra></extra>",
         "legendgroup": "Makoto-Bot",
         "marker": {
          "color": "#EF553B"
         },
         "name": "Makoto-Bot",
         "notched": false,
         "offsetgroup": "Makoto-Bot",
         "orientation": "v",
         "quartilemethod": "exclusive",
         "showlegend": true,
         "type": "box",
         "x": [
          "Makoto-Bot",
          "Makoto-Bot",
          "Makoto-Bot",
          "Makoto-Bot"
         ],
         "x0": " ",
         "xaxis": "x",
         "y": [
          10,
          29,
          11,
          15
         ],
         "y0": " ",
         "yaxis": "y"
        }
       ],
       "layout": {
        "boxmode": "group",
        "legend": {
         "title": {
          "text": "Chatbot"
         },
         "tracegroupgap": 0
        },
        "margin": {
         "t": 60
        },
        "template": {
         "data": {
          "bar": [
           {
            "error_x": {
             "color": "#2a3f5f"
            },
            "error_y": {
             "color": "#2a3f5f"
            },
            "marker": {
             "line": {
              "color": "#E5ECF6",
              "width": 0.5
             }
            },
            "type": "bar"
           }
          ],
          "barpolar": [
           {
            "marker": {
             "line": {
              "color": "#E5ECF6",
              "width": 0.5
             }
            },
            "type": "barpolar"
           }
          ],
          "carpet": [
           {
            "aaxis": {
             "endlinecolor": "#2a3f5f",
             "gridcolor": "white",
             "linecolor": "white",
             "minorgridcolor": "white",
             "startlinecolor": "#2a3f5f"
            },
            "baxis": {
             "endlinecolor": "#2a3f5f",
             "gridcolor": "white",
             "linecolor": "white",
             "minorgridcolor": "white",
             "startlinecolor": "#2a3f5f"
            },
            "type": "carpet"
           }
          ],
          "choropleth": [
           {
            "colorbar": {
             "outlinewidth": 0,
             "ticks": ""
            },
            "type": "choropleth"
           }
          ],
          "contour": [
           {
            "colorbar": {
             "outlinewidth": 0,
             "ticks": ""
            },
            "colorscale": [
             [
              0,
              "#0d0887"
             ],
             [
              0.1111111111111111,
              "#46039f"
             ],
             [
              0.2222222222222222,
              "#7201a8"
             ],
             [
              0.3333333333333333,
              "#9c179e"
             ],
             [
              0.4444444444444444,
              "#bd3786"
             ],
             [
              0.5555555555555556,
              "#d8576b"
             ],
             [
              0.6666666666666666,
              "#ed7953"
             ],
             [
              0.7777777777777778,
              "#fb9f3a"
             ],
             [
              0.8888888888888888,
              "#fdca26"
             ],
             [
              1,
              "#f0f921"
             ]
            ],
            "type": "contour"
           }
          ],
          "contourcarpet": [
           {
            "colorbar": {
             "outlinewidth": 0,
             "ticks": ""
            },
            "type": "contourcarpet"
           }
          ],
          "heatmap": [
           {
            "colorbar": {
             "outlinewidth": 0,
             "ticks": ""
            },
            "colorscale": [
             [
              0,
              "#0d0887"
             ],
             [
              0.1111111111111111,
              "#46039f"
             ],
             [
              0.2222222222222222,
              "#7201a8"
             ],
             [
              0.3333333333333333,
              "#9c179e"
             ],
             [
              0.4444444444444444,
              "#bd3786"
             ],
             [
              0.5555555555555556,
              "#d8576b"
             ],
             [
              0.6666666666666666,
              "#ed7953"
             ],
             [
              0.7777777777777778,
              "#fb9f3a"
             ],
             [
              0.8888888888888888,
              "#fdca26"
             ],
             [
              1,
              "#f0f921"
             ]
            ],
            "type": "heatmap"
           }
          ],
          "heatmapgl": [
           {
            "colorbar": {
             "outlinewidth": 0,
             "ticks": ""
            },
            "colorscale": [
             [
              0,
              "#0d0887"
             ],
             [
              0.1111111111111111,
              "#46039f"
             ],
             [
              0.2222222222222222,
              "#7201a8"
             ],
             [
              0.3333333333333333,
              "#9c179e"
             ],
             [
              0.4444444444444444,
              "#bd3786"
             ],
             [
              0.5555555555555556,
              "#d8576b"
             ],
             [
              0.6666666666666666,
              "#ed7953"
             ],
             [
              0.7777777777777778,
              "#fb9f3a"
             ],
             [
              0.8888888888888888,
              "#fdca26"
             ],
             [
              1,
              "#f0f921"
             ]
            ],
            "type": "heatmapgl"
           }
          ],
          "histogram": [
           {
            "marker": {
             "colorbar": {
              "outlinewidth": 0,
              "ticks": ""
             }
            },
            "type": "histogram"
           }
          ],
          "histogram2d": [
           {
            "colorbar": {
             "outlinewidth": 0,
             "ticks": ""
            },
            "colorscale": [
             [
              0,
              "#0d0887"
             ],
             [
              0.1111111111111111,
              "#46039f"
             ],
             [
              0.2222222222222222,
              "#7201a8"
             ],
             [
              0.3333333333333333,
              "#9c179e"
             ],
             [
              0.4444444444444444,
              "#bd3786"
             ],
             [
              0.5555555555555556,
              "#d8576b"
             ],
             [
              0.6666666666666666,
              "#ed7953"
             ],
             [
              0.7777777777777778,
              "#fb9f3a"
             ],
             [
              0.8888888888888888,
              "#fdca26"
             ],
             [
              1,
              "#f0f921"
             ]
            ],
            "type": "histogram2d"
           }
          ],
          "histogram2dcontour": [
           {
            "colorbar": {
             "outlinewidth": 0,
             "ticks": ""
            },
            "colorscale": [
             [
              0,
              "#0d0887"
             ],
             [
              0.1111111111111111,
              "#46039f"
             ],
             [
              0.2222222222222222,
              "#7201a8"
             ],
             [
              0.3333333333333333,
              "#9c179e"
             ],
             [
              0.4444444444444444,
              "#bd3786"
             ],
             [
              0.5555555555555556,
              "#d8576b"
             ],
             [
              0.6666666666666666,
              "#ed7953"
             ],
             [
              0.7777777777777778,
              "#fb9f3a"
             ],
             [
              0.8888888888888888,
              "#fdca26"
             ],
             [
              1,
              "#f0f921"
             ]
            ],
            "type": "histogram2dcontour"
           }
          ],
          "mesh3d": [
           {
            "colorbar": {
             "outlinewidth": 0,
             "ticks": ""
            },
            "type": "mesh3d"
           }
          ],
          "parcoords": [
           {
            "line": {
             "colorbar": {
              "outlinewidth": 0,
              "ticks": ""
             }
            },
            "type": "parcoords"
           }
          ],
          "pie": [
           {
            "automargin": true,
            "type": "pie"
           }
          ],
          "scatter": [
           {
            "marker": {
             "colorbar": {
              "outlinewidth": 0,
              "ticks": ""
             }
            },
            "type": "scatter"
           }
          ],
          "scatter3d": [
           {
            "line": {
             "colorbar": {
              "outlinewidth": 0,
              "ticks": ""
             }
            },
            "marker": {
             "colorbar": {
              "outlinewidth": 0,
              "ticks": ""
             }
            },
            "type": "scatter3d"
           }
          ],
          "scattercarpet": [
           {
            "marker": {
             "colorbar": {
              "outlinewidth": 0,
              "ticks": ""
             }
            },
            "type": "scattercarpet"
           }
          ],
          "scattergeo": [
           {
            "marker": {
             "colorbar": {
              "outlinewidth": 0,
              "ticks": ""
             }
            },
            "type": "scattergeo"
           }
          ],
          "scattergl": [
           {
            "marker": {
             "colorbar": {
              "outlinewidth": 0,
              "ticks": ""
             }
            },
            "type": "scattergl"
           }
          ],
          "scattermapbox": [
           {
            "marker": {
             "colorbar": {
              "outlinewidth": 0,
              "ticks": ""
             }
            },
            "type": "scattermapbox"
           }
          ],
          "scatterpolar": [
           {
            "marker": {
             "colorbar": {
              "outlinewidth": 0,
              "ticks": ""
             }
            },
            "type": "scatterpolar"
           }
          ],
          "scatterpolargl": [
           {
            "marker": {
             "colorbar": {
              "outlinewidth": 0,
              "ticks": ""
             }
            },
            "type": "scatterpolargl"
           }
          ],
          "scatterternary": [
           {
            "marker": {
             "colorbar": {
              "outlinewidth": 0,
              "ticks": ""
             }
            },
            "type": "scatterternary"
           }
          ],
          "surface": [
           {
            "colorbar": {
             "outlinewidth": 0,
             "ticks": ""
            },
            "colorscale": [
             [
              0,
              "#0d0887"
             ],
             [
              0.1111111111111111,
              "#46039f"
             ],
             [
              0.2222222222222222,
              "#7201a8"
             ],
             [
              0.3333333333333333,
              "#9c179e"
             ],
             [
              0.4444444444444444,
              "#bd3786"
             ],
             [
              0.5555555555555556,
              "#d8576b"
             ],
             [
              0.6666666666666666,
              "#ed7953"
             ],
             [
              0.7777777777777778,
              "#fb9f3a"
             ],
             [
              0.8888888888888888,
              "#fdca26"
             ],
             [
              1,
              "#f0f921"
             ]
            ],
            "type": "surface"
           }
          ],
          "table": [
           {
            "cells": {
             "fill": {
              "color": "#EBF0F8"
             },
             "line": {
              "color": "white"
             }
            },
            "header": {
             "fill": {
              "color": "#C8D4E3"
             },
             "line": {
              "color": "white"
             }
            },
            "type": "table"
           }
          ]
         },
         "layout": {
          "annotationdefaults": {
           "arrowcolor": "#2a3f5f",
           "arrowhead": 0,
           "arrowwidth": 1
          },
          "coloraxis": {
           "colorbar": {
            "outlinewidth": 0,
            "ticks": ""
           }
          },
          "colorscale": {
           "diverging": [
            [
             0,
             "#8e0152"
            ],
            [
             0.1,
             "#c51b7d"
            ],
            [
             0.2,
             "#de77ae"
            ],
            [
             0.3,
             "#f1b6da"
            ],
            [
             0.4,
             "#fde0ef"
            ],
            [
             0.5,
             "#f7f7f7"
            ],
            [
             0.6,
             "#e6f5d0"
            ],
            [
             0.7,
             "#b8e186"
            ],
            [
             0.8,
             "#7fbc41"
            ],
            [
             0.9,
             "#4d9221"
            ],
            [
             1,
             "#276419"
            ]
           ],
           "sequential": [
            [
             0,
             "#0d0887"
            ],
            [
             0.1111111111111111,
             "#46039f"
            ],
            [
             0.2222222222222222,
             "#7201a8"
            ],
            [
             0.3333333333333333,
             "#9c179e"
            ],
            [
             0.4444444444444444,
             "#bd3786"
            ],
            [
             0.5555555555555556,
             "#d8576b"
            ],
            [
             0.6666666666666666,
             "#ed7953"
            ],
            [
             0.7777777777777778,
             "#fb9f3a"
            ],
            [
             0.8888888888888888,
             "#fdca26"
            ],
            [
             1,
             "#f0f921"
            ]
           ],
           "sequentialminus": [
            [
             0,
             "#0d0887"
            ],
            [
             0.1111111111111111,
             "#46039f"
            ],
            [
             0.2222222222222222,
             "#7201a8"
            ],
            [
             0.3333333333333333,
             "#9c179e"
            ],
            [
             0.4444444444444444,
             "#bd3786"
            ],
            [
             0.5555555555555556,
             "#d8576b"
            ],
            [
             0.6666666666666666,
             "#ed7953"
            ],
            [
             0.7777777777777778,
             "#fb9f3a"
            ],
            [
             0.8888888888888888,
             "#fdca26"
            ],
            [
             1,
             "#f0f921"
            ]
           ]
          },
          "colorway": [
           "#636efa",
           "#EF553B",
           "#00cc96",
           "#ab63fa",
           "#FFA15A",
           "#19d3f3",
           "#FF6692",
           "#B6E880",
           "#FF97FF",
           "#FECB52"
          ],
          "font": {
           "color": "#2a3f5f"
          },
          "geo": {
           "bgcolor": "white",
           "lakecolor": "white",
           "landcolor": "#E5ECF6",
           "showlakes": true,
           "showland": true,
           "subunitcolor": "white"
          },
          "hoverlabel": {
           "align": "left"
          },
          "hovermode": "closest",
          "mapbox": {
           "style": "light"
          },
          "paper_bgcolor": "white",
          "plot_bgcolor": "#E5ECF6",
          "polar": {
           "angularaxis": {
            "gridcolor": "white",
            "linecolor": "white",
            "ticks": ""
           },
           "bgcolor": "#E5ECF6",
           "radialaxis": {
            "gridcolor": "white",
            "linecolor": "white",
            "ticks": ""
           }
          },
          "scene": {
           "xaxis": {
            "backgroundcolor": "#E5ECF6",
            "gridcolor": "white",
            "gridwidth": 2,
            "linecolor": "white",
            "showbackground": true,
            "ticks": "",
            "zerolinecolor": "white"
           },
           "yaxis": {
            "backgroundcolor": "#E5ECF6",
            "gridcolor": "white",
            "gridwidth": 2,
            "linecolor": "white",
            "showbackground": true,
            "ticks": "",
            "zerolinecolor": "white"
           },
           "zaxis": {
            "backgroundcolor": "#E5ECF6",
            "gridcolor": "white",
            "gridwidth": 2,
            "linecolor": "white",
            "showbackground": true,
            "ticks": "",
            "zerolinecolor": "white"
           }
          },
          "shapedefaults": {
           "line": {
            "color": "#2a3f5f"
           }
          },
          "ternary": {
           "aaxis": {
            "gridcolor": "white",
            "linecolor": "white",
            "ticks": ""
           },
           "baxis": {
            "gridcolor": "white",
            "linecolor": "white",
            "ticks": ""
           },
           "bgcolor": "#E5ECF6",
           "caxis": {
            "gridcolor": "white",
            "linecolor": "white",
            "ticks": ""
           }
          },
          "title": {
           "x": 0.05
          },
          "xaxis": {
           "automargin": true,
           "gridcolor": "white",
           "linecolor": "white",
           "ticks": "",
           "title": {
            "standoff": 15
           },
           "zerolinecolor": "white",
           "zerolinewidth": 2
          },
          "yaxis": {
           "automargin": true,
           "gridcolor": "white",
           "linecolor": "white",
           "ticks": "",
           "title": {
            "standoff": 15
           },
           "zerolinecolor": "white",
           "zerolinewidth": 2
          }
         }
        },
        "xaxis": {
         "anchor": "y",
         "categoryarray": [
          "Nasoto-Bot",
          "Makoto-Bot"
         ],
         "categoryorder": "array",
         "domain": [
          0,
          1
         ],
         "title": {
          "text": "Chatbot"
         }
        },
        "yaxis": {
         "anchor": "x",
         "domain": [
          0,
          1
         ],
         "title": {
          "text": "NumberOfTurns"
         }
        }
       }
      },
      "text/html": [
       "<div>\n",
       "        \n",
       "        \n",
       "            <div id=\"a00a3546-733f-4dd0-9150-2fbc4c6ac22b\" class=\"plotly-graph-div\" style=\"height:525px; width:100%;\"></div>\n",
       "            <script type=\"text/javascript\">\n",
       "                require([\"plotly\"], function(Plotly) {\n",
       "                    window.PLOTLYENV=window.PLOTLYENV || {};\n",
       "                    \n",
       "                if (document.getElementById(\"a00a3546-733f-4dd0-9150-2fbc4c6ac22b\")) {\n",
       "                    Plotly.newPlot(\n",
       "                        'a00a3546-733f-4dd0-9150-2fbc4c6ac22b',\n",
       "                        [{\"alignmentgroup\": \"True\", \"hovertemplate\": \"Chatbot=%{x}<br>NumberOfTurns=%{y}<extra></extra>\", \"legendgroup\": \"Nasoto-Bot\", \"marker\": {\"color\": \"#636efa\"}, \"name\": \"Nasoto-Bot\", \"notched\": false, \"offsetgroup\": \"Nasoto-Bot\", \"orientation\": \"v\", \"quartilemethod\": \"exclusive\", \"showlegend\": true, \"type\": \"box\", \"x\": [\"Nasoto-Bot\", \"Nasoto-Bot\", \"Nasoto-Bot\", \"Nasoto-Bot\"], \"x0\": \" \", \"xaxis\": \"x\", \"y\": [19, 42, 23, 17], \"y0\": \" \", \"yaxis\": \"y\"}, {\"alignmentgroup\": \"True\", \"hovertemplate\": \"Chatbot=%{x}<br>NumberOfTurns=%{y}<extra></extra>\", \"legendgroup\": \"Makoto-Bot\", \"marker\": {\"color\": \"#EF553B\"}, \"name\": \"Makoto-Bot\", \"notched\": false, \"offsetgroup\": \"Makoto-Bot\", \"orientation\": \"v\", \"quartilemethod\": \"exclusive\", \"showlegend\": true, \"type\": \"box\", \"x\": [\"Makoto-Bot\", \"Makoto-Bot\", \"Makoto-Bot\", \"Makoto-Bot\"], \"x0\": \" \", \"xaxis\": \"x\", \"y\": [10, 29, 11, 15], \"y0\": \" \", \"yaxis\": \"y\"}],\n",
       "                        {\"boxmode\": \"group\", \"legend\": {\"title\": {\"text\": \"Chatbot\"}, \"tracegroupgap\": 0}, \"margin\": {\"t\": 60}, \"template\": {\"data\": {\"bar\": [{\"error_x\": {\"color\": \"#2a3f5f\"}, \"error_y\": {\"color\": \"#2a3f5f\"}, \"marker\": {\"line\": {\"color\": \"#E5ECF6\", \"width\": 0.5}}, \"type\": \"bar\"}], \"barpolar\": [{\"marker\": {\"line\": {\"color\": \"#E5ECF6\", \"width\": 0.5}}, \"type\": \"barpolar\"}], \"carpet\": [{\"aaxis\": {\"endlinecolor\": \"#2a3f5f\", \"gridcolor\": \"white\", \"linecolor\": \"white\", \"minorgridcolor\": \"white\", \"startlinecolor\": \"#2a3f5f\"}, \"baxis\": {\"endlinecolor\": \"#2a3f5f\", \"gridcolor\": \"white\", \"linecolor\": \"white\", \"minorgridcolor\": \"white\", \"startlinecolor\": \"#2a3f5f\"}, \"type\": \"carpet\"}], \"choropleth\": [{\"colorbar\": {\"outlinewidth\": 0, \"ticks\": \"\"}, \"type\": \"choropleth\"}], \"contour\": [{\"colorbar\": {\"outlinewidth\": 0, \"ticks\": \"\"}, \"colorscale\": [[0.0, \"#0d0887\"], [0.1111111111111111, \"#46039f\"], [0.2222222222222222, \"#7201a8\"], [0.3333333333333333, \"#9c179e\"], [0.4444444444444444, \"#bd3786\"], [0.5555555555555556, \"#d8576b\"], [0.6666666666666666, \"#ed7953\"], [0.7777777777777778, \"#fb9f3a\"], [0.8888888888888888, \"#fdca26\"], [1.0, \"#f0f921\"]], \"type\": \"contour\"}], \"contourcarpet\": [{\"colorbar\": {\"outlinewidth\": 0, \"ticks\": \"\"}, \"type\": \"contourcarpet\"}], \"heatmap\": [{\"colorbar\": {\"outlinewidth\": 0, \"ticks\": \"\"}, \"colorscale\": [[0.0, \"#0d0887\"], [0.1111111111111111, \"#46039f\"], [0.2222222222222222, \"#7201a8\"], [0.3333333333333333, \"#9c179e\"], [0.4444444444444444, \"#bd3786\"], [0.5555555555555556, \"#d8576b\"], [0.6666666666666666, \"#ed7953\"], [0.7777777777777778, \"#fb9f3a\"], [0.8888888888888888, \"#fdca26\"], [1.0, \"#f0f921\"]], \"type\": \"heatmap\"}], \"heatmapgl\": [{\"colorbar\": {\"outlinewidth\": 0, \"ticks\": \"\"}, \"colorscale\": [[0.0, \"#0d0887\"], [0.1111111111111111, \"#46039f\"], [0.2222222222222222, \"#7201a8\"], [0.3333333333333333, \"#9c179e\"], [0.4444444444444444, \"#bd3786\"], [0.5555555555555556, \"#d8576b\"], [0.6666666666666666, \"#ed7953\"], [0.7777777777777778, \"#fb9f3a\"], [0.8888888888888888, \"#fdca26\"], [1.0, \"#f0f921\"]], \"type\": \"heatmapgl\"}], \"histogram\": [{\"marker\": {\"colorbar\": {\"outlinewidth\": 0, \"ticks\": \"\"}}, \"type\": \"histogram\"}], \"histogram2d\": [{\"colorbar\": {\"outlinewidth\": 0, \"ticks\": \"\"}, \"colorscale\": [[0.0, \"#0d0887\"], [0.1111111111111111, \"#46039f\"], [0.2222222222222222, \"#7201a8\"], [0.3333333333333333, \"#9c179e\"], [0.4444444444444444, \"#bd3786\"], [0.5555555555555556, \"#d8576b\"], [0.6666666666666666, \"#ed7953\"], [0.7777777777777778, \"#fb9f3a\"], [0.8888888888888888, \"#fdca26\"], [1.0, \"#f0f921\"]], \"type\": \"histogram2d\"}], \"histogram2dcontour\": [{\"colorbar\": {\"outlinewidth\": 0, \"ticks\": \"\"}, \"colorscale\": [[0.0, \"#0d0887\"], [0.1111111111111111, \"#46039f\"], [0.2222222222222222, \"#7201a8\"], [0.3333333333333333, \"#9c179e\"], [0.4444444444444444, \"#bd3786\"], [0.5555555555555556, \"#d8576b\"], [0.6666666666666666, \"#ed7953\"], [0.7777777777777778, \"#fb9f3a\"], [0.8888888888888888, \"#fdca26\"], [1.0, \"#f0f921\"]], \"type\": \"histogram2dcontour\"}], \"mesh3d\": [{\"colorbar\": {\"outlinewidth\": 0, \"ticks\": \"\"}, \"type\": \"mesh3d\"}], \"parcoords\": [{\"line\": {\"colorbar\": {\"outlinewidth\": 0, \"ticks\": \"\"}}, \"type\": \"parcoords\"}], \"pie\": [{\"automargin\": true, \"type\": \"pie\"}], \"scatter\": [{\"marker\": {\"colorbar\": {\"outlinewidth\": 0, \"ticks\": \"\"}}, \"type\": \"scatter\"}], \"scatter3d\": [{\"line\": {\"colorbar\": {\"outlinewidth\": 0, \"ticks\": \"\"}}, \"marker\": {\"colorbar\": {\"outlinewidth\": 0, \"ticks\": \"\"}}, \"type\": \"scatter3d\"}], \"scattercarpet\": [{\"marker\": {\"colorbar\": {\"outlinewidth\": 0, \"ticks\": \"\"}}, \"type\": \"scattercarpet\"}], \"scattergeo\": [{\"marker\": {\"colorbar\": {\"outlinewidth\": 0, \"ticks\": \"\"}}, \"type\": \"scattergeo\"}], \"scattergl\": [{\"marker\": {\"colorbar\": {\"outlinewidth\": 0, \"ticks\": \"\"}}, \"type\": \"scattergl\"}], \"scattermapbox\": [{\"marker\": {\"colorbar\": {\"outlinewidth\": 0, \"ticks\": \"\"}}, \"type\": \"scattermapbox\"}], \"scatterpolar\": [{\"marker\": {\"colorbar\": {\"outlinewidth\": 0, \"ticks\": \"\"}}, \"type\": \"scatterpolar\"}], \"scatterpolargl\": [{\"marker\": {\"colorbar\": {\"outlinewidth\": 0, \"ticks\": \"\"}}, \"type\": \"scatterpolargl\"}], \"scatterternary\": [{\"marker\": {\"colorbar\": {\"outlinewidth\": 0, \"ticks\": \"\"}}, \"type\": \"scatterternary\"}], \"surface\": [{\"colorbar\": {\"outlinewidth\": 0, \"ticks\": \"\"}, \"colorscale\": [[0.0, \"#0d0887\"], [0.1111111111111111, \"#46039f\"], [0.2222222222222222, \"#7201a8\"], [0.3333333333333333, \"#9c179e\"], [0.4444444444444444, \"#bd3786\"], [0.5555555555555556, \"#d8576b\"], [0.6666666666666666, \"#ed7953\"], [0.7777777777777778, \"#fb9f3a\"], [0.8888888888888888, \"#fdca26\"], [1.0, \"#f0f921\"]], \"type\": \"surface\"}], \"table\": [{\"cells\": {\"fill\": {\"color\": \"#EBF0F8\"}, \"line\": {\"color\": \"white\"}}, \"header\": {\"fill\": {\"color\": \"#C8D4E3\"}, \"line\": {\"color\": \"white\"}}, \"type\": \"table\"}]}, \"layout\": {\"annotationdefaults\": {\"arrowcolor\": \"#2a3f5f\", \"arrowhead\": 0, \"arrowwidth\": 1}, \"coloraxis\": {\"colorbar\": {\"outlinewidth\": 0, \"ticks\": \"\"}}, \"colorscale\": {\"diverging\": [[0, \"#8e0152\"], [0.1, \"#c51b7d\"], [0.2, \"#de77ae\"], [0.3, \"#f1b6da\"], [0.4, \"#fde0ef\"], [0.5, \"#f7f7f7\"], [0.6, \"#e6f5d0\"], [0.7, \"#b8e186\"], [0.8, \"#7fbc41\"], [0.9, \"#4d9221\"], [1, \"#276419\"]], \"sequential\": [[0.0, \"#0d0887\"], [0.1111111111111111, \"#46039f\"], [0.2222222222222222, \"#7201a8\"], [0.3333333333333333, \"#9c179e\"], [0.4444444444444444, \"#bd3786\"], [0.5555555555555556, \"#d8576b\"], [0.6666666666666666, \"#ed7953\"], [0.7777777777777778, \"#fb9f3a\"], [0.8888888888888888, \"#fdca26\"], [1.0, \"#f0f921\"]], \"sequentialminus\": [[0.0, \"#0d0887\"], [0.1111111111111111, \"#46039f\"], [0.2222222222222222, \"#7201a8\"], [0.3333333333333333, \"#9c179e\"], [0.4444444444444444, \"#bd3786\"], [0.5555555555555556, \"#d8576b\"], [0.6666666666666666, \"#ed7953\"], [0.7777777777777778, \"#fb9f3a\"], [0.8888888888888888, \"#fdca26\"], [1.0, \"#f0f921\"]]}, \"colorway\": [\"#636efa\", \"#EF553B\", \"#00cc96\", \"#ab63fa\", \"#FFA15A\", \"#19d3f3\", \"#FF6692\", \"#B6E880\", \"#FF97FF\", \"#FECB52\"], \"font\": {\"color\": \"#2a3f5f\"}, \"geo\": {\"bgcolor\": \"white\", \"lakecolor\": \"white\", \"landcolor\": \"#E5ECF6\", \"showlakes\": true, \"showland\": true, \"subunitcolor\": \"white\"}, \"hoverlabel\": {\"align\": \"left\"}, \"hovermode\": \"closest\", \"mapbox\": {\"style\": \"light\"}, \"paper_bgcolor\": \"white\", \"plot_bgcolor\": \"#E5ECF6\", \"polar\": {\"angularaxis\": {\"gridcolor\": \"white\", \"linecolor\": \"white\", \"ticks\": \"\"}, \"bgcolor\": \"#E5ECF6\", \"radialaxis\": {\"gridcolor\": \"white\", \"linecolor\": \"white\", \"ticks\": \"\"}}, \"scene\": {\"xaxis\": {\"backgroundcolor\": \"#E5ECF6\", \"gridcolor\": \"white\", \"gridwidth\": 2, \"linecolor\": \"white\", \"showbackground\": true, \"ticks\": \"\", \"zerolinecolor\": \"white\"}, \"yaxis\": {\"backgroundcolor\": \"#E5ECF6\", \"gridcolor\": \"white\", \"gridwidth\": 2, \"linecolor\": \"white\", \"showbackground\": true, \"ticks\": \"\", \"zerolinecolor\": \"white\"}, \"zaxis\": {\"backgroundcolor\": \"#E5ECF6\", \"gridcolor\": \"white\", \"gridwidth\": 2, \"linecolor\": \"white\", \"showbackground\": true, \"ticks\": \"\", \"zerolinecolor\": \"white\"}}, \"shapedefaults\": {\"line\": {\"color\": \"#2a3f5f\"}}, \"ternary\": {\"aaxis\": {\"gridcolor\": \"white\", \"linecolor\": \"white\", \"ticks\": \"\"}, \"baxis\": {\"gridcolor\": \"white\", \"linecolor\": \"white\", \"ticks\": \"\"}, \"bgcolor\": \"#E5ECF6\", \"caxis\": {\"gridcolor\": \"white\", \"linecolor\": \"white\", \"ticks\": \"\"}}, \"title\": {\"x\": 0.05}, \"xaxis\": {\"automargin\": true, \"gridcolor\": \"white\", \"linecolor\": \"white\", \"ticks\": \"\", \"title\": {\"standoff\": 15}, \"zerolinecolor\": \"white\", \"zerolinewidth\": 2}, \"yaxis\": {\"automargin\": true, \"gridcolor\": \"white\", \"linecolor\": \"white\", \"ticks\": \"\", \"title\": {\"standoff\": 15}, \"zerolinecolor\": \"white\", \"zerolinewidth\": 2}}}, \"xaxis\": {\"anchor\": \"y\", \"categoryarray\": [\"Nasoto-Bot\", \"Makoto-Bot\"], \"categoryorder\": \"array\", \"domain\": [0.0, 1.0], \"title\": {\"text\": \"Chatbot\"}}, \"yaxis\": {\"anchor\": \"x\", \"domain\": [0.0, 1.0], \"title\": {\"text\": \"NumberOfTurns\"}}},\n",
       "                        {\"responsive\": true}\n",
       "                    ).then(function(){\n",
       "                            \n",
       "var gd = document.getElementById('a00a3546-733f-4dd0-9150-2fbc4c6ac22b');\n",
       "var x = new MutationObserver(function (mutations, observer) {{\n",
       "        var display = window.getComputedStyle(gd).display;\n",
       "        if (!display || display === 'none') {{\n",
       "            console.log([gd, 'removed!']);\n",
       "            Plotly.purge(gd);\n",
       "            observer.disconnect();\n",
       "        }}\n",
       "}});\n",
       "\n",
       "// Listen for the removal of the full notebook cells\n",
       "var notebookContainer = gd.closest('#notebook-container');\n",
       "if (notebookContainer) {{\n",
       "    x.observe(notebookContainer, {childList: true});\n",
       "}}\n",
       "\n",
       "// Listen for the clearing of the current output cell\n",
       "var outputEl = gd.closest('.output');\n",
       "if (outputEl) {{\n",
       "    x.observe(outputEl, {childList: true});\n",
       "}}\n",
       "\n",
       "                        })\n",
       "                };\n",
       "                });\n",
       "            </script>\n",
       "        </div>"
      ]
     },
     "metadata": {},
     "output_type": "display_data"
    }
   ],
   "source": [
    "fig = px.box(df_cd , \"Chatbot\", \"NumberOfTurns\", \"Chatbot\")\n",
    "fig.update_traces(quartilemethod=\"exclusive\") # or \"inclusive\", or \"linear\" by default\n",
    "fig.show()"
   ]
  },
  {
   "cell_type": "markdown",
   "metadata": {},
   "source": [
    "## BoxPlot Length of Utterances"
   ]
  },
  {
   "cell_type": "code",
   "execution_count": 118,
   "metadata": {},
   "outputs": [
    {
     "data": {
      "application/vnd.plotly.v1+json": {
       "config": {
        "plotlyServerURL": "https://plot.ly"
       },
       "data": [
        {
         "alignmentgroup": "True",
         "hovertemplate": "Chatbot=%{x}<br>Length of Utterances=%{y}<extra></extra>",
         "legendgroup": "Nasoto-Bot",
         "marker": {
          "color": "#636efa"
         },
         "name": "Nasoto-Bot",
         "notched": false,
         "offsetgroup": "Nasoto-Bot",
         "orientation": "v",
         "quartilemethod": "exclusive",
         "showlegend": true,
         "type": "box",
         "x": [
          "Nasoto-Bot",
          "Nasoto-Bot",
          "Nasoto-Bot",
          "Nasoto-Bot"
         ],
         "x0": " ",
         "xaxis": "x",
         "y": [
          68,
          101,
          84,
          48
         ],
         "y0": " ",
         "yaxis": "y"
        },
        {
         "alignmentgroup": "True",
         "hovertemplate": "Chatbot=%{x}<br>Length of Utterances=%{y}<extra></extra>",
         "legendgroup": "Makoto-Bot",
         "marker": {
          "color": "#EF553B"
         },
         "name": "Makoto-Bot",
         "notched": false,
         "offsetgroup": "Makoto-Bot",
         "orientation": "v",
         "quartilemethod": "exclusive",
         "showlegend": true,
         "type": "box",
         "x": [
          "Makoto-Bot",
          "Makoto-Bot",
          "Makoto-Bot",
          "Makoto-Bot"
         ],
         "x0": " ",
         "xaxis": "x",
         "y": [
          46,
          88,
          26,
          39
         ],
         "y0": " ",
         "yaxis": "y"
        }
       ],
       "layout": {
        "boxmode": "group",
        "legend": {
         "title": {
          "text": "Chatbot"
         },
         "tracegroupgap": 0
        },
        "margin": {
         "t": 60
        },
        "template": {
         "data": {
          "bar": [
           {
            "error_x": {
             "color": "#2a3f5f"
            },
            "error_y": {
             "color": "#2a3f5f"
            },
            "marker": {
             "line": {
              "color": "#E5ECF6",
              "width": 0.5
             }
            },
            "type": "bar"
           }
          ],
          "barpolar": [
           {
            "marker": {
             "line": {
              "color": "#E5ECF6",
              "width": 0.5
             }
            },
            "type": "barpolar"
           }
          ],
          "carpet": [
           {
            "aaxis": {
             "endlinecolor": "#2a3f5f",
             "gridcolor": "white",
             "linecolor": "white",
             "minorgridcolor": "white",
             "startlinecolor": "#2a3f5f"
            },
            "baxis": {
             "endlinecolor": "#2a3f5f",
             "gridcolor": "white",
             "linecolor": "white",
             "minorgridcolor": "white",
             "startlinecolor": "#2a3f5f"
            },
            "type": "carpet"
           }
          ],
          "choropleth": [
           {
            "colorbar": {
             "outlinewidth": 0,
             "ticks": ""
            },
            "type": "choropleth"
           }
          ],
          "contour": [
           {
            "colorbar": {
             "outlinewidth": 0,
             "ticks": ""
            },
            "colorscale": [
             [
              0,
              "#0d0887"
             ],
             [
              0.1111111111111111,
              "#46039f"
             ],
             [
              0.2222222222222222,
              "#7201a8"
             ],
             [
              0.3333333333333333,
              "#9c179e"
             ],
             [
              0.4444444444444444,
              "#bd3786"
             ],
             [
              0.5555555555555556,
              "#d8576b"
             ],
             [
              0.6666666666666666,
              "#ed7953"
             ],
             [
              0.7777777777777778,
              "#fb9f3a"
             ],
             [
              0.8888888888888888,
              "#fdca26"
             ],
             [
              1,
              "#f0f921"
             ]
            ],
            "type": "contour"
           }
          ],
          "contourcarpet": [
           {
            "colorbar": {
             "outlinewidth": 0,
             "ticks": ""
            },
            "type": "contourcarpet"
           }
          ],
          "heatmap": [
           {
            "colorbar": {
             "outlinewidth": 0,
             "ticks": ""
            },
            "colorscale": [
             [
              0,
              "#0d0887"
             ],
             [
              0.1111111111111111,
              "#46039f"
             ],
             [
              0.2222222222222222,
              "#7201a8"
             ],
             [
              0.3333333333333333,
              "#9c179e"
             ],
             [
              0.4444444444444444,
              "#bd3786"
             ],
             [
              0.5555555555555556,
              "#d8576b"
             ],
             [
              0.6666666666666666,
              "#ed7953"
             ],
             [
              0.7777777777777778,
              "#fb9f3a"
             ],
             [
              0.8888888888888888,
              "#fdca26"
             ],
             [
              1,
              "#f0f921"
             ]
            ],
            "type": "heatmap"
           }
          ],
          "heatmapgl": [
           {
            "colorbar": {
             "outlinewidth": 0,
             "ticks": ""
            },
            "colorscale": [
             [
              0,
              "#0d0887"
             ],
             [
              0.1111111111111111,
              "#46039f"
             ],
             [
              0.2222222222222222,
              "#7201a8"
             ],
             [
              0.3333333333333333,
              "#9c179e"
             ],
             [
              0.4444444444444444,
              "#bd3786"
             ],
             [
              0.5555555555555556,
              "#d8576b"
             ],
             [
              0.6666666666666666,
              "#ed7953"
             ],
             [
              0.7777777777777778,
              "#fb9f3a"
             ],
             [
              0.8888888888888888,
              "#fdca26"
             ],
             [
              1,
              "#f0f921"
             ]
            ],
            "type": "heatmapgl"
           }
          ],
          "histogram": [
           {
            "marker": {
             "colorbar": {
              "outlinewidth": 0,
              "ticks": ""
             }
            },
            "type": "histogram"
           }
          ],
          "histogram2d": [
           {
            "colorbar": {
             "outlinewidth": 0,
             "ticks": ""
            },
            "colorscale": [
             [
              0,
              "#0d0887"
             ],
             [
              0.1111111111111111,
              "#46039f"
             ],
             [
              0.2222222222222222,
              "#7201a8"
             ],
             [
              0.3333333333333333,
              "#9c179e"
             ],
             [
              0.4444444444444444,
              "#bd3786"
             ],
             [
              0.5555555555555556,
              "#d8576b"
             ],
             [
              0.6666666666666666,
              "#ed7953"
             ],
             [
              0.7777777777777778,
              "#fb9f3a"
             ],
             [
              0.8888888888888888,
              "#fdca26"
             ],
             [
              1,
              "#f0f921"
             ]
            ],
            "type": "histogram2d"
           }
          ],
          "histogram2dcontour": [
           {
            "colorbar": {
             "outlinewidth": 0,
             "ticks": ""
            },
            "colorscale": [
             [
              0,
              "#0d0887"
             ],
             [
              0.1111111111111111,
              "#46039f"
             ],
             [
              0.2222222222222222,
              "#7201a8"
             ],
             [
              0.3333333333333333,
              "#9c179e"
             ],
             [
              0.4444444444444444,
              "#bd3786"
             ],
             [
              0.5555555555555556,
              "#d8576b"
             ],
             [
              0.6666666666666666,
              "#ed7953"
             ],
             [
              0.7777777777777778,
              "#fb9f3a"
             ],
             [
              0.8888888888888888,
              "#fdca26"
             ],
             [
              1,
              "#f0f921"
             ]
            ],
            "type": "histogram2dcontour"
           }
          ],
          "mesh3d": [
           {
            "colorbar": {
             "outlinewidth": 0,
             "ticks": ""
            },
            "type": "mesh3d"
           }
          ],
          "parcoords": [
           {
            "line": {
             "colorbar": {
              "outlinewidth": 0,
              "ticks": ""
             }
            },
            "type": "parcoords"
           }
          ],
          "pie": [
           {
            "automargin": true,
            "type": "pie"
           }
          ],
          "scatter": [
           {
            "marker": {
             "colorbar": {
              "outlinewidth": 0,
              "ticks": ""
             }
            },
            "type": "scatter"
           }
          ],
          "scatter3d": [
           {
            "line": {
             "colorbar": {
              "outlinewidth": 0,
              "ticks": ""
             }
            },
            "marker": {
             "colorbar": {
              "outlinewidth": 0,
              "ticks": ""
             }
            },
            "type": "scatter3d"
           }
          ],
          "scattercarpet": [
           {
            "marker": {
             "colorbar": {
              "outlinewidth": 0,
              "ticks": ""
             }
            },
            "type": "scattercarpet"
           }
          ],
          "scattergeo": [
           {
            "marker": {
             "colorbar": {
              "outlinewidth": 0,
              "ticks": ""
             }
            },
            "type": "scattergeo"
           }
          ],
          "scattergl": [
           {
            "marker": {
             "colorbar": {
              "outlinewidth": 0,
              "ticks": ""
             }
            },
            "type": "scattergl"
           }
          ],
          "scattermapbox": [
           {
            "marker": {
             "colorbar": {
              "outlinewidth": 0,
              "ticks": ""
             }
            },
            "type": "scattermapbox"
           }
          ],
          "scatterpolar": [
           {
            "marker": {
             "colorbar": {
              "outlinewidth": 0,
              "ticks": ""
             }
            },
            "type": "scatterpolar"
           }
          ],
          "scatterpolargl": [
           {
            "marker": {
             "colorbar": {
              "outlinewidth": 0,
              "ticks": ""
             }
            },
            "type": "scatterpolargl"
           }
          ],
          "scatterternary": [
           {
            "marker": {
             "colorbar": {
              "outlinewidth": 0,
              "ticks": ""
             }
            },
            "type": "scatterternary"
           }
          ],
          "surface": [
           {
            "colorbar": {
             "outlinewidth": 0,
             "ticks": ""
            },
            "colorscale": [
             [
              0,
              "#0d0887"
             ],
             [
              0.1111111111111111,
              "#46039f"
             ],
             [
              0.2222222222222222,
              "#7201a8"
             ],
             [
              0.3333333333333333,
              "#9c179e"
             ],
             [
              0.4444444444444444,
              "#bd3786"
             ],
             [
              0.5555555555555556,
              "#d8576b"
             ],
             [
              0.6666666666666666,
              "#ed7953"
             ],
             [
              0.7777777777777778,
              "#fb9f3a"
             ],
             [
              0.8888888888888888,
              "#fdca26"
             ],
             [
              1,
              "#f0f921"
             ]
            ],
            "type": "surface"
           }
          ],
          "table": [
           {
            "cells": {
             "fill": {
              "color": "#EBF0F8"
             },
             "line": {
              "color": "white"
             }
            },
            "header": {
             "fill": {
              "color": "#C8D4E3"
             },
             "line": {
              "color": "white"
             }
            },
            "type": "table"
           }
          ]
         },
         "layout": {
          "annotationdefaults": {
           "arrowcolor": "#2a3f5f",
           "arrowhead": 0,
           "arrowwidth": 1
          },
          "coloraxis": {
           "colorbar": {
            "outlinewidth": 0,
            "ticks": ""
           }
          },
          "colorscale": {
           "diverging": [
            [
             0,
             "#8e0152"
            ],
            [
             0.1,
             "#c51b7d"
            ],
            [
             0.2,
             "#de77ae"
            ],
            [
             0.3,
             "#f1b6da"
            ],
            [
             0.4,
             "#fde0ef"
            ],
            [
             0.5,
             "#f7f7f7"
            ],
            [
             0.6,
             "#e6f5d0"
            ],
            [
             0.7,
             "#b8e186"
            ],
            [
             0.8,
             "#7fbc41"
            ],
            [
             0.9,
             "#4d9221"
            ],
            [
             1,
             "#276419"
            ]
           ],
           "sequential": [
            [
             0,
             "#0d0887"
            ],
            [
             0.1111111111111111,
             "#46039f"
            ],
            [
             0.2222222222222222,
             "#7201a8"
            ],
            [
             0.3333333333333333,
             "#9c179e"
            ],
            [
             0.4444444444444444,
             "#bd3786"
            ],
            [
             0.5555555555555556,
             "#d8576b"
            ],
            [
             0.6666666666666666,
             "#ed7953"
            ],
            [
             0.7777777777777778,
             "#fb9f3a"
            ],
            [
             0.8888888888888888,
             "#fdca26"
            ],
            [
             1,
             "#f0f921"
            ]
           ],
           "sequentialminus": [
            [
             0,
             "#0d0887"
            ],
            [
             0.1111111111111111,
             "#46039f"
            ],
            [
             0.2222222222222222,
             "#7201a8"
            ],
            [
             0.3333333333333333,
             "#9c179e"
            ],
            [
             0.4444444444444444,
             "#bd3786"
            ],
            [
             0.5555555555555556,
             "#d8576b"
            ],
            [
             0.6666666666666666,
             "#ed7953"
            ],
            [
             0.7777777777777778,
             "#fb9f3a"
            ],
            [
             0.8888888888888888,
             "#fdca26"
            ],
            [
             1,
             "#f0f921"
            ]
           ]
          },
          "colorway": [
           "#636efa",
           "#EF553B",
           "#00cc96",
           "#ab63fa",
           "#FFA15A",
           "#19d3f3",
           "#FF6692",
           "#B6E880",
           "#FF97FF",
           "#FECB52"
          ],
          "font": {
           "color": "#2a3f5f"
          },
          "geo": {
           "bgcolor": "white",
           "lakecolor": "white",
           "landcolor": "#E5ECF6",
           "showlakes": true,
           "showland": true,
           "subunitcolor": "white"
          },
          "hoverlabel": {
           "align": "left"
          },
          "hovermode": "closest",
          "mapbox": {
           "style": "light"
          },
          "paper_bgcolor": "white",
          "plot_bgcolor": "#E5ECF6",
          "polar": {
           "angularaxis": {
            "gridcolor": "white",
            "linecolor": "white",
            "ticks": ""
           },
           "bgcolor": "#E5ECF6",
           "radialaxis": {
            "gridcolor": "white",
            "linecolor": "white",
            "ticks": ""
           }
          },
          "scene": {
           "xaxis": {
            "backgroundcolor": "#E5ECF6",
            "gridcolor": "white",
            "gridwidth": 2,
            "linecolor": "white",
            "showbackground": true,
            "ticks": "",
            "zerolinecolor": "white"
           },
           "yaxis": {
            "backgroundcolor": "#E5ECF6",
            "gridcolor": "white",
            "gridwidth": 2,
            "linecolor": "white",
            "showbackground": true,
            "ticks": "",
            "zerolinecolor": "white"
           },
           "zaxis": {
            "backgroundcolor": "#E5ECF6",
            "gridcolor": "white",
            "gridwidth": 2,
            "linecolor": "white",
            "showbackground": true,
            "ticks": "",
            "zerolinecolor": "white"
           }
          },
          "shapedefaults": {
           "line": {
            "color": "#2a3f5f"
           }
          },
          "ternary": {
           "aaxis": {
            "gridcolor": "white",
            "linecolor": "white",
            "ticks": ""
           },
           "baxis": {
            "gridcolor": "white",
            "linecolor": "white",
            "ticks": ""
           },
           "bgcolor": "#E5ECF6",
           "caxis": {
            "gridcolor": "white",
            "linecolor": "white",
            "ticks": ""
           }
          },
          "title": {
           "x": 0.05
          },
          "xaxis": {
           "automargin": true,
           "gridcolor": "white",
           "linecolor": "white",
           "ticks": "",
           "title": {
            "standoff": 15
           },
           "zerolinecolor": "white",
           "zerolinewidth": 2
          },
          "yaxis": {
           "automargin": true,
           "gridcolor": "white",
           "linecolor": "white",
           "ticks": "",
           "title": {
            "standoff": 15
           },
           "zerolinecolor": "white",
           "zerolinewidth": 2
          }
         }
        },
        "xaxis": {
         "anchor": "y",
         "categoryarray": [
          "Nasoto-Bot",
          "Makoto-Bot"
         ],
         "categoryorder": "array",
         "domain": [
          0,
          1
         ],
         "title": {
          "text": "Chatbot"
         }
        },
        "yaxis": {
         "anchor": "x",
         "domain": [
          0,
          1
         ],
         "title": {
          "text": "Length of Utterances"
         }
        }
       }
      },
      "text/html": [
       "<div>\n",
       "        \n",
       "        \n",
       "            <div id=\"25f9ee6f-137b-4a52-a456-6c97834081c2\" class=\"plotly-graph-div\" style=\"height:525px; width:100%;\"></div>\n",
       "            <script type=\"text/javascript\">\n",
       "                require([\"plotly\"], function(Plotly) {\n",
       "                    window.PLOTLYENV=window.PLOTLYENV || {};\n",
       "                    \n",
       "                if (document.getElementById(\"25f9ee6f-137b-4a52-a456-6c97834081c2\")) {\n",
       "                    Plotly.newPlot(\n",
       "                        '25f9ee6f-137b-4a52-a456-6c97834081c2',\n",
       "                        [{\"alignmentgroup\": \"True\", \"hovertemplate\": \"Chatbot=%{x}<br>Length of Utterances=%{y}<extra></extra>\", \"legendgroup\": \"Nasoto-Bot\", \"marker\": {\"color\": \"#636efa\"}, \"name\": \"Nasoto-Bot\", \"notched\": false, \"offsetgroup\": \"Nasoto-Bot\", \"orientation\": \"v\", \"quartilemethod\": \"exclusive\", \"showlegend\": true, \"type\": \"box\", \"x\": [\"Nasoto-Bot\", \"Nasoto-Bot\", \"Nasoto-Bot\", \"Nasoto-Bot\"], \"x0\": \" \", \"xaxis\": \"x\", \"y\": [68, 101, 84, 48], \"y0\": \" \", \"yaxis\": \"y\"}, {\"alignmentgroup\": \"True\", \"hovertemplate\": \"Chatbot=%{x}<br>Length of Utterances=%{y}<extra></extra>\", \"legendgroup\": \"Makoto-Bot\", \"marker\": {\"color\": \"#EF553B\"}, \"name\": \"Makoto-Bot\", \"notched\": false, \"offsetgroup\": \"Makoto-Bot\", \"orientation\": \"v\", \"quartilemethod\": \"exclusive\", \"showlegend\": true, \"type\": \"box\", \"x\": [\"Makoto-Bot\", \"Makoto-Bot\", \"Makoto-Bot\", \"Makoto-Bot\"], \"x0\": \" \", \"xaxis\": \"x\", \"y\": [46, 88, 26, 39], \"y0\": \" \", \"yaxis\": \"y\"}],\n",
       "                        {\"boxmode\": \"group\", \"legend\": {\"title\": {\"text\": \"Chatbot\"}, \"tracegroupgap\": 0}, \"margin\": {\"t\": 60}, \"template\": {\"data\": {\"bar\": [{\"error_x\": {\"color\": \"#2a3f5f\"}, \"error_y\": {\"color\": \"#2a3f5f\"}, \"marker\": {\"line\": {\"color\": \"#E5ECF6\", \"width\": 0.5}}, \"type\": \"bar\"}], \"barpolar\": [{\"marker\": {\"line\": {\"color\": \"#E5ECF6\", \"width\": 0.5}}, \"type\": \"barpolar\"}], \"carpet\": [{\"aaxis\": {\"endlinecolor\": \"#2a3f5f\", \"gridcolor\": \"white\", \"linecolor\": \"white\", \"minorgridcolor\": \"white\", \"startlinecolor\": \"#2a3f5f\"}, \"baxis\": {\"endlinecolor\": \"#2a3f5f\", \"gridcolor\": \"white\", \"linecolor\": \"white\", \"minorgridcolor\": \"white\", \"startlinecolor\": \"#2a3f5f\"}, \"type\": \"carpet\"}], \"choropleth\": [{\"colorbar\": {\"outlinewidth\": 0, \"ticks\": \"\"}, \"type\": \"choropleth\"}], \"contour\": [{\"colorbar\": {\"outlinewidth\": 0, \"ticks\": \"\"}, \"colorscale\": [[0.0, \"#0d0887\"], [0.1111111111111111, \"#46039f\"], [0.2222222222222222, \"#7201a8\"], [0.3333333333333333, \"#9c179e\"], [0.4444444444444444, \"#bd3786\"], [0.5555555555555556, \"#d8576b\"], [0.6666666666666666, \"#ed7953\"], [0.7777777777777778, \"#fb9f3a\"], [0.8888888888888888, \"#fdca26\"], [1.0, \"#f0f921\"]], \"type\": \"contour\"}], \"contourcarpet\": [{\"colorbar\": {\"outlinewidth\": 0, \"ticks\": \"\"}, \"type\": \"contourcarpet\"}], \"heatmap\": [{\"colorbar\": {\"outlinewidth\": 0, \"ticks\": \"\"}, \"colorscale\": [[0.0, \"#0d0887\"], [0.1111111111111111, \"#46039f\"], [0.2222222222222222, \"#7201a8\"], [0.3333333333333333, \"#9c179e\"], [0.4444444444444444, \"#bd3786\"], [0.5555555555555556, \"#d8576b\"], [0.6666666666666666, \"#ed7953\"], [0.7777777777777778, \"#fb9f3a\"], [0.8888888888888888, \"#fdca26\"], [1.0, \"#f0f921\"]], \"type\": \"heatmap\"}], \"heatmapgl\": [{\"colorbar\": {\"outlinewidth\": 0, \"ticks\": \"\"}, \"colorscale\": [[0.0, \"#0d0887\"], [0.1111111111111111, \"#46039f\"], [0.2222222222222222, \"#7201a8\"], [0.3333333333333333, \"#9c179e\"], [0.4444444444444444, \"#bd3786\"], [0.5555555555555556, \"#d8576b\"], [0.6666666666666666, \"#ed7953\"], [0.7777777777777778, \"#fb9f3a\"], [0.8888888888888888, \"#fdca26\"], [1.0, \"#f0f921\"]], \"type\": \"heatmapgl\"}], \"histogram\": [{\"marker\": {\"colorbar\": {\"outlinewidth\": 0, \"ticks\": \"\"}}, \"type\": \"histogram\"}], \"histogram2d\": [{\"colorbar\": {\"outlinewidth\": 0, \"ticks\": \"\"}, \"colorscale\": [[0.0, \"#0d0887\"], [0.1111111111111111, \"#46039f\"], [0.2222222222222222, \"#7201a8\"], [0.3333333333333333, \"#9c179e\"], [0.4444444444444444, \"#bd3786\"], [0.5555555555555556, \"#d8576b\"], [0.6666666666666666, \"#ed7953\"], [0.7777777777777778, \"#fb9f3a\"], [0.8888888888888888, \"#fdca26\"], [1.0, \"#f0f921\"]], \"type\": \"histogram2d\"}], \"histogram2dcontour\": [{\"colorbar\": {\"outlinewidth\": 0, \"ticks\": \"\"}, \"colorscale\": [[0.0, \"#0d0887\"], [0.1111111111111111, \"#46039f\"], [0.2222222222222222, \"#7201a8\"], [0.3333333333333333, \"#9c179e\"], [0.4444444444444444, \"#bd3786\"], [0.5555555555555556, \"#d8576b\"], [0.6666666666666666, \"#ed7953\"], [0.7777777777777778, \"#fb9f3a\"], [0.8888888888888888, \"#fdca26\"], [1.0, \"#f0f921\"]], \"type\": \"histogram2dcontour\"}], \"mesh3d\": [{\"colorbar\": {\"outlinewidth\": 0, \"ticks\": \"\"}, \"type\": \"mesh3d\"}], \"parcoords\": [{\"line\": {\"colorbar\": {\"outlinewidth\": 0, \"ticks\": \"\"}}, \"type\": \"parcoords\"}], \"pie\": [{\"automargin\": true, \"type\": \"pie\"}], \"scatter\": [{\"marker\": {\"colorbar\": {\"outlinewidth\": 0, \"ticks\": \"\"}}, \"type\": \"scatter\"}], \"scatter3d\": [{\"line\": {\"colorbar\": {\"outlinewidth\": 0, \"ticks\": \"\"}}, \"marker\": {\"colorbar\": {\"outlinewidth\": 0, \"ticks\": \"\"}}, \"type\": \"scatter3d\"}], \"scattercarpet\": [{\"marker\": {\"colorbar\": {\"outlinewidth\": 0, \"ticks\": \"\"}}, \"type\": \"scattercarpet\"}], \"scattergeo\": [{\"marker\": {\"colorbar\": {\"outlinewidth\": 0, \"ticks\": \"\"}}, \"type\": \"scattergeo\"}], \"scattergl\": [{\"marker\": {\"colorbar\": {\"outlinewidth\": 0, \"ticks\": \"\"}}, \"type\": \"scattergl\"}], \"scattermapbox\": [{\"marker\": {\"colorbar\": {\"outlinewidth\": 0, \"ticks\": \"\"}}, \"type\": \"scattermapbox\"}], \"scatterpolar\": [{\"marker\": {\"colorbar\": {\"outlinewidth\": 0, \"ticks\": \"\"}}, \"type\": \"scatterpolar\"}], \"scatterpolargl\": [{\"marker\": {\"colorbar\": {\"outlinewidth\": 0, \"ticks\": \"\"}}, \"type\": \"scatterpolargl\"}], \"scatterternary\": [{\"marker\": {\"colorbar\": {\"outlinewidth\": 0, \"ticks\": \"\"}}, \"type\": \"scatterternary\"}], \"surface\": [{\"colorbar\": {\"outlinewidth\": 0, \"ticks\": \"\"}, \"colorscale\": [[0.0, \"#0d0887\"], [0.1111111111111111, \"#46039f\"], [0.2222222222222222, \"#7201a8\"], [0.3333333333333333, \"#9c179e\"], [0.4444444444444444, \"#bd3786\"], [0.5555555555555556, \"#d8576b\"], [0.6666666666666666, \"#ed7953\"], [0.7777777777777778, \"#fb9f3a\"], [0.8888888888888888, \"#fdca26\"], [1.0, \"#f0f921\"]], \"type\": \"surface\"}], \"table\": [{\"cells\": {\"fill\": {\"color\": \"#EBF0F8\"}, \"line\": {\"color\": \"white\"}}, \"header\": {\"fill\": {\"color\": \"#C8D4E3\"}, \"line\": {\"color\": \"white\"}}, \"type\": \"table\"}]}, \"layout\": {\"annotationdefaults\": {\"arrowcolor\": \"#2a3f5f\", \"arrowhead\": 0, \"arrowwidth\": 1}, \"coloraxis\": {\"colorbar\": {\"outlinewidth\": 0, \"ticks\": \"\"}}, \"colorscale\": {\"diverging\": [[0, \"#8e0152\"], [0.1, \"#c51b7d\"], [0.2, \"#de77ae\"], [0.3, \"#f1b6da\"], [0.4, \"#fde0ef\"], [0.5, \"#f7f7f7\"], [0.6, \"#e6f5d0\"], [0.7, \"#b8e186\"], [0.8, \"#7fbc41\"], [0.9, \"#4d9221\"], [1, \"#276419\"]], \"sequential\": [[0.0, \"#0d0887\"], [0.1111111111111111, \"#46039f\"], [0.2222222222222222, \"#7201a8\"], [0.3333333333333333, \"#9c179e\"], [0.4444444444444444, \"#bd3786\"], [0.5555555555555556, \"#d8576b\"], [0.6666666666666666, \"#ed7953\"], [0.7777777777777778, \"#fb9f3a\"], [0.8888888888888888, \"#fdca26\"], [1.0, \"#f0f921\"]], \"sequentialminus\": [[0.0, \"#0d0887\"], [0.1111111111111111, \"#46039f\"], [0.2222222222222222, \"#7201a8\"], [0.3333333333333333, \"#9c179e\"], [0.4444444444444444, \"#bd3786\"], [0.5555555555555556, \"#d8576b\"], [0.6666666666666666, \"#ed7953\"], [0.7777777777777778, \"#fb9f3a\"], [0.8888888888888888, \"#fdca26\"], [1.0, \"#f0f921\"]]}, \"colorway\": [\"#636efa\", \"#EF553B\", \"#00cc96\", \"#ab63fa\", \"#FFA15A\", \"#19d3f3\", \"#FF6692\", \"#B6E880\", \"#FF97FF\", \"#FECB52\"], \"font\": {\"color\": \"#2a3f5f\"}, \"geo\": {\"bgcolor\": \"white\", \"lakecolor\": \"white\", \"landcolor\": \"#E5ECF6\", \"showlakes\": true, \"showland\": true, \"subunitcolor\": \"white\"}, \"hoverlabel\": {\"align\": \"left\"}, \"hovermode\": \"closest\", \"mapbox\": {\"style\": \"light\"}, \"paper_bgcolor\": \"white\", \"plot_bgcolor\": \"#E5ECF6\", \"polar\": {\"angularaxis\": {\"gridcolor\": \"white\", \"linecolor\": \"white\", \"ticks\": \"\"}, \"bgcolor\": \"#E5ECF6\", \"radialaxis\": {\"gridcolor\": \"white\", \"linecolor\": \"white\", \"ticks\": \"\"}}, \"scene\": {\"xaxis\": {\"backgroundcolor\": \"#E5ECF6\", \"gridcolor\": \"white\", \"gridwidth\": 2, \"linecolor\": \"white\", \"showbackground\": true, \"ticks\": \"\", \"zerolinecolor\": \"white\"}, \"yaxis\": {\"backgroundcolor\": \"#E5ECF6\", \"gridcolor\": \"white\", \"gridwidth\": 2, \"linecolor\": \"white\", \"showbackground\": true, \"ticks\": \"\", \"zerolinecolor\": \"white\"}, \"zaxis\": {\"backgroundcolor\": \"#E5ECF6\", \"gridcolor\": \"white\", \"gridwidth\": 2, \"linecolor\": \"white\", \"showbackground\": true, \"ticks\": \"\", \"zerolinecolor\": \"white\"}}, \"shapedefaults\": {\"line\": {\"color\": \"#2a3f5f\"}}, \"ternary\": {\"aaxis\": {\"gridcolor\": \"white\", \"linecolor\": \"white\", \"ticks\": \"\"}, \"baxis\": {\"gridcolor\": \"white\", \"linecolor\": \"white\", \"ticks\": \"\"}, \"bgcolor\": \"#E5ECF6\", \"caxis\": {\"gridcolor\": \"white\", \"linecolor\": \"white\", \"ticks\": \"\"}}, \"title\": {\"x\": 0.05}, \"xaxis\": {\"automargin\": true, \"gridcolor\": \"white\", \"linecolor\": \"white\", \"ticks\": \"\", \"title\": {\"standoff\": 15}, \"zerolinecolor\": \"white\", \"zerolinewidth\": 2}, \"yaxis\": {\"automargin\": true, \"gridcolor\": \"white\", \"linecolor\": \"white\", \"ticks\": \"\", \"title\": {\"standoff\": 15}, \"zerolinecolor\": \"white\", \"zerolinewidth\": 2}}}, \"xaxis\": {\"anchor\": \"y\", \"categoryarray\": [\"Nasoto-Bot\", \"Makoto-Bot\"], \"categoryorder\": \"array\", \"domain\": [0.0, 1.0], \"title\": {\"text\": \"Chatbot\"}}, \"yaxis\": {\"anchor\": \"x\", \"domain\": [0.0, 1.0], \"title\": {\"text\": \"Length of Utterances\"}}},\n",
       "                        {\"responsive\": true}\n",
       "                    ).then(function(){\n",
       "                            \n",
       "var gd = document.getElementById('25f9ee6f-137b-4a52-a456-6c97834081c2');\n",
       "var x = new MutationObserver(function (mutations, observer) {{\n",
       "        var display = window.getComputedStyle(gd).display;\n",
       "        if (!display || display === 'none') {{\n",
       "            console.log([gd, 'removed!']);\n",
       "            Plotly.purge(gd);\n",
       "            observer.disconnect();\n",
       "        }}\n",
       "}});\n",
       "\n",
       "// Listen for the removal of the full notebook cells\n",
       "var notebookContainer = gd.closest('#notebook-container');\n",
       "if (notebookContainer) {{\n",
       "    x.observe(notebookContainer, {childList: true});\n",
       "}}\n",
       "\n",
       "// Listen for the clearing of the current output cell\n",
       "var outputEl = gd.closest('.output');\n",
       "if (outputEl) {{\n",
       "    x.observe(outputEl, {childList: true});\n",
       "}}\n",
       "\n",
       "                        })\n",
       "                };\n",
       "                });\n",
       "            </script>\n",
       "        </div>"
      ]
     },
     "metadata": {},
     "output_type": "display_data"
    }
   ],
   "source": [
    "fig = px.box(df_cd , \"Chatbot\", \"Length of Utterances\", \"Chatbot\")\n",
    "fig.update_traces(quartilemethod=\"exclusive\") # or \"inclusive\", or \"linear\" by default\n",
    "fig.show()"
   ]
  },
  {
   "cell_type": "markdown",
   "metadata": {},
   "source": [
    "# RQ1: Does the personality demonstrated by a chatbot affect the user’s experience?"
   ]
  },
  {
   "cell_type": "markdown",
   "metadata": {},
   "source": [
    "\n",
    "- Rating of experience based on the attitude/personality of the chatbot\n",
    "- Anlayse perferred chatbot\n",
    "- Explain why you preferred interacting with this chatbot? \n",
    "- Compare Duration (time & # of turns) for each chatbot\n",
    "- Lenghth of utterances\n",
    "- Look at whether their personality matches that of the preffered chatbot \n",
    "\n",
    "\n"
   ]
  },
  {
   "cell_type": "markdown",
   "metadata": {},
   "source": [
    "### Check if there's a correlation between the preffered chatbot and personality scores"
   ]
  },
  {
   "cell_type": "markdown",
   "metadata": {},
   "source": [
    "#### Label data scores for each person and labeled with perferred chatbot"
   ]
  },
  {
   "cell_type": "markdown",
   "metadata": {},
   "source": [
    "#### TO DO: try predict what chatbot they would prefer based on their scores"
   ]
  },
  {
   "cell_type": "code",
   "execution_count": 42,
   "metadata": {},
   "outputs": [
    {
     "name": "stderr",
     "output_type": "stream",
     "text": [
      "/Users/sineadfarrell/opt/anaconda3/lib/python3.7/site-packages/ipykernel_launcher.py:1: FutureWarning: The pandas.np module is deprecated and will be removed from pandas in a future version. Import numpy directly instead\n",
      "  \"\"\"Entry point for launching an IPython kernel.\n"
     ]
    },
    {
     "data": {
      "text/html": [
       "<div>\n",
       "<style scoped>\n",
       "    .dataframe tbody tr th:only-of-type {\n",
       "        vertical-align: middle;\n",
       "    }\n",
       "\n",
       "    .dataframe tbody tr th {\n",
       "        vertical-align: top;\n",
       "    }\n",
       "\n",
       "    .dataframe thead th {\n",
       "        text-align: right;\n",
       "    }\n",
       "</style>\n",
       "<table border=\"1\" class=\"dataframe\">\n",
       "  <thead>\n",
       "    <tr style=\"text-align: right;\">\n",
       "      <th></th>\n",
       "      <th>Extraversion Score</th>\n",
       "      <th>Agreeableness Score</th>\n",
       "      <th>Preffered Chatbot</th>\n",
       "    </tr>\n",
       "  </thead>\n",
       "  <tbody>\n",
       "    <tr>\n",
       "      <th>0</th>\n",
       "      <td>25</td>\n",
       "      <td>36</td>\n",
       "      <td>Makoto</td>\n",
       "    </tr>\n",
       "    <tr>\n",
       "      <th>1</th>\n",
       "      <td>16</td>\n",
       "      <td>27</td>\n",
       "      <td>Makoto</td>\n",
       "    </tr>\n",
       "    <tr>\n",
       "      <th>2</th>\n",
       "      <td>23</td>\n",
       "      <td>31</td>\n",
       "      <td>Nasoto</td>\n",
       "    </tr>\n",
       "    <tr>\n",
       "      <th>3</th>\n",
       "      <td>30</td>\n",
       "      <td>38</td>\n",
       "      <td>Makoto</td>\n",
       "    </tr>\n",
       "  </tbody>\n",
       "</table>\n",
       "</div>"
      ],
      "text/plain": [
       "   Extraversion Score  Agreeableness Score Preffered Chatbot\n",
       "0                  25                   36            Makoto\n",
       "1                  16                   27            Makoto\n",
       "2                  23                   31            Nasoto\n",
       "3                  30                   38            Makoto"
      ]
     },
     "execution_count": 42,
     "metadata": {},
     "output_type": "execute_result"
    }
   ],
   "source": [
    "df_personality = pd.DataFrame(pd.np.empty((0, 3)))\n",
    "df_personality.columns = ['Extraversion Score', 'Agreeableness Score', 'Preffered Chatbot']\n",
    "\n",
    "### using df_merged\n",
    "df_personality['Extraversion Score'] = df_merged['extraversion score']\n",
    "df_personality['Agreeableness Score']= df_merged['agreeableness score']\n",
    "df_personality['Preffered Chatbot'] =  df_merged['Which chatbot did you prefer interacting with?']\n",
    "\n",
    "df_personality"
   ]
  },
  {
   "cell_type": "markdown",
   "metadata": {},
   "source": [
    "# RQ2: Can Personality be simulated by a chatbot?"
   ]
  },
  {
   "cell_type": "markdown",
   "metadata": {},
   "source": [
    "- Analyse any descriptions of the chatbots for key words associated with personality\n",
    "- look at response for: How would you rate your experience with Makoto based on the its attitude/personality? + expansion\n",
    "\n"
   ]
  },
  {
   "cell_type": "markdown",
   "metadata": {},
   "source": [
    "# RQ3: Can a user’s personality be inferred through their interaction with a chatbot?"
   ]
  },
  {
   "cell_type": "markdown",
   "metadata": {},
   "source": [
    "- NLP on the language used in all utterances (for both Chatbots)\n",
    "- Compare personality assigned through test with these results"
   ]
  },
  {
   "cell_type": "code",
   "execution_count": null,
   "metadata": {},
   "outputs": [],
   "source": []
  }
 ],
 "metadata": {
  "kernelspec": {
   "display_name": "Python 3",
   "language": "python",
   "name": "python3"
  },
  "language_info": {
   "codemirror_mode": {
    "name": "ipython",
    "version": 3
   },
   "file_extension": ".py",
   "mimetype": "text/x-python",
   "name": "python",
   "nbconvert_exporter": "python",
   "pygments_lexer": "ipython3",
   "version": "3.7.4"
  }
 },
 "nbformat": 4,
 "nbformat_minor": 4
}

{
 "cells": [
  {
   "cell_type": "markdown",
   "metadata": {},
   "source": [
    "# Anonymise data"
   ]
  },
  {
   "cell_type": "markdown",
   "metadata": {},
   "source": [
    "### Removing names/email addresses from the survey data \n",
    "#### Save the dataframes to pickle files"
   ]
  },
  {
   "cell_type": "code",
   "execution_count": 1,
   "metadata": {},
   "outputs": [],
   "source": [
    "import json\n",
    "from pandas.io.json import json_normalize\n",
    "import os\n",
    "import logging\n",
    "import logging.handlers\n",
    "import pandas as pd\n",
    "import numpy as np\n",
    "import glob\n",
    "from datetime import datetime,timedelta\n",
    "from collections import Counter\n",
    "import nltk \n",
    "from functools import reduce\n",
    "import re\n",
    "from scipy.stats import pointbiserialr\n",
    "import matplotlib\n",
    "import matplotlib.pyplot as plt\n",
    "from matplotlib_venn import venn3\n",
    "import matplotlib.pyplot as plt\n",
    "import plotly.express as px\n",
    "%matplotlib inline\n",
    "matplotlib.style.use('ggplot')\n",
    "import seaborn as seabornInstance \n",
    "from sklearn.model_selection import train_test_split \n",
    "from sklearn.linear_model import LinearRegression\n",
    "from sklearn import metrics\n",
    "import seaborn as sns\n",
    "color = sns.color_palette()\n",
    "sns.set_style('darkgrid')"
   ]
  },
  {
   "cell_type": "code",
   "execution_count": 2,
   "metadata": {},
   "outputs": [],
   "source": [
    "def dt_parse(t):\n",
    "    ''' \n",
    "    Function that parses datetime so it can be used to find duration of conversation\n",
    "    INPUT: a string t representing a message timestamp\n",
    "    OUTPUT: a string ret representing the message timestamp in the format %Y-%m-%dT%H:%M\n",
    "    '''\n",
    "    ret = datetime.strptime(t[0:16],'%Y-%m-%dT%H:%M')\n",
    "    return ret "
   ]
  },
  {
   "cell_type": "code",
   "execution_count": 3,
   "metadata": {},
   "outputs": [],
   "source": [
    "def create_utterance_df(rootDir):\n",
    "    '''\n",
    "    Function that traverses subfolders of a root directory \n",
    "    where each subfolder corresponds to a conversation with one of the chatbots.\n",
    "    Each subfolder contains JSON files, each corresponding to a single user message. \n",
    "    '''\n",
    "    \n",
    "    jsdata = []\n",
    "    df = pd.DataFrame(pd.np.empty((0, 7)))\n",
    "    df.columns = ['Username','Duration', 'Chatbot', 'NumberOfTurns', 'Utterance','Word_Count', \"Avg_Utt_Len\"]\n",
    "\n",
    "    for subdir, dirs, files in os.walk(rootDir): # each conversation has its own folder of json files\n",
    "        for dir_ in dirs: # for each conversation\n",
    "            message_timestamps = []\n",
    "            user_utterances = []\n",
    "            char_counts = []\n",
    "            numberOfTurns = 0\n",
    "            word_count = 0\n",
    "            for file in glob.glob(rootDir+dir_+'/'+'*.json'):\n",
    "                with open(file) as f:\n",
    "                    data = json.load(f)\n",
    "                    numberOfTurns += 1\n",
    "                    message_timestamps.append(dt_parse(data['timestamp']))\n",
    "                    user_utterances.append(data['text'])\n",
    "                    for word in (data['text']).split():\n",
    "                        word_count += 1\n",
    "                    char_counts.append(len(data['text']) - data['text'].count(' '))\n",
    "            avg_char_count = np.mean(char_counts)       \n",
    "\n",
    "\n",
    "            #add post interaction survey (Nasoto)\n",
    "\n",
    "            #Duration\n",
    "            maxTime = max(dt for dt in message_timestamps)\n",
    "            minTime = min(dt for dt in message_timestamps)\n",
    "            duration =  maxTime - minTime\n",
    "\n",
    "            #get the information from nasoto inserted\n",
    "            jsdata.append({'Username': data['from']['name'],\n",
    "                           'Duration': duration,'Chatbot': data['recipient']['name'], \n",
    "                           'NumberOfTurns' : numberOfTurns, 'Utterance': user_utterances, \n",
    "                            'Word_Count': word_count, 'Avg_Utt_Len': avg_char_count})\n",
    "\n",
    "\n",
    "\n",
    "    df =  pd.DataFrame.from_records(jsdata)\n",
    "    df[:]['Duration'] / np.timedelta64(1, 'm')\n",
    "    return df  "
   ]
  },
  {
   "cell_type": "markdown",
   "metadata": {},
   "source": [
    "## Interaction DataFrames"
   ]
  },
  {
   "cell_type": "code",
   "execution_count": 4,
   "metadata": {},
   "outputs": [
    {
     "name": "stderr",
     "output_type": "stream",
     "text": [
      "/Users/sineadfarrell/opt/anaconda3/lib/python3.7/site-packages/ipykernel_launcher.py:9: FutureWarning:\n",
      "\n",
      "The pandas.np module is deprecated and will be removed from pandas in a future version. Import numpy directly instead\n",
      "\n"
     ]
    }
   ],
   "source": [
    "df_nasoto = create_utterance_df('webchat-nasoto-userstudy/')\n",
    "df_makoto = create_utterance_df('webchat-makoto-userstudy/')"
   ]
  },
  {
   "cell_type": "markdown",
   "metadata": {},
   "source": [
    "# Survey DataFrames "
   ]
  },
  {
   "cell_type": "code",
   "execution_count": 5,
   "metadata": {},
   "outputs": [],
   "source": [
    "PostMakotoDir = 'surveys-userstudy/Post-Interaction Survey (MAKOTO).csv'\n",
    "df_PostMakoto = pd.read_csv(PostMakotoDir, error_bad_lines=False)\n",
    "df_PostMakoto['Username'] =  df_PostMakoto['Username'].str.replace(r'@ucdconnect.ie', '')"
   ]
  },
  {
   "cell_type": "code",
   "execution_count": 6,
   "metadata": {},
   "outputs": [],
   "source": [
    "PostNasotoDir = 'surveys-userstudy/Post-Interaction Survey (NASOTO).csv'\n",
    "df_PostNasoto = pd.read_csv(PostNasotoDir, error_bad_lines=False)\n",
    "df_PostNasoto['Username'] =  df_PostNasoto['Username'].str.replace(r'@ucdconnect.ie', '')"
   ]
  },
  {
   "cell_type": "markdown",
   "metadata": {},
   "source": [
    "## Demographic Survey"
   ]
  },
  {
   "cell_type": "code",
   "execution_count": 7,
   "metadata": {},
   "outputs": [],
   "source": [
    "PreInteractionPath = 'surveys-userstudy/Pre-Interaction Survey.csv'\n",
    "df_dem = pd.read_csv(PreInteractionPath,  error_bad_lines=False)\n",
    "df_dem['Username'] =  df_dem['Username'].str.replace(r'@ucdconnect.ie', '')"
   ]
  },
  {
   "cell_type": "code",
   "execution_count": 8,
   "metadata": {},
   "outputs": [],
   "source": [
    "Survey4Dir = 'surveys-userstudy/Final Survey .csv'\n",
    "df_survey4 = pd.read_csv(Survey4Dir)\n",
    "df_survey4['Username'] =  df_survey4['Username'].str.replace(r'@ucdconnect.ie', '')"
   ]
  },
  {
   "cell_type": "markdown",
   "metadata": {},
   "source": [
    "# Create Dataframes"
   ]
  },
  {
   "cell_type": "code",
   "execution_count": null,
   "metadata": {},
   "outputs": [],
   "source": []
  },
  {
   "cell_type": "code",
   "execution_count": 14,
   "metadata": {
    "scrolled": true
   },
   "outputs": [],
   "source": [
    "df_allSurveys =  [df_dem, df_PostMakoto, df_PostNasoto, df_survey4, df_nasoto, df_makoto]\n",
    "\n",
    "\n",
    "df_merged = reduce(lambda  left,right: pd.merge(left,right,on=['Username'],\n",
    "                                            how='outer'), df_allSurveys)\n",
    "df_merged = df_merged[:-1]\n"
   ]
  },
  {
   "cell_type": "code",
   "execution_count": 15,
   "metadata": {},
   "outputs": [
    {
     "name": "stderr",
     "output_type": "stream",
     "text": [
      "/Users/sineadfarrell/opt/anaconda3/lib/python3.7/site-packages/ipykernel_launcher.py:1: FutureWarning:\n",
      "\n",
      "The pandas.np module is deprecated and will be removed from pandas in a future version. Import numpy directly instead\n",
      "\n"
     ]
    }
   ],
   "source": [
    "df_merged['Chatbot_binary'] = pd.np.where(df_merged['Which chatbot did you prefer interacting with?'].str.contains(\"Makoto\"), 0, 1)\n"
   ]
  },
  {
   "cell_type": "markdown",
   "metadata": {},
   "source": [
    "# Anonymise username"
   ]
  },
  {
   "cell_type": "code",
   "execution_count": 13,
   "metadata": {},
   "outputs": [],
   "source": [
    "df_merged.drop(columns=[\"Username\"], inplace=True)\n",
    "df_merged.to_pickle(\"./df_merged.pkl\")"
   ]
  },
  {
   "cell_type": "code",
   "execution_count": 17,
   "metadata": {},
   "outputs": [],
   "source": [
    "df_dem.drop(columns=[\"Username\"], inplace= True)\n",
    "df_dem.to_pickle(\"./df_dem.pkl\")"
   ]
  },
  {
   "cell_type": "code",
   "execution_count": null,
   "metadata": {},
   "outputs": [],
   "source": [
    "frames = [df_nasoto, df_makoto]\n",
    "df_chatbotdata =  pd.concat(frames)\n",
    "df_chatbotdata"
   ]
  }
 ],
 "metadata": {
  "kernelspec": {
   "display_name": "Python 3",
   "language": "python",
   "name": "python3"
  },
  "language_info": {
   "codemirror_mode": {
    "name": "ipython",
    "version": 3
   },
   "file_extension": ".py",
   "mimetype": "text/x-python",
   "name": "python",
   "nbconvert_exporter": "python",
   "pygments_lexer": "ipython3",
   "version": "3.7.4"
  }
 },
 "nbformat": 4,
 "nbformat_minor": 4
}

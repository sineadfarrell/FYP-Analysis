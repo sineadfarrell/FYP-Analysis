{
 "cells": [
  {
   "cell_type": "code",
   "execution_count": null,
   "metadata": {},
   "outputs": [],
   "source": [
    "rootDirNasoto = 'webchat-nasoto-userstudy/' \n",
    "\n",
    "jsdata_nasoto = []\n",
    "\n",
    "df_nasoto = pd.DataFrame(pd.np.empty((0, 7)))\n",
    "df_nasoto.columns = ['Username','Duration', 'Chatbot', 'NumberOfTurns', 'Utterance','Number of words', 'Number of chars']\n",
    "\n",
    "for subdir, dirs, files in os.walk(rootDirNasoto): \n",
    "    for dire in dirs:\n",
    "        arrTime = []\n",
    "        arrUtterance = []\n",
    "        numberOfTurns = 0\n",
    "        count = 0\n",
    "        count_ch = 0\n",
    "        for file in glob.glob(rootDirNasoto+dire+'/'+'*.json'):\n",
    "            with open(file) as f:\n",
    "                countChar = 0\n",
    "                data = json.load(f)\n",
    "                numberOfTurns += 1\n",
    "                arrTime.append( dt_parse(data['timestamp']))\n",
    "                arrUtterance.append(data['text'])\n",
    "                for word in (data['text']).split():\n",
    "                    count += 1\n",
    "                    for char in word:\n",
    "                        count_ch += (len(char))\n",
    "                    countChar = count_ch\n",
    "            \n",
    "        \n",
    "        \n",
    "        #add post interaction survey (Nasoto)\n",
    "        \n",
    "        #Duration\n",
    "        maxTime = max(dt for dt in arrTime )\n",
    "        minTime = min(dt for dt in arrTime)\n",
    "        duration =  maxTime - minTime\n",
    "        \n",
    "        #get the information from nasoto inserted\n",
    "        jsdata_nasoto.append({'Username': data['from']['name'],\n",
    "                       'Duration': duration,'Chatbot': data['recipient']['name'], \n",
    "                       'NumberOfTurns' : numberOfTurns, 'Utterance': arrUtterance, 'Number of words': count,\n",
    "                             'Number of chars': countChar})\n",
    "\n",
    "\n",
    "\n",
    "df_nasoto =  pd.DataFrame.from_records(jsdata_nasoto)\n",
    "df_nasoto[:]['Duration'] / np.timedelta64(1, 'm') \n",
    "df_nasoto"
   ]
  }
 ],
 "metadata": {
  "kernelspec": {
   "display_name": "Python 3",
   "language": "python",
   "name": "python3"
  },
  "language_info": {
   "codemirror_mode": {
    "name": "ipython",
    "version": 3
   },
   "file_extension": ".py",
   "mimetype": "text/x-python",
   "name": "python",
   "nbconvert_exporter": "python",
   "pygments_lexer": "ipython3",
   "version": "3.7.4"
  }
 },
 "nbformat": 4,
 "nbformat_minor": 4
}
